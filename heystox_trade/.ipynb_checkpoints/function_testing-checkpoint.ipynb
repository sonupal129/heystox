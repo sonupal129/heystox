{
 "cells": [
  {
   "cell_type": "code",
   "execution_count": 1,
   "metadata": {},
   "outputs": [],
   "source": [
    "from market_analysis.models import Candle, UserProfile, Symbol, SortedStocksList, StrategyTimestamp\n",
    "# from market_analysis import views\n",
    "from django.contrib.auth.models import User\n",
    "from market_analysis.heystox_intraday.select_stocks_for_trading import *\n",
    "import pandas as pd\n",
    "# from heystox_trade.settings import *\n",
    "from datetime import datetime, timedelta\n",
    "from market_analysis.heystox_intraday.intraday_fetchdata import *\n",
    "from market_analysis.tasks.stock_data_import_tasks import *\n",
    "from market_analysis.tasks.day_trading_tasks import *\n",
    "from django.core.cache import cache, caches\n",
    "from datetime import time, timedelta, datetime\n",
    "from market_analysis.heystox_intraday.trading_indicator import *\n",
    "import time"
   ]
  },
  {
   "cell_type": "code",
   "execution_count": 2,
   "metadata": {},
   "outputs": [],
   "source": [
    "# sorted_stocks = SortedStocksList.objects.filter(created_at__date=datetime.now().date())\n",
    "# sorted_stock = SortedStocksList.objects.get(symbol__symbol=\"hindpetro\", created_at__date=datetime.now().date())\n",
    "# print(sorted_stock.created_at)\n",
    "# print(sorted_stock.entry_type)"
   ]
  },
  {
   "cell_type": "code",
   "execution_count": 3,
   "metadata": {
    "scrolled": true
   },
   "outputs": [],
   "source": [
    "# # MACD Crossover\n",
    "# today_date = datetime.today().date()\n",
    "# df = get_macd_data(sorted_stock.symbol)\n",
    "# df.loc[(df[\"signal\"] != df[\"signal\"].shift()) & (df[\"signal\"] == \"BUY\"), \"signal\"] = \"BUY_CROSSOVER\"\n",
    "# df.loc[(df[\"signal\"] != df[\"signal\"].shift()) & (df[\"signal\"] == \"SELL\"), \"signal\"] = \"SELL_CROSSOVER\"\n",
    "# df = df.loc[df[\"date\"] > str(today_date)]\n",
    "# new_df = df.copy(deep=True).drop(df.tail(1).index)\n",
    "# try:\n",
    "#     if sorted_stock.entry_type == \"SELL\":\n",
    "#         last_crossover = new_df[new_df.signal.str.endswith(\"SELL_CROSSOVER\")].iloc[-1]\n",
    "#     elif sorted_stock.entry_type == \"BUY\":\n",
    "#         last_crossover = new_df[new_df.signal.str.endswith(\"BUY_CROSSOVER\")].iloc[-1]\n",
    "# except:\n",
    "#     last_crossover = None\n",
    "# if last_crossover is not None:\n",
    "#     df_after_last_crossover = df.loc[df[\"date\"] > last_crossover.date]\n",
    "#     try:\n",
    "#         if last_crossover.signal == \"SELL_CROSSOVER\":\n",
    "#             crossover_signal = df_after_last_crossover.loc[(df.macd_diff <= -0.070)].iloc[0]\n",
    "#         elif last_crossover.signal == \"BUY_CROSSOVER\":\n",
    "#             crossover_signal = df_after_last_crossover.loc[(df.macd_diff >= 0.070)].iloc[0]\n",
    "#     except:\n",
    "#         crossover_signal = None\n",
    "#     if crossover_signal is not None:\n",
    "#         print(\"raju\")\n",
    "# #         print(crossover_signal.item)\n",
    "# df.loc[(df.macd_diff <= -0.070)] # Signal\n",
    "# # df[df.signal.str.endswith(\"SELL_CROSSOVER\")] # Crossover\n"
   ]
  },
  {
   "cell_type": "code",
   "execution_count": 4,
   "metadata": {},
   "outputs": [],
   "source": [
    "# # Shochastic Crossover\n",
    "# today_date = datetime.today().date()\n",
    "# df = get_stochastic_data(sorted_stock.symbol)\n",
    "# df.loc[(df[\"signal\"] != df[\"signal\"].shift()) & (df[\"signal\"] == \"BUY\"), \"signal\"] = \"BUY_CROSSOVER\"\n",
    "# df.loc[(df[\"signal\"] != df[\"signal\"].shift()) & (df[\"signal\"] == \"SELL\"), \"signal\"] = \"SELL_CROSSOVER\"\n",
    "# df = df.loc[df[\"date\"] > str(today_date)]\n",
    "# try:\n",
    "#     if sorted_stock.entry_type == \"SELL\":\n",
    "#         last_crossover = df[df.signal.str.endswith(\"SELL_CROSSOVER\")].iloc[-6]\n",
    "#     elif sorted_stock.entry_type == \"BUY\":\n",
    "#         last_crossover = df[df.signal.str.endswith(\"BUY_CROSSOVER\")].iloc[-1]\n",
    "# except:\n",
    "#     last_crossover = None\n",
    "# if last_crossover is not None:\n",
    "#     df_after_last_crossover = df.loc[df[\"date\"] > last_crossover.date]\n",
    "#     try:\n",
    "#         if last_crossover.signal == \"SELL_CROSSOVER\":\n",
    "#             crossover_signal = df_after_last_crossover.loc[(df.stoch_diff <= -22.70)].iloc[0]\n",
    "#         elif last_crossover.signal == \"BUY_CROSSOVER\":\n",
    "#             crossover_signal = df_after_last_crossover.loc[(df.stoch_diff >= 0.070)].iloc[0]\n",
    "#     except:\n",
    "#         crossover_signal = None\n",
    "#     if crossover_signal is not None and last_crossover is not None:\n",
    "#         print(\"RAJU\")\n",
    "# df.loc[(df.stoch_diff <= -22.70)] # Signal"
   ]
  },
  {
   "cell_type": "code",
   "execution_count": null,
   "metadata": {},
   "outputs": [],
   "source": []
  },
  {
   "cell_type": "code",
   "execution_count": 5,
   "metadata": {
    "scrolled": true
   },
   "outputs": [],
   "source": [
    "# raju = [\"adanient\", \"bhel\", \"dlf\", \"gmrinfra\", \"gail\", \"infratel\", \"ioc\", \"idea\", \"nhpc\", \"pnb\", \"relinfra\", \"recltd\", \"spencers\", \"tatapower\", \"vakrangee\", \"yesbank\", \"ujjivansfb\", \"granules\", \"mothersumi\", \"adanipower\", \"dishtv\", \"sail\", \"nationalum\", \"jswsteel\", \"federalbnk\", \"jindalstel\", \"idfcfirstb\", \"rvnl\", \"equitas\"]\n",
    "# fifth = date(2020,1,25)\n",
    "# for r in raju:\n",
    "#     symbol = Symbol.objects.get(symbol=r)\n",
    "#     SortedStocksList.objects.create(symbol=symbol, entry_type=\"BUY\")\n",
    "# # Candle.objects.filter(date__date=fifth, symbol__symbol__in=raju)\n",
    "# for candle in Candle.objects.filter(date__date=fifth, symbol__symbol__in=raju):\n",
    "#     candle.date = candle.date + timedelta(1)\n",
    "#     candle.save()"
   ]
  },
  {
   "cell_type": "code",
   "execution_count": 10,
   "metadata": {},
   "outputs": [
    {
     "data": {
      "text/plain": [
       "<Response [403]>"
      ]
     },
     "execution_count": 10,
     "metadata": {},
     "output_type": "execute_result"
    }
   ],
   "source": [
    "import requests\n",
    "from bs4 import BeautifulSoup\n",
    "user = UserProfile.objects.get(user__email=\"sonupal129@gmail.com\")\n",
    "payload = {\"username\": 308687, \"password\": \"Sonupal!@9\", \"password2fa\": 1990, \"TOKEN\":\"fbe2c9352ed86c06c20f003bee0babee7d6831a413026b670a907bf27789a4ff\"}\n",
    "headers= {\"Host\": \"www1.nseindia.com\", \n",
    "            \"Cache-Control\": \"max-age=0\",\n",
    "            \"Upgrade-Insecure-Requests\": \"1\", \"User-Agent\": \"Mozilla/5.0 (Macintosh; Intel Mac OS X 10_14_6) AppleWebKit/537.36 (KHTML, like Gecko) Chrome/78.0.3904.108 Safari/537.36\",\n",
    "             \"Accept\": \"text/html,application/xhtml+xml,application/xml;q=0.9,image/webp,image/apng,*/*;q=0.8,application/signed-exchange;v=b3\",\n",
    "             }\n",
    "# print(response.text.encode('utf8'))\n",
    "# url_request.text.encode(\"utf-8\")\n",
    "response = requests.post(user.get_authentication_url(), data=payload)\n",
    "response"
   ]
  },
  {
   "cell_type": "code",
   "execution_count": null,
   "metadata": {
    "scrolled": true
   },
   "outputs": [],
   "source": []
  },
  {
   "cell_type": "code",
   "execution_count": 7,
   "metadata": {},
   "outputs": [],
   "source": [
    "# from django.conf import settings\n",
    "# def import_daily_losers_gainers():\n",
    "#     urls = {\n",
    "#             \"BUY\": [\"https://www1.nseindia.com/live_market/dynaContent/live_analysis/gainers/niftyGainers1.json\",\n",
    "#                     \"https://www1.nseindia.com/live_market/dynaContent/live_analysis/gainers/jrNiftyGainers1.json\"],\n",
    "#             \"SELL\": [\"https://www1.nseindia.com/live_market/dynaContent/live_analysis/losers/niftyLosers1.json\",\n",
    "#                     \"https://www1.nseindia.com/live_market/dynaContent/live_analysis/losers/jrNiftyLosers1.json\"]\n",
    "#         }\n",
    "    \n",
    "#     nifty_movement = Symbol.objects.get(symbol=\"nifty_50\").get_nifty_movement()\n",
    "    \n",
    "#     def response_filter(obj):\n",
    "#         open_price = obj.get(\"openPrice\")\n",
    "#         change = float(obj.get(\"netPrice\"))\n",
    "#         if \",\" in open_price:\n",
    "#             open_price = open_price.replace(\",\",\"\")\n",
    "#         open_price = float(open_price)\n",
    "#         if open_price >= 100 and open_price <= 300 and change >= 1.2:\n",
    "#             return obj\n",
    "        \n",
    "    \n",
    "#     if nifty_movement in (\"BUY\", \"SELL\"):\n",
    "#         import_urls = urls.get(nifty_movement)\n",
    "#         if import_urls:\n",
    "#             for url in import_urls:\n",
    "#                 response = requests.get(url, headers=settings.NSE_HEADERS)\n",
    "#                 if response.status_code == 200:\n",
    "#                     responses = filter(response_filter, response.json().get(\"data\"))\n",
    "#                     for symbol in responses:\n",
    "#                         try:\n",
    "#                             stock = Symbol.objects.get(symbol=symbol.get(\"symbol\").lower())\n",
    "#                         except:\n",
    "#                             stock = None\n",
    "#                         if stock:\n",
    "#                             SortedStocksList.objects.get_or_create(symbol=stock, entry_type=nifty_movement, created_at__date=datetime.now().date())\n",
    "#                     return f\"Data imported successfully! from {url}\"\n",
    "#                 return slack_message_sender.delay(channel=\"#random\", text=f\"Incorrect Url: {url}\")\n",
    "#             return \"All Urls Data Imported Succefully\""
   ]
  },
  {
   "cell_type": "code",
   "execution_count": null,
   "metadata": {},
   "outputs": [],
   "source": []
  },
  {
   "cell_type": "code",
   "execution_count": null,
   "metadata": {},
   "outputs": [],
   "source": []
  },
  {
   "cell_type": "code",
   "execution_count": null,
   "metadata": {},
   "outputs": [],
   "source": []
  }
 ],
 "metadata": {
  "kernelspec": {
   "display_name": "Django Shell-Plus",
   "language": "python",
   "name": "django_extensions"
  },
  "language_info": {
   "codemirror_mode": {
    "name": "ipython",
    "version": 3
   },
   "file_extension": ".py",
   "mimetype": "text/x-python",
   "name": "python",
   "nbconvert_exporter": "python",
   "pygments_lexer": "ipython3",
   "version": "3.7.3"
  }
 },
 "nbformat": 4,
 "nbformat_minor": 2
}
