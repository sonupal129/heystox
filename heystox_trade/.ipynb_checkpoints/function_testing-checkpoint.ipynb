{
 "cells": [
  {
   "cell_type": "code",
   "execution_count": 1,
   "metadata": {},
   "outputs": [],
   "source": [
    "from market_analysis.models import Candle, UserProfile, Symbol, SortedStocksList, StrategyTimestamp\n",
    "# from market_analysis import views\n",
    "from django.contrib.auth.models import User\n",
    "from heystox_intraday.select_stocks_for_trading import *\n",
    "import pandas as pd\n",
    "# from heystox_trade.settings import *\n",
    "from datetime import datetime, timedelta\n",
    "from heystox_intraday.intraday_fetchdata import *\n",
    "from market_analysis.tasks.stock_data_import_tasks import *\n",
    "from market_analysis.tasks.day_trading_tasks import *\n",
    "from django.core.cache import cache, caches\n",
    "from datetime import time, timedelta, datetime\n",
    "from heystox_intraday.trading_indicator import *"
   ]
  },
  {
   "cell_type": "code",
   "execution_count": 3,
   "metadata": {},
   "outputs": [],
   "source": [
    "from hey"
   ]
  },
  {
   "cell_type": "code",
   "execution_count": null,
   "metadata": {
    "scrolled": false
   },
   "outputs": [],
   "source": [
    "macd_indicator = Indicator.objects.get(name=\"MACD\")\n",
    "sorted_stock = SortedStocksList.objects.get(symbol__symbol=\"ioc\", created_at__date=datetime.now().date())\n",
    "df = get_stochastic_data(sorted_stock.symbol)\n",
    "df.loc[(df[\"signal\"] != df[\"signal\"].shift()) & (df[\"signal\"] == \"BUY\"), \"signal\"] = \"BUY_CROSSOVER\"\n",
    "df.loc[(df[\"signal\"] != df[\"signal\"].shift()) & (df[\"signal\"] == \"SELL\"), \"signal\"] = \"SELL_CROSSOVER\"\n",
    "if sorted_stock.entry_type in [\"SELL\", \"SS\"]:\n",
    "    last_crossover = df[df.signal.str.endswith(\"SELL_CROSSOVER\")].iloc[-1]\n",
    "elif sorted_stock.entry_type in [\"BUY\", \"SB\"]:\n",
    "    last_crossover = df[df.signal.str.endswith(\"BUY_CROSSOVER\")].iloc[-1]\n",
    "df = df.loc[df[\"date\"] >= last_crossover.date]\n",
    "try:\n",
    "    if last_crossover.signal == \"SELL_CROSSOVER\":\n",
    "        crossover_signal = df.loc[(df.stoch_diff <= -22.70)].iloc[0]\n",
    "    elif last_crossover.signal == \"BUY_CROSSOVER\":\n",
    "        crossover_signal = df.loc[(df.stoch_diff >= 0.070)].iloc[0]\n",
    "except:\n",
    "    crossover_signal = None\n",
    "# stamp, is_created = StrategyTimestamp.objects.update_or_create(stock=sorted_stock, indicator=macd_indicator, defaults={\"timestamp\": df.iloc[-1].date, \"diff\":df.iloc[-1].macd_diff})\n",
    "crossover_signal"
   ]
  },
  {
   "cell_type": "code",
   "execution_count": null,
   "metadata": {},
   "outputs": [],
   "source": [
    "sorted_stock = SortedStocksList.objects.get(symbol__symbol=\"ioc\", created_at__date=datetime.now().date())\n",
    "get_macd_crossover(sot)"
   ]
  },
  {
   "cell_type": "code",
   "execution_count": null,
   "metadata": {},
   "outputs": [],
   "source": []
  },
  {
   "cell_type": "code",
   "execution_count": null,
   "metadata": {
    "scrolled": true
   },
   "outputs": [],
   "source": []
  },
  {
   "cell_type": "code",
   "execution_count": null,
   "metadata": {},
   "outputs": [],
   "source": []
  },
  {
   "cell_type": "code",
   "execution_count": null,
   "metadata": {
    "scrolled": true
   },
   "outputs": [],
   "source": []
  },
  {
   "cell_type": "code",
   "execution_count": null,
   "metadata": {},
   "outputs": [],
   "source": []
  }
 ],
 "metadata": {
  "kernelspec": {
   "display_name": "Django Shell-Plus",
   "language": "python",
   "name": "django_extensions"
  },
  "language_info": {
   "codemirror_mode": {
    "name": "ipython",
    "version": 3
   },
   "file_extension": ".py",
   "mimetype": "text/x-python",
   "name": "python",
   "nbconvert_exporter": "python",
   "pygments_lexer": "ipython3",
   "version": "3.7.3"
  }
 },
 "nbformat": 4,
 "nbformat_minor": 2
}
