{
 "cells": [
  {
   "cell_type": "code",
   "execution_count": 1,
   "metadata": {},
   "outputs": [],
   "source": [
    "from market_analysis.models import Candle, UserProfile, Symbol, SortedStocksList, StrategyTimestamp\n",
    "# from market_analysis import views\n",
    "from django.contrib.auth.models import User\n",
    "from heystox_intraday.select_stocks_for_trading import *\n",
    "import pandas as pd\n",
    "# from heystox_trade.settings import *\n",
    "from datetime import datetime, timedelta\n",
    "from heystox_intraday.intraday_fetchdata import *\n",
    "from market_analysis.tasks.stock_data_import_tasks import *\n",
    "from django.core.cache import cache, caches"
   ]
  },
  {
   "cell_type": "code",
   "execution_count": 23,
   "metadata": {},
   "outputs": [
    {
     "data": {
      "text/plain": [
       "OrderedDict([('nifty_50',\n",
       "              Instrument(exchange='NSE_INDEX', token='', parent_token=None, symbol='nifty_50', name='Nifty 50', closing_price=11937.5, expiry=None, strike_price=None, tick_size=None, lot_size=None, instrument_type='INDEX', isin=None)),\n",
       "             ('nifty50_eql_wgt',\n",
       "              Instrument(exchange='NSE_INDEX', token='', parent_token=None, symbol='nifty50_eql_wgt', name='NIFTY50 EQL Wgt', closing_price=12119.35, expiry=None, strike_price=None, tick_size=None, lot_size=None, instrument_type='INDEX', isin=None)),\n",
       "             ('nifty100_eql_wgt',\n",
       "              Instrument(exchange='NSE_INDEX', token='', parent_token=None, symbol='nifty100_eql_wgt', name='NIFTY100 EQL Wgt', closing_price=13086.95, expiry=None, strike_price=None, tick_size=None, lot_size=None, instrument_type='INDEX', isin=None)),\n",
       "             ('nifty100_lowvol30',\n",
       "              Instrument(exchange='NSE_INDEX', token='', parent_token=None, symbol='nifty100_lowvol30', name='NIFTY100 LowVol30', closing_price=8762.25, expiry=None, strike_price=None, tick_size=None, lot_size=None, instrument_type='INDEX', isin=None)),\n",
       "             ('nifty_alpha_50',\n",
       "              Instrument(exchange='NSE_INDEX', token='', parent_token=None, symbol='nifty_alpha_50', name='NIFTY Alpha 50', closing_price=12552.05, expiry=None, strike_price=None, tick_size=None, lot_size=None, instrument_type='INDEX', isin=None)),\n",
       "             ('nifty_midcap_150',\n",
       "              Instrument(exchange='NSE_INDEX', token='', parent_token=None, symbol='nifty_midcap_150', name='NIFTY MIDCAP 150', closing_price=6176.25, expiry=None, strike_price=None, tick_size=None, lot_size=None, instrument_type='INDEX', isin=None)),\n",
       "             ('nifty_smlcap_50',\n",
       "              Instrument(exchange='NSE_INDEX', token='', parent_token=None, symbol='nifty_smlcap_50', name='NIFTY SMLCAP 50', closing_price=2717.8, expiry=None, strike_price=None, tick_size=None, lot_size=None, instrument_type='INDEX', isin=None)),\n",
       "             ('nifty_smlcap_250',\n",
       "              Instrument(exchange='NSE_INDEX', token='', parent_token=None, symbol='nifty_smlcap_250', name='NIFTY SMLCAP 250', closing_price=4699.4, expiry=None, strike_price=None, tick_size=None, lot_size=None, instrument_type='INDEX', isin=None)),\n",
       "             ('nifty_midsml_400',\n",
       "              Instrument(exchange='NSE_INDEX', token='', parent_token=None, symbol='nifty_midsml_400', name='NIFTY MIDSML 400', closing_price=5646.6, expiry=None, strike_price=None, tick_size=None, lot_size=None, instrument_type='INDEX', isin=None)),\n",
       "             ('nifty200_qualty30',\n",
       "              Instrument(exchange='NSE_INDEX', token='', parent_token=None, symbol='nifty200_qualty30', name='NIFTY200 QUALTY30', closing_price=9645.8, expiry=None, strike_price=None, tick_size=None, lot_size=None, instrument_type='INDEX', isin=None)),\n",
       "             ('nifty_it',\n",
       "              Instrument(exchange='NSE_INDEX', token='', parent_token=None, symbol='nifty_it', name='Nifty IT', closing_price=15157.15, expiry=None, strike_price=None, tick_size=None, lot_size=None, instrument_type='INDEX', isin=None)),\n",
       "             ('nifty_next_50',\n",
       "              Instrument(exchange='NSE_INDEX', token='', parent_token=None, symbol='nifty_next_50', name='Nifty Next 50', closing_price=27758.05, expiry=None, strike_price=None, tick_size=None, lot_size=None, instrument_type='INDEX', isin=None)),\n",
       "             ('nifty_bank',\n",
       "              Instrument(exchange='NSE_INDEX', token='', parent_token=None, symbol='nifty_bank', name='Nifty Bank', closing_price=31316.65, expiry=None, strike_price=None, tick_size=None, lot_size=None, instrument_type='INDEX', isin=None)),\n",
       "             ('nifty_midcap_100',\n",
       "              Instrument(exchange='NSE_INDEX', token='', parent_token=None, symbol='nifty_midcap_100', name='NIFTY MIDCAP 100', closing_price=16727.3, expiry=None, strike_price=None, tick_size=None, lot_size=None, instrument_type='INDEX', isin=None)),\n",
       "             ('nifty_500',\n",
       "              Instrument(exchange='NSE_INDEX', token='', parent_token=None, symbol='nifty_500', name='Nifty 500', closing_price=9671.45, expiry=None, strike_price=None, tick_size=None, lot_size=None, instrument_type='INDEX', isin=None)),\n",
       "             ('nifty_100',\n",
       "              Instrument(exchange='NSE_INDEX', token='', parent_token=None, symbol='nifty_100', name='Nifty 100', closing_price=12033.3, expiry=None, strike_price=None, tick_size=None, lot_size=None, instrument_type='INDEX', isin=None)),\n",
       "             ('nifty_midcap_50',\n",
       "              Instrument(exchange='NSE_INDEX', token='', parent_token=None, symbol='nifty_midcap_50', name='Nifty Midcap 50', closing_price=4566.05, expiry=None, strike_price=None, tick_size=None, lot_size=None, instrument_type='INDEX', isin=None)),\n",
       "             ('nifty_realty',\n",
       "              Instrument(exchange='NSE_INDEX', token='', parent_token=None, symbol='nifty_realty', name='Nifty Realty', closing_price=280.45, expiry=None, strike_price=None, tick_size=None, lot_size=None, instrument_type='INDEX', isin=None)),\n",
       "             ('nifty_infra',\n",
       "              Instrument(exchange='NSE_INDEX', token='', parent_token=None, symbol='nifty_infra', name='Nifty Infra', closing_price=3247.85, expiry=None, strike_price=None, tick_size=None, lot_size=None, instrument_type='INDEX', isin=None)),\n",
       "             ('nifty_energy',\n",
       "              Instrument(exchange='NSE_INDEX', token='', parent_token=None, symbol='nifty_energy', name='Nifty Energy', closing_price=15950.5, expiry=None, strike_price=None, tick_size=None, lot_size=None, instrument_type='INDEX', isin=None)),\n",
       "             ('nifty_fmcg',\n",
       "              Instrument(exchange='NSE_INDEX', token='', parent_token=None, symbol='nifty_fmcg', name='Nifty FMCG', closing_price=30375.0, expiry=None, strike_price=None, tick_size=None, lot_size=None, instrument_type='INDEX', isin=None)),\n",
       "             ('nifty_mnc',\n",
       "              Instrument(exchange='NSE_INDEX', token='', parent_token=None, symbol='nifty_mnc', name='Nifty MNC', closing_price=13597.15, expiry=None, strike_price=None, tick_size=None, lot_size=None, instrument_type='INDEX', isin=None)),\n",
       "             ('nifty_pharma',\n",
       "              Instrument(exchange='NSE_INDEX', token='', parent_token=None, symbol='nifty_pharma', name='Nifty Pharma', closing_price=7960.35, expiry=None, strike_price=None, tick_size=None, lot_size=None, instrument_type='INDEX', isin=None)),\n",
       "             ('nifty_pse',\n",
       "              Instrument(exchange='NSE_INDEX', token='', parent_token=None, symbol='nifty_pse', name='Nifty PSE', closing_price=3135.0, expiry=None, strike_price=None, tick_size=None, lot_size=None, instrument_type='INDEX', isin=None)),\n",
       "             ('nifty_psu_bank',\n",
       "              Instrument(exchange='NSE_INDEX', token='', parent_token=None, symbol='nifty_psu_bank', name='Nifty PSU Bank', closing_price=2458.25, expiry=None, strike_price=None, tick_size=None, lot_size=None, instrument_type='INDEX', isin=None)),\n",
       "             ('nifty_serv_sector',\n",
       "              Instrument(exchange='NSE_INDEX', token='', parent_token=None, symbol='nifty_serv_sector', name='Nifty Serv Sector', closing_price=16918.75, expiry=None, strike_price=None, tick_size=None, lot_size=None, instrument_type='INDEX', isin=None)),\n",
       "             ('india_vix',\n",
       "              Instrument(exchange='NSE_INDEX', token='', parent_token=None, symbol='india_vix', name='India VIX', closing_price=14.5975, expiry=None, strike_price=None, tick_size=None, lot_size=None, instrument_type='INDEX', isin=None)),\n",
       "             ('nifty_auto',\n",
       "              Instrument(exchange='NSE_INDEX', token='', parent_token=None, symbol='nifty_auto', name='Nifty Auto', closing_price=7863.3, expiry=None, strike_price=None, tick_size=None, lot_size=None, instrument_type='INDEX', isin=None)),\n",
       "             ('nifty_metal',\n",
       "              Instrument(exchange='NSE_INDEX', token='', parent_token=None, symbol='nifty_metal', name='Nifty Metal', closing_price=2551.7, expiry=None, strike_price=None, tick_size=None, lot_size=None, instrument_type='INDEX', isin=None)),\n",
       "             ('nifty_media',\n",
       "              Instrument(exchange='NSE_INDEX', token='', parent_token=None, symbol='nifty_media', name='Nifty Media', closing_price=1775.8, expiry=None, strike_price=None, tick_size=None, lot_size=None, instrument_type='INDEX', isin=None)),\n",
       "             ('nifty_smlcap_100',\n",
       "              Instrument(exchange='NSE_INDEX', token='', parent_token=None, symbol='nifty_smlcap_100', name='NIFTY SMLCAP 100', closing_price=5654.55, expiry=None, strike_price=None, tick_size=None, lot_size=None, instrument_type='INDEX', isin=None)),\n",
       "             ('nifty_200',\n",
       "              Instrument(exchange='NSE_INDEX', token='', parent_token=None, symbol='nifty_200', name='Nifty 200', closing_price=6133.55, expiry=None, strike_price=None, tick_size=None, lot_size=None, instrument_type='INDEX', isin=None)),\n",
       "             ('nifty_div_opps_50',\n",
       "              Instrument(exchange='NSE_INDEX', token='', parent_token=None, symbol='nifty_div_opps_50', name='Nifty Div Opps 50', closing_price=2497.5, expiry=None, strike_price=None, tick_size=None, lot_size=None, instrument_type='INDEX', isin=None)),\n",
       "             ('nifty_commodities',\n",
       "              Instrument(exchange='NSE_INDEX', token='', parent_token=None, symbol='nifty_commodities', name='Nifty Commodities', closing_price=3349.7, expiry=None, strike_price=None, tick_size=None, lot_size=None, instrument_type='INDEX', isin=None)),\n",
       "             ('nifty_consumption',\n",
       "              Instrument(exchange='NSE_INDEX', token='', parent_token=None, symbol='nifty_consumption', name='Nifty Consumption', closing_price=4908.05, expiry=None, strike_price=None, tick_size=None, lot_size=None, instrument_type='INDEX', isin=None)),\n",
       "             ('nifty_fin_service',\n",
       "              Instrument(exchange='NSE_INDEX', token='', parent_token=None, symbol='nifty_fin_service', name='Nifty Fin Service', closing_price=14092.4, expiry=None, strike_price=None, tick_size=None, lot_size=None, instrument_type='INDEX', isin=None)),\n",
       "             ('nifty50_div_point',\n",
       "              Instrument(exchange='NSE_INDEX', token='', parent_token=None, symbol='nifty50_div_point', name='Nifty50 Div Point', closing_price=117.35, expiry=None, strike_price=None, tick_size=None, lot_size=None, instrument_type='INDEX', isin=None)),\n",
       "             ('nifty100_liq_15',\n",
       "              Instrument(exchange='NSE_INDEX', token='', parent_token=None, symbol='nifty100_liq_15', name='Nifty100 Liq 15', closing_price=3661.1, expiry=None, strike_price=None, tick_size=None, lot_size=None, instrument_type='INDEX', isin=None)),\n",
       "             ('nifty_cpse',\n",
       "              Instrument(exchange='NSE_INDEX', token='', parent_token=None, symbol='nifty_cpse', name='Nifty CPSE', closing_price=1865.4, expiry=None, strike_price=None, tick_size=None, lot_size=None, instrument_type='INDEX', isin=None)),\n",
       "             ('nifty_growsect_15',\n",
       "              Instrument(exchange='NSE_INDEX', token='', parent_token=None, symbol='nifty_growsect_15', name='Nifty GrowSect 15', closing_price=6293.4, expiry=None, strike_price=None, tick_size=None, lot_size=None, instrument_type='INDEX', isin=None)),\n",
       "             ('nifty50_pr_2x_lev',\n",
       "              Instrument(exchange='NSE_INDEX', token='', parent_token=None, symbol='nifty50_pr_2x_lev', name='Nifty50 PR 2x Lev', closing_price=5104.6, expiry=None, strike_price=None, tick_size=None, lot_size=None, instrument_type='INDEX', isin=None)),\n",
       "             ('nifty50_pr_1x_inv',\n",
       "              Instrument(exchange='NSE_INDEX', token='', parent_token=None, symbol='nifty50_pr_1x_inv', name='Nifty50 PR 1x Inv', closing_price=391.05, expiry=None, strike_price=None, tick_size=None, lot_size=None, instrument_type='INDEX', isin=None)),\n",
       "             ('nifty50_tr_2x_lev',\n",
       "              Instrument(exchange='NSE_INDEX', token='', parent_token=None, symbol='nifty50_tr_2x_lev', name='Nifty50 TR 2x Lev', closing_price=6635.0, expiry=None, strike_price=None, tick_size=None, lot_size=None, instrument_type='INDEX', isin=None)),\n",
       "             ('nifty50_tr_1x_inv',\n",
       "              Instrument(exchange='NSE_INDEX', token='', parent_token=None, symbol='nifty50_tr_1x_inv', name='Nifty50 TR 1x Inv', closing_price=343.05, expiry=None, strike_price=None, tick_size=None, lot_size=None, instrument_type='INDEX', isin=None)),\n",
       "             ('nifty50_value_20',\n",
       "              Instrument(exchange='NSE_INDEX', token='', parent_token=None, symbol='nifty50_value_20', name='Nifty50 Value 20', closing_price=5388.65, expiry=None, strike_price=None, tick_size=None, lot_size=None, instrument_type='INDEX', isin=None)),\n",
       "             ('nifty_mid_liq_15',\n",
       "              Instrument(exchange='NSE_INDEX', token='', parent_token=None, symbol='nifty_mid_liq_15', name='Nifty Mid Liq 15', closing_price=3898.65, expiry=None, strike_price=None, tick_size=None, lot_size=None, instrument_type='INDEX', isin=None)),\n",
       "             ('nifty_pvt_bank',\n",
       "              Instrument(exchange='NSE_INDEX', token='', parent_token=None, symbol='nifty_pvt_bank', name='Nifty Pvt Bank', closing_price=17357.45, expiry=None, strike_price=None, tick_size=None, lot_size=None, instrument_type='INDEX', isin=None)),\n",
       "             ('nifty100_qualty30',\n",
       "              Instrument(exchange='NSE_INDEX', token='', parent_token=None, symbol='nifty100_qualty30', name='NIFTY100 Qualty30', closing_price=2659.2, expiry=None, strike_price=None, tick_size=None, lot_size=None, instrument_type='INDEX', isin=None)),\n",
       "             ('nifty_gs_8_13yr',\n",
       "              Instrument(exchange='NSE_INDEX', token='', parent_token=None, symbol='nifty_gs_8_13yr', name='Nifty GS 8 13Yr', closing_price=2002.02, expiry=None, strike_price=None, tick_size=None, lot_size=None, instrument_type='INDEX', isin=None)),\n",
       "             ('nifty_gs_10yr',\n",
       "              Instrument(exchange='NSE_INDEX', token='', parent_token=None, symbol='nifty_gs_10yr', name='Nifty GS 10Yr', closing_price=1845.58, expiry=None, strike_price=None, tick_size=None, lot_size=None, instrument_type='INDEX', isin=None)),\n",
       "             ('nifty_gs_10yr_cln',\n",
       "              Instrument(exchange='NSE_INDEX', token='', parent_token=None, symbol='nifty_gs_10yr_cln', name='Nifty GS 10Yr Cln', closing_price=936.02, expiry=None, strike_price=None, tick_size=None, lot_size=None, instrument_type='INDEX', isin=None)),\n",
       "             ('nifty_gs_4_8yr',\n",
       "              Instrument(exchange='NSE_INDEX', token='', parent_token=None, symbol='nifty_gs_4_8yr', name='Nifty GS 4 8Yr', closing_price=2132.52, expiry=None, strike_price=None, tick_size=None, lot_size=None, instrument_type='INDEX', isin=None)),\n",
       "             ('nifty_gs_11_15yr',\n",
       "              Instrument(exchange='NSE_INDEX', token='', parent_token=None, symbol='nifty_gs_11_15yr', name='Nifty GS 11 15Yr', closing_price=2122.34, expiry=None, strike_price=None, tick_size=None, lot_size=None, instrument_type='INDEX', isin=None)),\n",
       "             ('nifty_gs_15yrplus',\n",
       "              Instrument(exchange='NSE_INDEX', token='', parent_token=None, symbol='nifty_gs_15yrplus', name='Nifty GS 15YrPlus', closing_price=2294.26, expiry=None, strike_price=None, tick_size=None, lot_size=None, instrument_type='INDEX', isin=None)),\n",
       "             ('nifty_gs_compsite',\n",
       "              Instrument(exchange='NSE_INDEX', token='', parent_token=None, symbol='nifty_gs_compsite', name='Nifty GS Compsite', closing_price=2038.66, expiry=None, strike_price=None, tick_size=None, lot_size=None, instrument_type='INDEX', isin=None))])"
      ]
     },
     "execution_count": 23,
     "metadata": {},
     "output_type": "execute_result"
    }
   ],
   "source": [
    "user = get_upstox_user(\"sonupal129@gmail.com\")\n",
    "symbol = Symbol.objects.get(symbol=\"ashokley\")\n",
    "# print(user.get_ohlc(user.get_instrument_by_symbol('NSE_EQ', 'bel'), OHLCInterval.Minute_1, datetime.strptime('12/12/2019', '%d/%m/%Y').date(), datetime.strptime('12/12/2019', '%d/%m/%Y').date()))\n",
    "user.get_master_contract(\"NSE_EQ\")\n",
    "user.get_master_contract(\"NSE_INDEX\")\n",
    "# cache_candles_data(user, symbol)\n",
    "# get_stock_current_candle(\"ashokley\")"
   ]
  },
  {
   "cell_type": "code",
   "execution_count": 27,
   "metadata": {
    "scrolled": false
   },
   "outputs": [],
   "source": [
    "# print(user.get_ohlc(user.get_instrument_by_symbol('NSE_INDEX', 'infty_50'), OHLCInterval.Minute_1, datetime.strptime('12/12/2019', '%d/%m/%Y').date(), datetime.strptime('12/12/2019', '%d/%m/%Y').date()))"
   ]
  },
  {
   "cell_type": "code",
   "execution_count": 28,
   "metadata": {},
   "outputs": [],
   "source": [
    "# print(user.get_ohlc(user.get_instrument_by_symbol('NSE_EQ', 'bel'), OHLCInterval.Minute_1, datetime.strptime('12/12/2019', '%d/%m/%Y').date(), datetime.strptime('12/12/2019', '%d/%m/%Y').date()))"
   ]
  },
  {
   "cell_type": "code",
   "execution_count": 5,
   "metadata": {},
   "outputs": [],
   "source": []
  },
  {
   "cell_type": "code",
   "execution_count": 6,
   "metadata": {
    "scrolled": true
   },
   "outputs": [],
   "source": [
    "# # *rest, second_last, last = user.get_ohlc(user.get_instrument_by_symbol('NSE_EQ', 'bel'), OHLCInterval.Minute_1, datetime.strptime('12/12/2019', '%d/%m/%Y').date(), datetime.strptime('12/12/2019', '%d/%m/%Y').date())\n",
    "# *rest, second_last, last = my_obj\n",
    "# redis_cache = caches[\"redis\"]\n",
    "\n",
    "# redis_cache.set(\"bel\", [second_last, last])\n",
    "# redis_cache.get(\"bel\")"
   ]
  },
  {
   "cell_type": "code",
   "execution_count": 15,
   "metadata": {},
   "outputs": [],
   "source": [
    "# cache.get(\"NSE_INDEX_master_contracts_cache\")"
   ]
  },
  {
   "cell_type": "code",
   "execution_count": 30,
   "metadata": {
    "scrolled": true
   },
   "outputs": [
    {
     "data": {
      "text/plain": [
       "datetime.datetime(2019, 12, 13, 10, 36)"
      ]
     },
     "execution_count": 30,
     "metadata": {},
     "output_type": "execute_result"
    }
   ],
   "source": [
    "datetime.fromtimestamp(1576213560)"
   ]
  },
  {
   "cell_type": "code",
   "execution_count": null,
   "metadata": {},
   "outputs": [],
   "source": [
    "print(user.get_ohlc(user.get_instrument_by_symbol('NSE_EQ', 'gail'), OHLCInterval.Minute_1, datetime.strptime('13/12/2019', '%d/%m/%Y').date(), datetime.strptime('13/12/2019', '%d/%m/%Y').date()))"
   ]
  },
  {
   "cell_type": "code",
   "execution_count": null,
   "metadata": {},
   "outputs": [],
   "source": []
  },
  {
   "cell_type": "code",
   "execution_count": null,
   "metadata": {},
   "outputs": [],
   "source": []
  },
  {
   "cell_type": "code",
   "execution_count": null,
   "metadata": {},
   "outputs": [],
   "source": []
  }
 ],
 "metadata": {
  "kernelspec": {
   "display_name": "Django Shell-Plus",
   "language": "python",
   "name": "django_extensions"
  },
  "language_info": {
   "codemirror_mode": {
    "name": "ipython",
    "version": 3
   },
   "file_extension": ".py",
   "mimetype": "text/x-python",
   "name": "python",
   "nbconvert_exporter": "python",
   "pygments_lexer": "ipython3",
   "version": "3.7.3"
  }
 },
 "nbformat": 4,
 "nbformat_minor": 2
}
