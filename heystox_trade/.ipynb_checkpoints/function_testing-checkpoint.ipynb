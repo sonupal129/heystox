{
 "cells": [
  {
   "cell_type": "code",
   "execution_count": 1,
   "metadata": {},
   "outputs": [],
   "source": [
    "from market_analysis.models import Candle, UserProfile, Symbol, SortedStocksList, TickerData\n",
    "# from market_analysis import views\n",
    "from django.contrib.auth.models import User\n",
    "from heystox_intraday.select_stocks_for_trading import *\n",
    "import pandas as pd\n",
    "# from heystox_trade.settings import *\n",
    "from datetime import datetime, timedelta"
   ]
  },
  {
   "cell_type": "code",
   "execution_count": null,
   "metadata": {},
   "outputs": [],
   "source": []
  },
  {
   "cell_type": "code",
   "execution_count": 2,
   "metadata": {
    "scrolled": false
   },
   "outputs": [],
   "source": [
    "# obj = Candle.objects.filter(symbol__symbol=\"ambujacem\", candle_type=\"M5\", date__range=[datetime.strptime(\"17/10/2019\",'%d/%m/%Y').date(), datetime.strptime(\"19/10/2019\",'%d/%m/%Y').date()]).values()\n",
    "# # # new_header = [\"Exchange\", \"Token\", \"NA\", \"Symbol\", \"Full Name\", \"closed_price\", \"NA1\", \"NA2\", \"Tick Size\", \"Lot Size\", \"Instrument Type\", \"ISIN\"]\n",
    "\n",
    "# df = pd.DataFrame(list(obj))\n",
    "# # # obj.columns = new_header\n",
    "# # # new_obj = obj[(obj.close_price >= 55) & (obj.close_price <= 250)]\n",
    "# symbol = Symbol.objects.get(symbol=\"pnb\")\n",
    "# # symbol.is_stock_ohl(date=\"17/10/2019\")\n",
    "# first_candle_price = df.iloc[0:]\n",
    "# # previouse_day_last_candle_price = df.loc[:, [\"open_price\", \"high_price\", \"low_price\", \"close_price\"]]\n",
    "# # min(current_candle_price.min().values)\n",
    "# last_day_candles = df[(df.date <= datetime.strptime(\"18/10/2019\",'%d/%m/%Y').date())]\n",
    "# last_day_closing_price = last_day_candles.iloc[[-1]].close_price\n",
    "# last_day_opening_price = last_day_candles.iloc[[0]].open_price\n",
    "# today_open_price = df[(df.date >= datetime.strptime(\"18/10/2019\",'%d/%m/%Y').date())].iloc[[0]].open_price\n",
    "# # print(first_candle_price)\n",
    "# today_open_price > 100\n"
   ]
  },
  {
   "cell_type": "code",
   "execution_count": null,
   "metadata": {},
   "outputs": [],
   "source": []
  },
  {
   "cell_type": "code",
   "execution_count": 3,
   "metadata": {},
   "outputs": [
    {
     "data": {
      "text/plain": [
       "<CandleQuerySet [{'id': 707117, 'symbol_id': 585, 'candle_type': 'M5', 'open_price': 189.85, 'high_price': 190.0, 'low_price': 186.2, 'close_price': 189.45, 'volume': 979559, 'vtt': None, 'atp': None, 'total_buy_quantity': None, 'total_sell_quantity': None, 'lower_circuit': None, 'upper_circuit': None, 'bids': {}, 'asks': {}, 'date': datetime.datetime(2019, 10, 29, 9, 15), 'created_at': datetime.datetime(2019, 11, 1, 16, 56, 54, 210554), 'modified_at': datetime.datetime(2019, 11, 1, 10, 3, 16, 762851)}, {'id': 707118, 'symbol_id': 585, 'candle_type': 'M5', 'open_price': 189.4, 'high_price': 195.45, 'low_price': 189.2, 'close_price': 195.0, 'volume': 1509329, 'vtt': None, 'atp': None, 'total_buy_quantity': None, 'total_sell_quantity': None, 'lower_circuit': None, 'upper_circuit': None, 'bids': {}, 'asks': {}, 'date': datetime.datetime(2019, 10, 29, 9, 20), 'created_at': datetime.datetime(2019, 11, 1, 16, 56, 54, 259065), 'modified_at': datetime.datetime(2019, 11, 1, 10, 3, 16, 762917)}, {'id': 707119, 'symbol_id': 585, 'candle_type': 'M5', 'open_price': 195.1, 'high_price': 196.0, 'low_price': 193.25, 'close_price': 193.45, 'volume': 1057051, 'vtt': None, 'atp': None, 'total_buy_quantity': None, 'total_sell_quantity': None, 'lower_circuit': None, 'upper_circuit': None, 'bids': {}, 'asks': {}, 'date': datetime.datetime(2019, 10, 29, 9, 25), 'created_at': datetime.datetime(2019, 11, 1, 16, 56, 54, 265064), 'modified_at': datetime.datetime(2019, 11, 1, 10, 3, 16, 762977)}, {'id': 707120, 'symbol_id': 585, 'candle_type': 'M5', 'open_price': 193.25, 'high_price': 193.5, 'low_price': 191.5, 'close_price': 193.35, 'volume': 694505, 'vtt': None, 'atp': None, 'total_buy_quantity': None, 'total_sell_quantity': None, 'lower_circuit': None, 'upper_circuit': None, 'bids': {}, 'asks': {}, 'date': datetime.datetime(2019, 10, 29, 9, 30), 'created_at': datetime.datetime(2019, 11, 1, 16, 56, 54, 269635), 'modified_at': datetime.datetime(2019, 11, 1, 10, 3, 16, 763035)}, {'id': 707121, 'symbol_id': 585, 'candle_type': 'M5', 'open_price': 193.15, 'high_price': 194.2, 'low_price': 192.95, 'close_price': 193.3, 'volume': 417329, 'vtt': None, 'atp': None, 'total_buy_quantity': None, 'total_sell_quantity': None, 'lower_circuit': None, 'upper_circuit': None, 'bids': {}, 'asks': {}, 'date': datetime.datetime(2019, 10, 29, 9, 35), 'created_at': datetime.datetime(2019, 11, 1, 16, 56, 54, 274318), 'modified_at': datetime.datetime(2019, 11, 1, 10, 3, 16, 763092)}, {'id': 707122, 'symbol_id': 585, 'candle_type': 'M5', 'open_price': 193.15, 'high_price': 193.95, 'low_price': 192.5, 'close_price': 192.9, 'volume': 327537, 'vtt': None, 'atp': None, 'total_buy_quantity': None, 'total_sell_quantity': None, 'lower_circuit': None, 'upper_circuit': None, 'bids': {}, 'asks': {}, 'date': datetime.datetime(2019, 10, 29, 9, 40), 'created_at': datetime.datetime(2019, 11, 1, 16, 56, 54, 278313), 'modified_at': datetime.datetime(2019, 11, 1, 10, 3, 16, 763150)}, {'id': 707123, 'symbol_id': 585, 'candle_type': 'M5', 'open_price': 192.95, 'high_price': 194.0, 'low_price': 192.85, 'close_price': 193.4, 'volume': 225554, 'vtt': None, 'atp': None, 'total_buy_quantity': None, 'total_sell_quantity': None, 'lower_circuit': None, 'upper_circuit': None, 'bids': {}, 'asks': {}, 'date': datetime.datetime(2019, 10, 29, 9, 45), 'created_at': datetime.datetime(2019, 11, 1, 16, 56, 54, 283596), 'modified_at': datetime.datetime(2019, 11, 1, 10, 3, 16, 763228)}, {'id': 707124, 'symbol_id': 585, 'candle_type': 'M5', 'open_price': 193.35, 'high_price': 194.3, 'low_price': 193.0, 'close_price': 193.3, 'volume': 323885, 'vtt': None, 'atp': None, 'total_buy_quantity': None, 'total_sell_quantity': None, 'lower_circuit': None, 'upper_circuit': None, 'bids': {}, 'asks': {}, 'date': datetime.datetime(2019, 10, 29, 9, 50), 'created_at': datetime.datetime(2019, 11, 1, 16, 56, 54, 287610), 'modified_at': datetime.datetime(2019, 11, 1, 10, 3, 16, 763285)}, {'id': 707125, 'symbol_id': 585, 'candle_type': 'M5', 'open_price': 193.3, 'high_price': 193.95, 'low_price': 192.35, 'close_price': 192.85, 'volume': 260390, 'vtt': None, 'atp': None, 'total_buy_quantity': None, 'total_sell_quantity': None, 'lower_circuit': None, 'upper_circuit': None, 'bids': {}, 'asks': {}, 'date': datetime.datetime(2019, 10, 29, 9, 55), 'created_at': datetime.datetime(2019, 11, 1, 16, 56, 54, 291797), 'modified_at': datetime.datetime(2019, 11, 1, 10, 3, 16, 763342)}, {'id': 707126, 'symbol_id': 585, 'candle_type': 'M5', 'open_price': 192.95, 'high_price': 195.5, 'low_price': 192.85, 'close_price': 194.05, 'volume': 686326, 'vtt': None, 'atp': None, 'total_buy_quantity': None, 'total_sell_quantity': None, 'lower_circuit': None, 'upper_circuit': None, 'bids': {}, 'asks': {}, 'date': datetime.datetime(2019, 10, 29, 10, 0), 'created_at': datetime.datetime(2019, 11, 1, 16, 56, 54, 296150), 'modified_at': datetime.datetime(2019, 11, 1, 10, 3, 16, 763401)}, {'id': 707127, 'symbol_id': 585, 'candle_type': 'M5', 'open_price': 194.0, 'high_price': 200.35, 'low_price': 193.9, 'close_price': 200.2, 'volume': 1898925, 'vtt': None, 'atp': None, 'total_buy_quantity': None, 'total_sell_quantity': None, 'lower_circuit': None, 'upper_circuit': None, 'bids': {}, 'asks': {}, 'date': datetime.datetime(2019, 10, 29, 10, 5), 'created_at': datetime.datetime(2019, 11, 1, 16, 56, 54, 300866), 'modified_at': datetime.datetime(2019, 11, 1, 10, 3, 16, 763458)}, {'id': 707128, 'symbol_id': 585, 'candle_type': 'M5', 'open_price': 200.5, 'high_price': 209.6, 'low_price': 200.5, 'close_price': 208.25, 'volume': 3572222, 'vtt': None, 'atp': None, 'total_buy_quantity': None, 'total_sell_quantity': None, 'lower_circuit': None, 'upper_circuit': None, 'bids': {}, 'asks': {}, 'date': datetime.datetime(2019, 10, 29, 10, 10), 'created_at': datetime.datetime(2019, 11, 1, 16, 56, 54, 305579), 'modified_at': datetime.datetime(2019, 11, 1, 10, 3, 16, 763515)}, {'id': 707129, 'symbol_id': 585, 'candle_type': 'M5', 'open_price': 208.35, 'high_price': 213.0, 'low_price': 208.3, 'close_price': 209.4, 'volume': 2893436, 'vtt': None, 'atp': None, 'total_buy_quantity': None, 'total_sell_quantity': None, 'lower_circuit': None, 'upper_circuit': None, 'bids': {}, 'asks': {}, 'date': datetime.datetime(2019, 10, 29, 10, 15), 'created_at': datetime.datetime(2019, 11, 1, 16, 56, 54, 309830), 'modified_at': datetime.datetime(2019, 11, 1, 10, 3, 16, 763573)}, {'id': 707130, 'symbol_id': 585, 'candle_type': 'M5', 'open_price': 209.2, 'high_price': 210.0, 'low_price': 206.05, 'close_price': 206.5, 'volume': 1271379, 'vtt': None, 'atp': None, 'total_buy_quantity': None, 'total_sell_quantity': None, 'lower_circuit': None, 'upper_circuit': None, 'bids': {}, 'asks': {}, 'date': datetime.datetime(2019, 10, 29, 10, 20), 'created_at': datetime.datetime(2019, 11, 1, 16, 56, 54, 314641), 'modified_at': datetime.datetime(2019, 11, 1, 10, 3, 16, 763629)}, {'id': 707131, 'symbol_id': 585, 'candle_type': 'M5', 'open_price': 206.65, 'high_price': 209.0, 'low_price': 206.5, 'close_price': 208.25, 'volume': 722270, 'vtt': None, 'atp': None, 'total_buy_quantity': None, 'total_sell_quantity': None, 'lower_circuit': None, 'upper_circuit': None, 'bids': {}, 'asks': {}, 'date': datetime.datetime(2019, 10, 29, 10, 25), 'created_at': datetime.datetime(2019, 11, 1, 16, 56, 54, 319497), 'modified_at': datetime.datetime(2019, 11, 1, 10, 3, 16, 763686)}, {'id': 707132, 'symbol_id': 585, 'candle_type': 'M5', 'open_price': 208.25, 'high_price': 211.0, 'low_price': 207.4, 'close_price': 210.1, 'volume': 1033305, 'vtt': None, 'atp': None, 'total_buy_quantity': None, 'total_sell_quantity': None, 'lower_circuit': None, 'upper_circuit': None, 'bids': {}, 'asks': {}, 'date': datetime.datetime(2019, 10, 29, 10, 30), 'created_at': datetime.datetime(2019, 11, 1, 16, 56, 54, 323808), 'modified_at': datetime.datetime(2019, 11, 1, 10, 3, 16, 763743)}, {'id': 707133, 'symbol_id': 585, 'candle_type': 'M5', 'open_price': 210.1, 'high_price': 210.2, 'low_price': 208.1, 'close_price': 208.25, 'volume': 498236, 'vtt': None, 'atp': None, 'total_buy_quantity': None, 'total_sell_quantity': None, 'lower_circuit': None, 'upper_circuit': None, 'bids': {}, 'asks': {}, 'date': datetime.datetime(2019, 10, 29, 10, 35), 'created_at': datetime.datetime(2019, 11, 1, 16, 56, 54, 327744), 'modified_at': datetime.datetime(2019, 11, 1, 10, 3, 16, 763800)}, {'id': 707134, 'symbol_id': 585, 'candle_type': 'M5', 'open_price': 208.3, 'high_price': 210.6, 'low_price': 208.0, 'close_price': 209.85, 'volume': 658651, 'vtt': None, 'atp': None, 'total_buy_quantity': None, 'total_sell_quantity': None, 'lower_circuit': None, 'upper_circuit': None, 'bids': {}, 'asks': {}, 'date': datetime.datetime(2019, 10, 29, 10, 40), 'created_at': datetime.datetime(2019, 11, 1, 16, 56, 54, 332111), 'modified_at': datetime.datetime(2019, 11, 1, 10, 3, 16, 763858)}, {'id': 707135, 'symbol_id': 585, 'candle_type': 'M5', 'open_price': 209.85, 'high_price': 210.0, 'low_price': 208.7, 'close_price': 208.9, 'volume': 332539, 'vtt': None, 'atp': None, 'total_buy_quantity': None, 'total_sell_quantity': None, 'lower_circuit': None, 'upper_circuit': None, 'bids': {}, 'asks': {}, 'date': datetime.datetime(2019, 10, 29, 10, 45), 'created_at': datetime.datetime(2019, 11, 1, 16, 56, 54, 336739), 'modified_at': datetime.datetime(2019, 11, 1, 10, 3, 16, 763920)}, {'id': 707136, 'symbol_id': 585, 'candle_type': 'M5', 'open_price': 208.95, 'high_price': 209.45, 'low_price': 208.2, 'close_price': 208.5, 'volume': 338895, 'vtt': None, 'atp': None, 'total_buy_quantity': None, 'total_sell_quantity': None, 'lower_circuit': None, 'upper_circuit': None, 'bids': {}, 'asks': {}, 'date': datetime.datetime(2019, 10, 29, 10, 50), 'created_at': datetime.datetime(2019, 11, 1, 16, 56, 54, 341245), 'modified_at': datetime.datetime(2019, 11, 1, 10, 3, 16, 763982)}, '...(remaining elements truncated)...']>"
      ]
     },
     "execution_count": 3,
     "metadata": {},
     "output_type": "execute_result"
    }
   ],
   "source": [
    "from ta.trend import macd, macd_diff, macd_signal, ema, ema_indicator\n",
    "from ta.momentum import stoch, stoch_signal\n",
    "stock = Symbol.objects.get(symbol=\"ibulhsgfin\")\n",
    "obj = stock.get_stock_data(days=1, end_date=datetime.strptime(\"30/10/2019\",'%d/%m/%Y').date())\n",
    "df = pd.DataFrame(list(obj.values()))\n",
    "# df[\"macd\"] = macd(df.close_price)\n",
    "# df[\"macd_signal\"] = macd_signal(df.close_price)\n",
    "# df[\"diff\"] = macd_diff(df.close_price)\n",
    "# df.to_csv(\"stoch_analytics.csv\")\n",
    "# df.head(2)\n",
    "# obj.values()\n",
    "from django.core.cache import caches, cache\n",
    "import csv\n",
    "obj.values()"
   ]
  },
  {
   "cell_type": "code",
   "execution_count": 70,
   "metadata": {
    "scrolled": false
   },
   "outputs": [
    {
     "name": "stdout",
     "output_type": "stream",
     "text": [
      "[{'id': 707117, 'symbol': 'ibulhsgfin', 'candle_type': 'M5', 'open_price': 189.85, 'high_price': 190.0, 'low_price': 186.2, 'close_price': 189.45, 'volume': 979559, 'vtt': None, 'atp': None, 'total_buy_quantity': None, 'total_sell_quantity': None, 'lower_circuit': None, 'upper_circuit': None, 'bids': {}, 'asks': {}, 'date': datetime.datetime(2019, 10, 29, 9, 15), 'created_at': datetime.datetime(2019, 11, 1, 16, 56, 54, 210554), 'modified_at': datetime.datetime(2019, 11, 1, 10, 3, 16, 762851)}]\n",
      "Not Found\n",
      "None\n",
      "None\n",
      "Appended\n",
      "[{'id': 707117, 'symbol': 'ibulhsgfin', 'candle_type': 'M5', 'open_price': 189.85, 'high_price': 190.0, 'low_price': 186.2, 'close_price': 189.45, 'volume': 979559, 'vtt': None, 'atp': None, 'total_buy_quantity': None, 'total_sell_quantity': None, 'lower_circuit': None, 'upper_circuit': None, 'bids': {}, 'asks': {}, 'date': datetime.datetime(2019, 10, 29, 9, 15), 'created_at': datetime.datetime(2019, 11, 1, 16, 56, 54, 210554), 'modified_at': datetime.datetime(2019, 11, 1, 10, 3, 16, 762851)}]\n",
      "Not Found\n",
      "None\n",
      "None\n",
      "Appended\n",
      "[{'id': 707117, 'symbol': 'ibulhsgfin', 'candle_type': 'M5', 'open_price': 189.85, 'high_price': 190.0, 'low_price': 186.2, 'close_price': 189.45, 'volume': 979559, 'vtt': None, 'atp': None, 'total_buy_quantity': None, 'total_sell_quantity': None, 'lower_circuit': None, 'upper_circuit': None, 'bids': {}, 'asks': {}, 'date': datetime.datetime(2019, 10, 29, 9, 15), 'created_at': datetime.datetime(2019, 11, 1, 16, 56, 54, 210554), 'modified_at': datetime.datetime(2019, 11, 1, 10, 3, 16, 762851)}]\n",
      "Not Found\n",
      "None\n",
      "None\n",
      "Appended\n",
      "[{'id': 707117, 'symbol': 'ibulhsgfin', 'candle_type': 'M5', 'open_price': 189.85, 'high_price': 190.0, 'low_price': 186.2, 'close_price': 189.45, 'volume': 979559, 'vtt': None, 'atp': None, 'total_buy_quantity': None, 'total_sell_quantity': None, 'lower_circuit': None, 'upper_circuit': None, 'bids': {}, 'asks': {}, 'date': datetime.datetime(2019, 10, 29, 9, 15), 'created_at': datetime.datetime(2019, 11, 1, 16, 56, 54, 210554), 'modified_at': datetime.datetime(2019, 11, 1, 10, 3, 16, 762851)}]\n",
      "Not Found\n",
      "None\n",
      "None\n",
      "Appended\n",
      "[{'id': 707117, 'symbol': 'ibulhsgfin', 'candle_type': 'M5', 'open_price': 189.85, 'high_price': 190.0, 'low_price': 186.2, 'close_price': 189.45, 'volume': 979559, 'vtt': None, 'atp': None, 'total_buy_quantity': None, 'total_sell_quantity': None, 'lower_circuit': None, 'upper_circuit': None, 'bids': {}, 'asks': {}, 'date': datetime.datetime(2019, 10, 29, 9, 15), 'created_at': datetime.datetime(2019, 11, 1, 16, 56, 54, 210554), 'modified_at': datetime.datetime(2019, 11, 1, 10, 3, 16, 762851)}]\n",
      "Not Found\n",
      "None\n",
      "None\n",
      "Appended\n",
      "[{'id': 707117, 'symbol': 'ibulhsgfin', 'candle_type': 'M5', 'open_price': 189.85, 'high_price': 190.0, 'low_price': 186.2, 'close_price': 189.45, 'volume': 979559, 'vtt': None, 'atp': None, 'total_buy_quantity': None, 'total_sell_quantity': None, 'lower_circuit': None, 'upper_circuit': None, 'bids': {}, 'asks': {}, 'date': datetime.datetime(2019, 10, 29, 9, 15), 'created_at': datetime.datetime(2019, 11, 1, 16, 56, 54, 210554), 'modified_at': datetime.datetime(2019, 11, 1, 10, 3, 16, 762851)}]\n",
      "Not Found\n",
      "None\n",
      "None\n",
      "Appended\n",
      "[{'id': 707117, 'symbol': 'ibulhsgfin', 'candle_type': 'M5', 'open_price': 189.85, 'high_price': 190.0, 'low_price': 186.2, 'close_price': 189.45, 'volume': 979559, 'vtt': None, 'atp': None, 'total_buy_quantity': None, 'total_sell_quantity': None, 'lower_circuit': None, 'upper_circuit': None, 'bids': {}, 'asks': {}, 'date': datetime.datetime(2019, 10, 29, 9, 15), 'created_at': datetime.datetime(2019, 11, 1, 16, 56, 54, 210554), 'modified_at': datetime.datetime(2019, 11, 1, 10, 3, 16, 762851)}]\n",
      "Not Found\n",
      "None\n",
      "None\n",
      "Appended\n",
      "[{'id': 707117, 'symbol': 'ibulhsgfin', 'candle_type': 'M5', 'open_price': 189.85, 'high_price': 190.0, 'low_price': 186.2, 'close_price': 189.45, 'volume': 979559, 'vtt': None, 'atp': None, 'total_buy_quantity': None, 'total_sell_quantity': None, 'lower_circuit': None, 'upper_circuit': None, 'bids': {}, 'asks': {}, 'date': datetime.datetime(2019, 10, 29, 9, 15), 'created_at': datetime.datetime(2019, 11, 1, 16, 56, 54, 210554), 'modified_at': datetime.datetime(2019, 11, 1, 10, 3, 16, 762851)}]\n",
      "Not Found\n",
      "None\n",
      "None\n",
      "Appended\n",
      "[{'id': 707117, 'symbol': 'ibulhsgfin', 'candle_type': 'M5', 'open_price': 189.85, 'high_price': 190.0, 'low_price': 186.2, 'close_price': 189.45, 'volume': 979559, 'vtt': None, 'atp': None, 'total_buy_quantity': None, 'total_sell_quantity': None, 'lower_circuit': None, 'upper_circuit': None, 'bids': {}, 'asks': {}, 'date': datetime.datetime(2019, 10, 29, 9, 15), 'created_at': datetime.datetime(2019, 11, 1, 16, 56, 54, 210554), 'modified_at': datetime.datetime(2019, 11, 1, 10, 3, 16, 762851)}]\n",
      "Not Found\n",
      "None\n",
      "None\n",
      "Appended\n",
      "[{'id': 707117, 'symbol': 'ibulhsgfin', 'candle_type': 'M5', 'open_price': 189.85, 'high_price': 190.0, 'low_price': 186.2, 'close_price': 189.45, 'volume': 979559, 'vtt': None, 'atp': None, 'total_buy_quantity': None, 'total_sell_quantity': None, 'lower_circuit': None, 'upper_circuit': None, 'bids': {}, 'asks': {}, 'date': datetime.datetime(2019, 10, 29, 9, 15), 'created_at': datetime.datetime(2019, 11, 1, 16, 56, 54, 210554), 'modified_at': datetime.datetime(2019, 11, 1, 10, 3, 16, 762851)}]\n",
      "Not Found\n",
      "None\n",
      "None\n",
      "Appended\n"
     ]
    }
   ],
   "source": [
    "my_dict = {'id': 707117, 'symbol': \"ibulhsgfin\", 'candle_type': 'M5', 'open_price': 189.85, 'high_price': 190.0, 'low_price': 186.2, 'close_price': 189.45, 'volume': 979559, 'vtt': None, 'atp': None, 'total_buy_quantity': None, 'total_sell_quantity': None, 'lower_circuit': None, 'upper_circuit': None, 'bids': {}, 'asks': {}, 'date': datetime(2019, 10, 29, 9, 15), 'created_at': datetime(2019, 11, 1, 16, 56, 54, 210554), 'modified_at': datetime(2019, 11, 1, 10, 3, 16, 762851)}\n",
    "# new_dict = {}\n",
    "# new_dict[my_dict.get(\"symbol\")] = []\n",
    "# new_dict.get(my_dict.get(\"symbol\")).append(my_dict)\n",
    "# print(new_dict.get(my_dict.get(\"symbol\")))\n",
    "def cache_socket_data(data):\n",
    "    redis_cache = caches[\"redis\"]\n",
    "    try:\n",
    "        cache_data = redis_cache.get(data.get(\"symbol\"))\n",
    "        cache_data.append(data)\n",
    "    except:\n",
    "        redis_cache.set(str(data.get(\"symbol\")), [data])\n",
    "    else:\n",
    "        redis_cache.set(str(data.get(\"symbol\")), cache_data)\n",
    "        \n",
    "# start_time = datetime.now()\n",
    "# print(caches[\"redis\"].get(\"ibulhsgfin\"))\n",
    "# end_time = datetime.now()\n",
    "# print(end_time-start_time)\n",
    "\n",
    "for i in range(0,20):\n",
    "    cache_socket_data(my_dict)"
   ]
  },
  {
   "cell_type": "code",
   "execution_count": null,
   "metadata": {},
   "outputs": [],
   "source": []
  },
  {
   "cell_type": "code",
   "execution_count": null,
   "metadata": {
    "scrolled": false
   },
   "outputs": [],
   "source": []
  },
  {
   "cell_type": "code",
   "execution_count": 5,
   "metadata": {},
   "outputs": [],
   "source": [
    "# Process for Tasks\n",
    "\n",
    "# 1. Socket Send data to function - Done\n",
    "# 2. func store data in redis as list inside dict - "
   ]
  },
  {
   "cell_type": "code",
   "execution_count": null,
   "metadata": {},
   "outputs": [],
   "source": []
  },
  {
   "cell_type": "code",
   "execution_count": null,
   "metadata": {},
   "outputs": [],
   "source": []
  },
  {
   "cell_type": "code",
   "execution_count": null,
   "metadata": {},
   "outputs": [],
   "source": []
  }
 ],
 "metadata": {
  "kernelspec": {
   "display_name": "Django Shell-Plus",
   "language": "python",
   "name": "django_extensions"
  },
  "language_info": {
   "codemirror_mode": {
    "name": "ipython",
    "version": 3
   },
   "file_extension": ".py",
   "mimetype": "text/x-python",
   "name": "python",
   "nbconvert_exporter": "python",
   "pygments_lexer": "ipython3",
   "version": "3.7.3"
  }
 },
 "nbformat": 4,
 "nbformat_minor": 2
}
