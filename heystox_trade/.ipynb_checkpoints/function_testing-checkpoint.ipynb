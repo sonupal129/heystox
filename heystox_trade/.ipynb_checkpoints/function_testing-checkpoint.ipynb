{
 "cells": [
  {
   "cell_type": "code",
   "execution_count": 1,
   "metadata": {},
   "outputs": [],
   "source": [
    "from market_analysis.models import Candle, UserProfile, Symbol\n",
    "# from market_analysis import views\n",
    "from heystox_intraday.select_stocks_for_trading import *\n",
    "import pandas as pd\n",
    "# from heystox_trade.settings import *\n",
    "from datetime import datetime, timedelta"
   ]
  },
  {
   "cell_type": "code",
   "execution_count": 19,
   "metadata": {},
   "outputs": [
    {
     "name": "stdout",
     "output_type": "stream",
     "text": [
      "1535\n",
      "387\n",
      "161\n",
      "1228\n",
      "1776\n"
     ]
    }
   ],
   "source": [
    "symbols = get_stocks_for_trading(50,250)\n",
    "print(symbol.count())\n",
    "buy = []\n",
    "sell = []\n",
    "nas = []\n",
    "for s in symbol:\n",
    "    try:\n",
    "        sym = s.is_stock_ohl(date='24/07/2019')\n",
    "    except:\n",
    "        nas.append(\"NA\")\n",
    "    if sym == \"BUY\":\n",
    "        buy.append(sym)\n",
    "    elif sym == \"SELL\":\n",
    "        sell.append(sym)        \n",
    "print(len(buy))\n",
    "print(len(sell))\n",
    "print(len(nas))\n",
    "s = len(buy) + len(sell) + len(nas)\n",
    "print(s)"
   ]
  },
  {
   "cell_type": "code",
   "execution_count": 3,
   "metadata": {},
   "outputs": [],
   "source": [
    "# obj = Candle.objects.all().values()\n",
    "# # new_header = [\"Exchange\", \"Token\", \"NA\", \"Symbol\", \"Full Name\", \"closed_price\", \"NA1\", \"NA2\", \"Tick Size\", \"Lot Size\", \"Instrument Type\", \"ISIN\"]\n",
    "# df = pd.DataFrame(obj)\n",
    "# df = df[\"open_price\"]\n",
    "# # obj.columns = new_header\n",
    "# # new_obj = obj[(obj.closed_price >= 55) & (obj.closed_price <= 250)]\n",
    "# # new_obj"
   ]
  },
  {
   "cell_type": "code",
   "execution_count": null,
   "metadata": {},
   "outputs": [],
   "source": []
  },
  {
   "cell_type": "code",
   "execution_count": null,
   "metadata": {},
   "outputs": [],
   "source": []
  },
  {
   "cell_type": "code",
   "execution_count": null,
   "metadata": {},
   "outputs": [],
   "source": []
  },
  {
   "cell_type": "code",
   "execution_count": null,
   "metadata": {},
   "outputs": [],
   "source": []
  },
  {
   "cell_type": "code",
   "execution_count": null,
   "metadata": {},
   "outputs": [],
   "source": []
  }
 ],
 "metadata": {
  "kernelspec": {
   "display_name": "Django Shell-Plus",
   "language": "python",
   "name": "django_extensions"
  },
  "language_info": {
   "codemirror_mode": {
    "name": "ipython",
    "version": 3
   },
   "file_extension": ".py",
   "mimetype": "text/x-python",
   "name": "python",
   "nbconvert_exporter": "python",
   "pygments_lexer": "ipython3",
   "version": "3.7.3"
  }
 },
 "nbformat": 4,
 "nbformat_minor": 2
}
