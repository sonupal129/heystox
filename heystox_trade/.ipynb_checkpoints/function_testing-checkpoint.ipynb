{
 "cells": [
  {
   "cell_type": "code",
   "execution_count": 10,
   "metadata": {},
   "outputs": [],
   "source": [
    "from market_analysis.models import Candle, UserProfile\n",
    "# from market_analysis import views\n",
    "from upstox.upstox_stocks import *\n",
    "import pandas as pd\n",
    "# from heystox_trade.settings import *"
   ]
  },
  {
   "cell_type": "code",
   "execution_count": 3,
   "metadata": {},
   "outputs": [],
   "source": [
    "import datetime"
   ]
  },
  {
   "cell_type": "code",
   "execution_count": 4,
   "metadata": {},
   "outputs": [],
   "source": [
    "# obj = u.get_master_contract(\"NSE_EQ\")\n",
    "# new_header = [\"Exchange\", \"Token\", \"NA\", \"Symbol\", \"Full Name\", \"closed_price\", \"NA1\", \"NA2\", \"Tick Size\", \"Lot Size\", \"Instrument Type\", \"ISIN\"]\n",
    "# df = pd.DataFrame(obj)\n",
    "# obj = df.T\n",
    "# obj.columns = new_header\n",
    "# new_obj = obj[(obj.closed_price >= 55) & (obj.closed_price <= 250)]\n",
    "# new_obj"
   ]
  },
  {
   "cell_type": "code",
   "execution_count": 55,
   "metadata": {},
   "outputs": [],
   "source": [
    "def is_stock_ohl(symbol, date, candle_type):\n",
    "    stock_date = datetime.datetime.strptime(date,'%d/%m/%Y').date()\n",
    "    stock = Symbol.objects.get(symbol=symbol)\n",
    "    todays_candles = Candle.objects.filter(symbol=stock, candle_type=candle_type, date__date=stock_date)\n",
    "    first_candle = todays_candles.first()\n",
    "    first_candle_open_price = first_candle.open_price\n",
    "    first_candle_low_price = first_candle.low_price\n",
    "    first_candle_high_price = first_candle.high_price\n",
    "    current_prices = todays_candles.aggregate(Max(\"high_price\"), Min(\"low_price\"))\n",
    "    print(current_prices)\n",
    "    print(current_prices.keys())\n",
    "    if first_candle_open_price == current_prices.get(\"high_price__max\"):\n",
    "        return \"SELL\"\n",
    "    elif first_candle_open_price == current_prices.get(\"low_price__min\"):\n",
    "        return \"BUY\"\n",
    "    else:\n",
    "        return False"
   ]
  },
  {
   "cell_type": "code",
   "execution_count": 56,
   "metadata": {},
   "outputs": [
    {
     "name": "stdout",
     "output_type": "stream",
     "text": [
      "{'high_price__max': 75.3, 'low_price__min': 71.9}\n",
      "dict_keys(['high_price__max', 'low_price__min'])\n"
     ]
    },
    {
     "data": {
      "text/plain": [
       "False"
      ]
     },
     "execution_count": 56,
     "metadata": {},
     "output_type": "execute_result"
    }
   ],
   "source": [
    "is_stock_ohl(\"ashokley\", \"24/07/2019\", \"M5\")"
   ]
  },
  {
   "cell_type": "code",
   "execution_count": null,
   "metadata": {},
   "outputs": [],
   "source": [
    "\n"
   ]
  }
 ],
 "metadata": {
  "kernelspec": {
   "display_name": "Django Shell-Plus",
   "language": "python",
   "name": "django_extensions"
  },
  "language_info": {
   "codemirror_mode": {
    "name": "ipython",
    "version": 3
   },
   "file_extension": ".py",
   "mimetype": "text/x-python",
   "name": "python",
   "nbconvert_exporter": "python",
   "pygments_lexer": "ipython3",
   "version": "3.7.3"
  }
 },
 "nbformat": 4,
 "nbformat_minor": 2
}
