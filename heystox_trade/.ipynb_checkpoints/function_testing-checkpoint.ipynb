{
 "cells": [
  {
   "cell_type": "code",
   "execution_count": 1,
   "metadata": {},
   "outputs": [],
   "source": [
    "from market_analysis.models import Candle, UserProfile, Symbol, SortedStocksList, StrategyTimestamp\n",
    "# from market_analysis import views\n",
    "from django.contrib.auth.models import User\n",
    "from heystox_intraday.select_stocks_for_trading import *\n",
    "import pandas as pd\n",
    "# from heystox_trade.settings import *\n",
    "from datetime import datetime, timedelta\n",
    "from heystox_intraday.intraday_fetchdata import *\n",
    "from market_analysis.tasks.stock_data_import_tasks import *\n",
    "from market_analysis.tasks.day_trading_tasks import *\n",
    "from django.core.cache import cache, caches\n",
    "from datetime import time, timedelta, datetime\n",
    "from heystox_intraday.trading_indicator import *"
   ]
  },
  {
   "cell_type": "code",
   "execution_count": 2,
   "metadata": {},
   "outputs": [],
   "source": [
    "raju = [\"adanient\", \"bhel\", \"dlf\", \"gmrinfra\", \"gail\", \"infratel\", \"ioc\", \"idea\", \"nhpc\", \"pnb\", \"relinfra\", \"recltd\", \"spencers\", \"tatapower\", \"vakrangee\", \"yesbank\", \"ujjivansfb\", \"granules\", \"mothersumi\", \"adanipower\", \"dishtv\", \"sail\", \"nationalum\", \"jswsteel\", \"federalbnk\", \"jindalstel\", \"idfcfirstb\", \"rvnl\", \"equitas\"]\n",
    "sorted_stock = SortedStocksList.objects.get(symbol__symbol=\"spencers\", created_at__date=datetime.now().date())"
   ]
  },
  {
   "cell_type": "code",
   "execution_count": 3,
   "metadata": {
    "scrolled": false
   },
   "outputs": [
    {
     "ename": "IndexError",
     "evalue": "single positional indexer is out-of-bounds",
     "output_type": "error",
     "traceback": [
      "\u001b[0;31m---------------------------------------------------------------------------\u001b[0m",
      "\u001b[0;31mIndexError\u001b[0m                                Traceback (most recent call last)",
      "\u001b[0;32m<ipython-input-3-99ca22e9bc20>\u001b[0m in \u001b[0;36m<module>\u001b[0;34m()\u001b[0m\n\u001b[1;32m      5\u001b[0m \u001b[0mdf\u001b[0m \u001b[0;34m=\u001b[0m \u001b[0mdf\u001b[0m\u001b[0;34m[\u001b[0m\u001b[0;36m75\u001b[0m\u001b[0;34m:\u001b[0m\u001b[0;34m]\u001b[0m\u001b[0;34m\u001b[0m\u001b[0;34m\u001b[0m\u001b[0m\n\u001b[1;32m      6\u001b[0m \u001b[0;32mif\u001b[0m \u001b[0msorted_stock\u001b[0m\u001b[0;34m.\u001b[0m\u001b[0mentry_type\u001b[0m \u001b[0;32min\u001b[0m \u001b[0;34m[\u001b[0m\u001b[0;34m\"SELL\"\u001b[0m\u001b[0;34m,\u001b[0m \u001b[0;34m\"SS\"\u001b[0m\u001b[0;34m]\u001b[0m\u001b[0;34m:\u001b[0m\u001b[0;34m\u001b[0m\u001b[0;34m\u001b[0m\u001b[0m\n\u001b[0;32m----> 7\u001b[0;31m     \u001b[0mlast_crossover\u001b[0m \u001b[0;34m=\u001b[0m \u001b[0mdf\u001b[0m\u001b[0;34m[\u001b[0m\u001b[0mdf\u001b[0m\u001b[0;34m.\u001b[0m\u001b[0msignal\u001b[0m\u001b[0;34m.\u001b[0m\u001b[0mstr\u001b[0m\u001b[0;34m.\u001b[0m\u001b[0mendswith\u001b[0m\u001b[0;34m(\u001b[0m\u001b[0;34m\"SELL_CROSSOVER\"\u001b[0m\u001b[0;34m)\u001b[0m\u001b[0;34m]\u001b[0m\u001b[0;34m.\u001b[0m\u001b[0miloc\u001b[0m\u001b[0;34m[\u001b[0m\u001b[0;34m-\u001b[0m\u001b[0;36m1\u001b[0m\u001b[0;34m]\u001b[0m\u001b[0;34m\u001b[0m\u001b[0;34m\u001b[0m\u001b[0m\n\u001b[0m\u001b[1;32m      8\u001b[0m \u001b[0;32melif\u001b[0m \u001b[0msorted_stock\u001b[0m\u001b[0;34m.\u001b[0m\u001b[0mentry_type\u001b[0m \u001b[0;32min\u001b[0m \u001b[0;34m[\u001b[0m\u001b[0;34m\"BUY\"\u001b[0m\u001b[0;34m,\u001b[0m \u001b[0;34m\"SB\"\u001b[0m\u001b[0;34m]\u001b[0m\u001b[0;34m:\u001b[0m\u001b[0;34m\u001b[0m\u001b[0;34m\u001b[0m\u001b[0m\n\u001b[1;32m      9\u001b[0m     \u001b[0mlast_crossover\u001b[0m \u001b[0;34m=\u001b[0m \u001b[0mdf\u001b[0m\u001b[0;34m[\u001b[0m\u001b[0mdf\u001b[0m\u001b[0;34m.\u001b[0m\u001b[0msignal\u001b[0m\u001b[0;34m.\u001b[0m\u001b[0mstr\u001b[0m\u001b[0;34m.\u001b[0m\u001b[0mendswith\u001b[0m\u001b[0;34m(\u001b[0m\u001b[0;34m\"BUY_CROSSOVER\"\u001b[0m\u001b[0;34m)\u001b[0m\u001b[0;34m]\u001b[0m\u001b[0;34m.\u001b[0m\u001b[0miloc\u001b[0m\u001b[0;34m[\u001b[0m\u001b[0;34m-\u001b[0m\u001b[0;36m1\u001b[0m\u001b[0;34m]\u001b[0m\u001b[0;34m\u001b[0m\u001b[0;34m\u001b[0m\u001b[0m\n",
      "\u001b[0;32m~/Desktop/Sonu/env/lib/python3.7/site-packages/pandas/core/indexing.py\u001b[0m in \u001b[0;36m__getitem__\u001b[0;34m(self, key)\u001b[0m\n\u001b[1;32m   1422\u001b[0m \u001b[0;34m\u001b[0m\u001b[0m\n\u001b[1;32m   1423\u001b[0m             \u001b[0mmaybe_callable\u001b[0m \u001b[0;34m=\u001b[0m \u001b[0mcom\u001b[0m\u001b[0;34m.\u001b[0m\u001b[0mapply_if_callable\u001b[0m\u001b[0;34m(\u001b[0m\u001b[0mkey\u001b[0m\u001b[0;34m,\u001b[0m \u001b[0mself\u001b[0m\u001b[0;34m.\u001b[0m\u001b[0mobj\u001b[0m\u001b[0;34m)\u001b[0m\u001b[0;34m\u001b[0m\u001b[0;34m\u001b[0m\u001b[0m\n\u001b[0;32m-> 1424\u001b[0;31m             \u001b[0;32mreturn\u001b[0m \u001b[0mself\u001b[0m\u001b[0;34m.\u001b[0m\u001b[0m_getitem_axis\u001b[0m\u001b[0;34m(\u001b[0m\u001b[0mmaybe_callable\u001b[0m\u001b[0;34m,\u001b[0m \u001b[0maxis\u001b[0m\u001b[0;34m=\u001b[0m\u001b[0maxis\u001b[0m\u001b[0;34m)\u001b[0m\u001b[0;34m\u001b[0m\u001b[0;34m\u001b[0m\u001b[0m\n\u001b[0m\u001b[1;32m   1425\u001b[0m \u001b[0;34m\u001b[0m\u001b[0m\n\u001b[1;32m   1426\u001b[0m     \u001b[0;32mdef\u001b[0m \u001b[0m_is_scalar_access\u001b[0m\u001b[0;34m(\u001b[0m\u001b[0mself\u001b[0m\u001b[0;34m,\u001b[0m \u001b[0mkey\u001b[0m\u001b[0;34m:\u001b[0m \u001b[0mTuple\u001b[0m\u001b[0;34m)\u001b[0m\u001b[0;34m:\u001b[0m\u001b[0;34m\u001b[0m\u001b[0;34m\u001b[0m\u001b[0m\n",
      "\u001b[0;32m~/Desktop/Sonu/env/lib/python3.7/site-packages/pandas/core/indexing.py\u001b[0m in \u001b[0;36m_getitem_axis\u001b[0;34m(self, key, axis)\u001b[0m\n\u001b[1;32m   2155\u001b[0m \u001b[0;34m\u001b[0m\u001b[0m\n\u001b[1;32m   2156\u001b[0m             \u001b[0;31m# validate the location\u001b[0m\u001b[0;34m\u001b[0m\u001b[0;34m\u001b[0m\u001b[0;34m\u001b[0m\u001b[0m\n\u001b[0;32m-> 2157\u001b[0;31m             \u001b[0mself\u001b[0m\u001b[0;34m.\u001b[0m\u001b[0m_validate_integer\u001b[0m\u001b[0;34m(\u001b[0m\u001b[0mkey\u001b[0m\u001b[0;34m,\u001b[0m \u001b[0maxis\u001b[0m\u001b[0;34m)\u001b[0m\u001b[0;34m\u001b[0m\u001b[0;34m\u001b[0m\u001b[0m\n\u001b[0m\u001b[1;32m   2158\u001b[0m \u001b[0;34m\u001b[0m\u001b[0m\n\u001b[1;32m   2159\u001b[0m             \u001b[0;32mreturn\u001b[0m \u001b[0mself\u001b[0m\u001b[0;34m.\u001b[0m\u001b[0m_get_loc\u001b[0m\u001b[0;34m(\u001b[0m\u001b[0mkey\u001b[0m\u001b[0;34m,\u001b[0m \u001b[0maxis\u001b[0m\u001b[0;34m=\u001b[0m\u001b[0maxis\u001b[0m\u001b[0;34m)\u001b[0m\u001b[0;34m\u001b[0m\u001b[0;34m\u001b[0m\u001b[0m\n",
      "\u001b[0;32m~/Desktop/Sonu/env/lib/python3.7/site-packages/pandas/core/indexing.py\u001b[0m in \u001b[0;36m_validate_integer\u001b[0;34m(self, key, axis)\u001b[0m\n\u001b[1;32m   2086\u001b[0m         \u001b[0mlen_axis\u001b[0m \u001b[0;34m=\u001b[0m \u001b[0mlen\u001b[0m\u001b[0;34m(\u001b[0m\u001b[0mself\u001b[0m\u001b[0;34m.\u001b[0m\u001b[0mobj\u001b[0m\u001b[0;34m.\u001b[0m\u001b[0m_get_axis\u001b[0m\u001b[0;34m(\u001b[0m\u001b[0maxis\u001b[0m\u001b[0;34m)\u001b[0m\u001b[0;34m)\u001b[0m\u001b[0;34m\u001b[0m\u001b[0;34m\u001b[0m\u001b[0m\n\u001b[1;32m   2087\u001b[0m         \u001b[0;32mif\u001b[0m \u001b[0mkey\u001b[0m \u001b[0;34m>=\u001b[0m \u001b[0mlen_axis\u001b[0m \u001b[0;32mor\u001b[0m \u001b[0mkey\u001b[0m \u001b[0;34m<\u001b[0m \u001b[0;34m-\u001b[0m\u001b[0mlen_axis\u001b[0m\u001b[0;34m:\u001b[0m\u001b[0;34m\u001b[0m\u001b[0;34m\u001b[0m\u001b[0m\n\u001b[0;32m-> 2088\u001b[0;31m             \u001b[0;32mraise\u001b[0m \u001b[0mIndexError\u001b[0m\u001b[0;34m(\u001b[0m\u001b[0;34m\"single positional indexer is out-of-bounds\"\u001b[0m\u001b[0;34m)\u001b[0m\u001b[0;34m\u001b[0m\u001b[0;34m\u001b[0m\u001b[0m\n\u001b[0m\u001b[1;32m   2089\u001b[0m \u001b[0;34m\u001b[0m\u001b[0m\n\u001b[1;32m   2090\u001b[0m     \u001b[0;32mdef\u001b[0m \u001b[0m_getitem_tuple\u001b[0m\u001b[0;34m(\u001b[0m\u001b[0mself\u001b[0m\u001b[0;34m,\u001b[0m \u001b[0mtup\u001b[0m\u001b[0;34m)\u001b[0m\u001b[0;34m:\u001b[0m\u001b[0;34m\u001b[0m\u001b[0;34m\u001b[0m\u001b[0m\n",
      "\u001b[0;31mIndexError\u001b[0m: single positional indexer is out-of-bounds"
     ]
    }
   ],
   "source": [
    "macd_indicator = Indicator.objects.get(name=\"MACD\")\n",
    "df = get_macd_data(sorted_stock.symbol)\n",
    "df.loc[(df[\"signal\"] != df[\"signal\"].shift()) & (df[\"signal\"] == \"BUY\"), \"signal\"] = \"BUY_CROSSOVER\"\n",
    "df.loc[(df[\"signal\"] != df[\"signal\"].shift()) & (df[\"signal\"] == \"SELL\"), \"signal\"] = \"SELL_CROSSOVER\"\n",
    "df = df[75:]\n",
    "if sorted_stock.entry_type in [\"SELL\", \"SS\"]:\n",
    "    last_crossover = df[df.signal.str.endswith(\"SELL_CROSSOVER\")].iloc[-1]\n",
    "elif sorted_stock.entry_type in [\"BUY\", \"SB\"]:\n",
    "    last_crossover = df[df.signal.str.endswith(\"BUY_CROSSOVER\")].iloc[-1]\n",
    "df_after_last_crossover = df.loc[df[\"date\"] >= last_crossover.date]\n",
    "try:\n",
    "    if last_crossover.signal == \"SELL_CROSSOVER\":\n",
    "        crossover_signal = df_after_last_crossover.loc[(df.macd_diff <= -0.070)].iloc[0]\n",
    "    elif last_crossover.signal == \"BUY_CROSSOVER\":\n",
    "        crossover_signal = df_after_last_crossover.loc[(df.macd_diff >= 0.070)].iloc[0]\n",
    "except:\n",
    "    crossover_signal = None\n",
    "# df.head(50)\n",
    "df.loc[(df.macd_diff >= 0.070)]\n",
    "last_crossover\n",
    "crossover_signal"
   ]
  },
  {
   "cell_type": "code",
   "execution_count": null,
   "metadata": {},
   "outputs": [],
   "source": [
    "macd_indicator = Indicator.objects.get(name=\"MACD\")\n",
    "df = get_stochastic_data(sorted_stock.symbol)\n",
    "df.loc[(df[\"signal\"] != df[\"signal\"].shift()) & (df[\"signal\"] == \"BUY\"), \"signal\"] = \"BUY_CROSSOVER\"\n",
    "df.loc[(df[\"signal\"] != df[\"signal\"].shift()) & (df[\"signal\"] == \"SELL\"), \"signal\"] = \"SELL_CROSSOVER\"\n",
    "df = df[75:]\n",
    "if sorted_stock.entry_type in [\"SELL\", \"SS\"]:\n",
    "    last_crossover = df[df.signal.str.endswith(\"SELL_CROSSOVER\")].iloc[-1]\n",
    "elif sorted_stock.entry_type in [\"BUY\", \"SB\"]:\n",
    "    last_crossover = df[df.signal.str.endswith(\"BUY_CROSSOVER\")].iloc[-1]\n",
    "df_after_last_crossover = df.loc[df[\"date\"] >= last_crossover.date]\n",
    "try:\n",
    "    if last_crossover.signal == \"SELL_CROSSOVER\":\n",
    "        crossover_signal = df_after_last_crossover.loc[(df.stoch_diff <= -22.70)].iloc[0]\n",
    "    elif last_crossover.signal == \"BUY_CROSSOVER\":\n",
    "        crossover_signal = df_after_last_crossover.loc[(df.stoch_diff >= 22.70)].iloc[0]\n",
    "except:\n",
    "    crossover_signal = None\n",
    "df_after_last_crossover"
   ]
  },
  {
   "cell_type": "code",
   "execution_count": null,
   "metadata": {},
   "outputs": [],
   "source": []
  },
  {
   "cell_type": "code",
   "execution_count": null,
   "metadata": {
    "scrolled": true
   },
   "outputs": [],
   "source": [
    "raju = [\"adanient\", \"bhel\", \"dlf\", \"gmrinfra\", \"gail\", \"infratel\", \"ioc\", \"idea\", \"nhpc\", \"pnb\", \"relinfra\", \"recltd\", \"spencers\", \"tatapower\", \"vakrangee\", \"yesbank\", \"ujjivansfb\", \"granules\", \"mothersumi\", \"adanipower\", \"dishtv\", \"sail\", \"nationalum\", \"jswsteel\", \"federalbnk\", \"jindalstel\", \"idfcfirstb\", \"rvnl\", \"equitas\"]\n",
    "# fifth = date(2020,1,25)\n",
    "# for r in raju:\n",
    "#     symbol = Symbol.objects.get(symbol=r)\n",
    "#     SortedStocksList.objects.create(symbol=symbol, entry_type=\"BUY\")\n",
    "# # Candle.objects.filter(date__date=fifth, symbol__symbol__in=raju)\n",
    "# for candle in Candle.objects.filter(date__date=fifth, symbol__symbol__in=raju):\n",
    "#     candle.date = candle.date + timedelta(1)\n",
    "#     candle.save()"
   ]
  },
  {
   "cell_type": "code",
   "execution_count": null,
   "metadata": {},
   "outputs": [],
   "source": [
    "from heystox_intraday.intraday_functions_strategy import get_stochastic_crossover, get_macd_crossover"
   ]
  },
  {
   "cell_type": "code",
   "execution_count": 4,
   "metadata": {
    "scrolled": true
   },
   "outputs": [
    {
     "data": {
      "text/plain": [
       "[(<SortedStocksList: adanient | 2020-01-28>, False),\n",
       " (<SortedStocksList: bhel | 2020-01-28>, False),\n",
       " (<SortedStocksList: dlf | 2020-01-28>, False),\n",
       " (<SortedStocksList: gmrinfra | 2020-01-28>, False),\n",
       " (<SortedStocksList: gail | 2020-01-28>, False),\n",
       " (<SortedStocksList: infratel | 2020-01-28>, False),\n",
       " (<SortedStocksList: ioc | 2020-01-28>, False),\n",
       " (<SortedStocksList: idea | 2020-01-28>, False),\n",
       " (<SortedStocksList: nhpc | 2020-01-28>, False),\n",
       " (<SortedStocksList: pnb | 2020-01-28>, False),\n",
       " (<SortedStocksList: relinfra | 2020-01-28>, False),\n",
       " (<SortedStocksList: recltd | 2020-01-28>, False),\n",
       " (<SortedStocksList: spencers | 2020-01-28>, False),\n",
       " (<SortedStocksList: tatapower | 2020-01-28>, False),\n",
       " (<SortedStocksList: vakrangee | 2020-01-28>, False),\n",
       " (<SortedStocksList: yesbank | 2020-01-28>, False),\n",
       " (<SortedStocksList: ujjivansfb | 2020-01-28>, False),\n",
       " (<SortedStocksList: granules | 2020-01-28>, False),\n",
       " (<SortedStocksList: mothersumi | 2020-01-28>, False),\n",
       " (<SortedStocksList: adanipower | 2020-01-28>, False),\n",
       " (<SortedStocksList: dishtv | 2020-01-28>, False),\n",
       " (<SortedStocksList: sail | 2020-01-28>, False),\n",
       " (<SortedStocksList: nationalum | 2020-01-28>, False),\n",
       " (<SortedStocksList: jswsteel | 2020-01-28>, False),\n",
       " (<SortedStocksList: federalbnk | 2020-01-28>, False),\n",
       " (<SortedStocksList: jindalstel | 2020-01-28>, False),\n",
       " (<SortedStocksList: idfcfirstb | 2020-01-28>, False),\n",
       " (<SortedStocksList: rvnl | 2020-01-28>, False),\n",
       " (<SortedStocksList: equitas | 2020-01-28>, False)]"
      ]
     },
     "execution_count": 4,
     "metadata": {},
     "output_type": "execute_result"
    }
   ],
   "source": [
    "liquid_stocks = [SortedStocksList.objects.get_or_create(symbol=Symbol.objects.get(symbol=r), entry_type=\"SS\") for r in raju]\n",
    "liquid_stocks"
   ]
  },
  {
   "cell_type": "code",
   "execution_count": null,
   "metadata": {},
   "outputs": [],
   "source": []
  }
 ],
 "metadata": {
  "kernelspec": {
   "display_name": "Django Shell-Plus",
   "language": "python",
   "name": "django_extensions"
  },
  "language_info": {
   "codemirror_mode": {
    "name": "ipython",
    "version": 3
   },
   "file_extension": ".py",
   "mimetype": "text/x-python",
   "name": "python",
   "nbconvert_exporter": "python",
   "pygments_lexer": "ipython3",
   "version": "3.7.3"
  }
 },
 "nbformat": 4,
 "nbformat_minor": 2
}
