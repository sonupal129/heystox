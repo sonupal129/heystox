{
 "cells": [
  {
   "cell_type": "code",
   "execution_count": 1,
   "metadata": {},
   "outputs": [],
   "source": [
    "from market_analysis.models import Candle, UserProfile, Symbol, SortedStocksList, TickerData\n",
    "# from market_analysis import views\n",
    "from django.contrib.auth.models import User\n",
    "from heystox_intraday.select_stocks_for_trading import *\n",
    "import pandas as pd\n",
    "# from heystox_trade.settings import *\n",
    "from datetime import datetime, timedelta"
   ]
  },
  {
   "cell_type": "code",
   "execution_count": 2,
   "metadata": {},
   "outputs": [],
   "source": [
    "# get movement stocks\n",
    "# stocks = get_liquid_stocks()\n",
    "# buy_stocks = []\n",
    "# sell_stocks = []\n",
    "# for stock in stocks:\n",
    "#     if stock.get_stock_movement() > 1.2:\n",
    "#         buy_stocks.append(stock)\n",
    "#     elif stock.get_stocks_movement() > -1.2:\n",
    "#         sell_stocks.append(stock)\n",
    "#     else:\n",
    "#         continue"
   ]
  },
  {
   "cell_type": "code",
   "execution_count": 3,
   "metadata": {
    "scrolled": false
   },
   "outputs": [],
   "source": [
    "# obj = Candle.objects.filter(symbol__symbol=\"ambujacem\", candle_type=\"M5\", date__range=[datetime.strptime(\"17/10/2019\",'%d/%m/%Y').date(), datetime.strptime(\"19/10/2019\",'%d/%m/%Y').date()]).values()\n",
    "# # # new_header = [\"Exchange\", \"Token\", \"NA\", \"Symbol\", \"Full Name\", \"closed_price\", \"NA1\", \"NA2\", \"Tick Size\", \"Lot Size\", \"Instrument Type\", \"ISIN\"]\n",
    "\n",
    "# df = pd.DataFrame(list(obj))\n",
    "# # # obj.columns = new_header\n",
    "# # # new_obj = obj[(obj.close_price >= 55) & (obj.close_price <= 250)]\n",
    "# symbol = Symbol.objects.get(symbol=\"pnb\")\n",
    "# # symbol.is_stock_ohl(date=\"17/10/2019\")\n",
    "# first_candle_price = df.iloc[0:]\n",
    "# # previouse_day_last_candle_price = df.loc[:, [\"open_price\", \"high_price\", \"low_price\", \"close_price\"]]\n",
    "# # min(current_candle_price.min().values)\n",
    "# last_day_candles = df[(df.date <= datetime.strptime(\"18/10/2019\",'%d/%m/%Y').date())]\n",
    "# last_day_closing_price = last_day_candles.iloc[[-1]].close_price\n",
    "# last_day_opening_price = last_day_candles.iloc[[0]].open_price\n",
    "# today_open_price = df[(df.date >= datetime.strptime(\"18/10/2019\",'%d/%m/%Y').date())].iloc[[0]].open_price\n",
    "# # print(first_candle_price)\n",
    "# today_open_price > 100\n"
   ]
  },
  {
   "cell_type": "code",
   "execution_count": 4,
   "metadata": {},
   "outputs": [],
   "source": [
    "from django.core.cache import cache\n",
    "from heystox_intraday.intraday_fetchdata import *"
   ]
  },
  {
   "cell_type": "code",
   "execution_count": 5,
   "metadata": {},
   "outputs": [],
   "source": [
    "from ta.trend import macd, macd_diff, macd_signal, ema, ema_indicator\n",
    "from ta.momentum import stoch, stoch_signal\n",
    "stock = Symbol.objects.get(symbol=\"ibulhsgfin\")\n",
    "obj = stock.get_stock_data(days=1, end_date=datetime.strptime(\"30/10/2019\",'%d/%m/%Y').date())\n",
    "df = pd.DataFrame(list(obj.values()))\n",
    "# df[\"macd\"] = ema_indicator(df.close_price, n=12) - ema_indicator(df.close_price, n=26)\n",
    "# df[\"macd_signal\"] = ema_indicator(df.macd, n=9)\n",
    "# df[\"diff\"] = df.macd - df.macd_signal\n",
    "# df[\"percentage\"] = round(macd_diff(df.close_price) * macd(df.close_price) / float(100), 4)\n",
    "# df[\"percentage\"] = df.macd * df.diff\n",
    "# df.to_csv(\"namaste.csv\")\n",
    "df[\"stoch\"] = stoch(df.high_price, df.low_price, df.close_price)\n",
    "df[\"stoch_signal\"] = stoch_signal(df.high_price, df.low_price, df.close_price)\n",
    "df.to_csv(\"stoch_analytics.csv\")"
   ]
  },
  {
   "cell_type": "code",
   "execution_count": 6,
   "metadata": {},
   "outputs": [],
   "source": [
    "# import matplotlib.pyplot as plt\n",
    "# plt.plot(df.stoch)\n",
    "# plt.plot(df.stoch_signal)\n",
    "# plt.show()"
   ]
  },
  {
   "cell_type": "code",
   "execution_count": 7,
   "metadata": {},
   "outputs": [],
   "source": [
    "# from upstox_api.api import *\n",
    "# user = User.objects.first()\n",
    "# user = cache.get(user.email + \"_upstox_login_user\")\n",
    "# user.get_master_contract(\"NSE_EQ\")\n",
    "# # my_dict= {'equity': {'exposure_margin': 0, 'notional_cash': 0, 'unrealized_mtm': 0, 'payin_amount': 0, 'realized_mtm': -18.95, 'span_margin': 0, 'available_margin': 7017.5275, 'adhoc_margin': 0, 'used_margin': 2898.0725}, 'commodity': {'exposure_margin': 0, 'notional_cash': 0, 'unrealized_mtm': 0, 'payin_amount': 0, 'realized_mtm': 0, 'span_margin': 0, 'available_margin': 0, 'ledger_balance': 0, 'adhoc_margin': 0, 'used_margin': 0}}\n",
    "# # my_dict.get(\"equity\").get(\"available_margin\")\n",
    "# def event_handler_quote_update(message):\n",
    "#     print(\"Quote Update: %s\" % str(message))\n",
    "# user.set_on_quote_update(event_handler_quote_update)\n",
    "# user.subscribe(user.get_instrument_by_symbol('NSE_EQ', 'ibulhsgfin'), LiveFeedType.Full)\n",
    "# user.start_websocket(True)"
   ]
  },
  {
   "cell_type": "code",
   "execution_count": 16,
   "metadata": {
    "scrolled": false
   },
   "outputs": [
    {
     "name": "stdout",
     "output_type": "stream",
     "text": [
      "/Users/sonu2/Desktop/Sonu/heystox_trader/csv\n",
      "/Users/sonu2/Desktop/Sonu/heystox_trader/csv/tickderdata.csv\n"
     ]
    },
    {
     "ename": "NotADirectoryError",
     "evalue": "[Errno 20] Not a directory: '/Users/sonu2/Desktop/Sonu/heystox_trader/csv/tickderdata.csv'",
     "output_type": "error",
     "traceback": [
      "\u001b[0;31m---------------------------------------------------------------------------\u001b[0m",
      "\u001b[0;31mNotADirectoryError\u001b[0m                        Traceback (most recent call last)",
      "\u001b[0;32m<ipython-input-16-88c212147ea7>\u001b[0m in \u001b[0;36m<module>\u001b[0;34m()\u001b[0m\n\u001b[1;32m     22\u001b[0m         \u001b[0mdf\u001b[0m\u001b[0;34m.\u001b[0m\u001b[0mto_csv\u001b[0m\u001b[0;34m(\u001b[0m\u001b[0mfilepath\u001b[0m\u001b[0;34m,\u001b[0m \u001b[0mmode\u001b[0m\u001b[0;34m=\u001b[0m\u001b[0;34m\"a\"\u001b[0m\u001b[0;34m,\u001b[0m \u001b[0mheader\u001b[0m\u001b[0;34m=\u001b[0m\u001b[0;32mFalse\u001b[0m\u001b[0;34m)\u001b[0m\u001b[0;34m\u001b[0m\u001b[0;34m\u001b[0m\u001b[0m\n\u001b[1;32m     23\u001b[0m \u001b[0;34m\u001b[0m\u001b[0m\n\u001b[0;32m---> 24\u001b[0;31m \u001b[0madd_tickerdata_csv\u001b[0m\u001b[0;34m(\u001b[0m\u001b[0mparse_stock_response_data\u001b[0m\u001b[0;34m(\u001b[0m\u001b[0mmy_dict\u001b[0m\u001b[0;34m)\u001b[0m\u001b[0;34m)\u001b[0m\u001b[0;34m\u001b[0m\u001b[0;34m\u001b[0m\u001b[0m\n\u001b[0m\u001b[1;32m     25\u001b[0m \u001b[0;31m# start_time = datetime.now()\u001b[0m\u001b[0;34m\u001b[0m\u001b[0;34m\u001b[0m\u001b[0;34m\u001b[0m\u001b[0m\n\u001b[1;32m     26\u001b[0m \u001b[0;31m# ltt = int(str(my_dict.get(\"ltt\"))[:10])\u001b[0m\u001b[0;34m\u001b[0m\u001b[0;34m\u001b[0m\u001b[0;34m\u001b[0m\u001b[0m\n",
      "\u001b[0;32m<ipython-input-16-88c212147ea7>\u001b[0m in \u001b[0;36madd_tickerdata_csv\u001b[0;34m(data)\u001b[0m\n\u001b[1;32m     20\u001b[0m         \u001b[0mprint\u001b[0m\u001b[0;34m(\u001b[0m\u001b[0;34m\"rahuj\"\u001b[0m\u001b[0;34m)\u001b[0m\u001b[0;34m\u001b[0m\u001b[0;34m\u001b[0m\u001b[0m\n\u001b[1;32m     21\u001b[0m     \u001b[0;32melse\u001b[0m\u001b[0;34m:\u001b[0m\u001b[0;34m\u001b[0m\u001b[0;34m\u001b[0m\u001b[0m\n\u001b[0;32m---> 22\u001b[0;31m         \u001b[0mdf\u001b[0m\u001b[0;34m.\u001b[0m\u001b[0mto_csv\u001b[0m\u001b[0;34m(\u001b[0m\u001b[0mfilepath\u001b[0m\u001b[0;34m,\u001b[0m \u001b[0mmode\u001b[0m\u001b[0;34m=\u001b[0m\u001b[0;34m\"a\"\u001b[0m\u001b[0;34m,\u001b[0m \u001b[0mheader\u001b[0m\u001b[0;34m=\u001b[0m\u001b[0;32mFalse\u001b[0m\u001b[0;34m)\u001b[0m\u001b[0;34m\u001b[0m\u001b[0;34m\u001b[0m\u001b[0m\n\u001b[0m\u001b[1;32m     23\u001b[0m \u001b[0;34m\u001b[0m\u001b[0m\n\u001b[1;32m     24\u001b[0m \u001b[0madd_tickerdata_csv\u001b[0m\u001b[0;34m(\u001b[0m\u001b[0mparse_stock_response_data\u001b[0m\u001b[0;34m(\u001b[0m\u001b[0mmy_dict\u001b[0m\u001b[0;34m)\u001b[0m\u001b[0;34m)\u001b[0m\u001b[0;34m\u001b[0m\u001b[0;34m\u001b[0m\u001b[0m\n",
      "\u001b[0;32m~/Desktop/Sonu/env/lib/python3.7/site-packages/pandas/core/generic.py\u001b[0m in \u001b[0;36mto_csv\u001b[0;34m(self, path_or_buf, sep, na_rep, float_format, columns, header, index, index_label, mode, encoding, compression, quoting, quotechar, line_terminator, chunksize, date_format, doublequote, escapechar, decimal)\u001b[0m\n\u001b[1;32m   3226\u001b[0m             \u001b[0mdecimal\u001b[0m\u001b[0;34m=\u001b[0m\u001b[0mdecimal\u001b[0m\u001b[0;34m,\u001b[0m\u001b[0;34m\u001b[0m\u001b[0;34m\u001b[0m\u001b[0m\n\u001b[1;32m   3227\u001b[0m         )\n\u001b[0;32m-> 3228\u001b[0;31m         \u001b[0mformatter\u001b[0m\u001b[0;34m.\u001b[0m\u001b[0msave\u001b[0m\u001b[0;34m(\u001b[0m\u001b[0;34m)\u001b[0m\u001b[0;34m\u001b[0m\u001b[0;34m\u001b[0m\u001b[0m\n\u001b[0m\u001b[1;32m   3229\u001b[0m \u001b[0;34m\u001b[0m\u001b[0m\n\u001b[1;32m   3230\u001b[0m         \u001b[0;32mif\u001b[0m \u001b[0mpath_or_buf\u001b[0m \u001b[0;32mis\u001b[0m \u001b[0;32mNone\u001b[0m\u001b[0;34m:\u001b[0m\u001b[0;34m\u001b[0m\u001b[0;34m\u001b[0m\u001b[0m\n",
      "\u001b[0;32m~/Desktop/Sonu/env/lib/python3.7/site-packages/pandas/io/formats/csvs.py\u001b[0m in \u001b[0;36msave\u001b[0;34m(self)\u001b[0m\n\u001b[1;32m    181\u001b[0m                 \u001b[0mself\u001b[0m\u001b[0;34m.\u001b[0m\u001b[0mmode\u001b[0m\u001b[0;34m,\u001b[0m\u001b[0;34m\u001b[0m\u001b[0;34m\u001b[0m\u001b[0m\n\u001b[1;32m    182\u001b[0m                 \u001b[0mencoding\u001b[0m\u001b[0;34m=\u001b[0m\u001b[0mself\u001b[0m\u001b[0;34m.\u001b[0m\u001b[0mencoding\u001b[0m\u001b[0;34m,\u001b[0m\u001b[0;34m\u001b[0m\u001b[0;34m\u001b[0m\u001b[0m\n\u001b[0;32m--> 183\u001b[0;31m                 \u001b[0mcompression\u001b[0m\u001b[0;34m=\u001b[0m\u001b[0mself\u001b[0m\u001b[0;34m.\u001b[0m\u001b[0mcompression\u001b[0m\u001b[0;34m,\u001b[0m\u001b[0;34m\u001b[0m\u001b[0;34m\u001b[0m\u001b[0m\n\u001b[0m\u001b[1;32m    184\u001b[0m             )\n\u001b[1;32m    185\u001b[0m             \u001b[0mclose\u001b[0m \u001b[0;34m=\u001b[0m \u001b[0;32mTrue\u001b[0m\u001b[0;34m\u001b[0m\u001b[0;34m\u001b[0m\u001b[0m\n",
      "\u001b[0;32m~/Desktop/Sonu/env/lib/python3.7/site-packages/pandas/io/common.py\u001b[0m in \u001b[0;36m_get_handle\u001b[0;34m(path_or_buf, mode, encoding, compression, memory_map, is_text)\u001b[0m\n\u001b[1;32m    397\u001b[0m         \u001b[0;32mif\u001b[0m \u001b[0mencoding\u001b[0m\u001b[0;34m:\u001b[0m\u001b[0;34m\u001b[0m\u001b[0;34m\u001b[0m\u001b[0m\n\u001b[1;32m    398\u001b[0m             \u001b[0;31m# Encoding\u001b[0m\u001b[0;34m\u001b[0m\u001b[0;34m\u001b[0m\u001b[0;34m\u001b[0m\u001b[0m\n\u001b[0;32m--> 399\u001b[0;31m             \u001b[0mf\u001b[0m \u001b[0;34m=\u001b[0m \u001b[0mopen\u001b[0m\u001b[0;34m(\u001b[0m\u001b[0mpath_or_buf\u001b[0m\u001b[0;34m,\u001b[0m \u001b[0mmode\u001b[0m\u001b[0;34m,\u001b[0m \u001b[0mencoding\u001b[0m\u001b[0;34m=\u001b[0m\u001b[0mencoding\u001b[0m\u001b[0;34m,\u001b[0m \u001b[0mnewline\u001b[0m\u001b[0;34m=\u001b[0m\u001b[0;34m\"\"\u001b[0m\u001b[0;34m)\u001b[0m\u001b[0;34m\u001b[0m\u001b[0;34m\u001b[0m\u001b[0m\n\u001b[0m\u001b[1;32m    400\u001b[0m         \u001b[0;32melif\u001b[0m \u001b[0mis_text\u001b[0m\u001b[0;34m:\u001b[0m\u001b[0;34m\u001b[0m\u001b[0;34m\u001b[0m\u001b[0m\n\u001b[1;32m    401\u001b[0m             \u001b[0;31m# No explicit encoding\u001b[0m\u001b[0;34m\u001b[0m\u001b[0;34m\u001b[0m\u001b[0;34m\u001b[0m\u001b[0m\n",
      "\u001b[0;31mNotADirectoryError\u001b[0m: [Errno 20] Not a directory: '/Users/sonu2/Desktop/Sonu/heystox_trader/csv/tickderdata.csv'"
     ]
    }
   ],
   "source": [
    "my_dict = {'timestamp': '1573034400000', 'exchange': 'NSEP_EQ', 'symbol': 'IBULHSGFIN', 'ltp': 216.95, 'close': 225.05, 'open': 227.3, 'high': 238.6, 'low': 216.1, 'vtt': 47679599.0, 'atp': 226.42, 'total_buy_qty': 286503, 'total_sell_qty': 1284418, 'lower_circuit': 202.55, 'upper_circuit': 247.55, 'ltt': 1573034399000, 'bids': [{'quantity': 292, 'price': 216.9, 'orders': 1}, {'quantity': 50, 'price': 216.5, 'orders': 1}, {'quantity': 853, 'price': 216.3, 'orders': 4}, {'quantity': 35, 'price': 216.25, 'orders': 2}, {'quantity': 830, 'price': 216.2, 'orders': 5}], 'asks': [{'quantity': 1367, 'price': 216.95, 'orders': 2}, {'quantity': 7900, 'price': 217.0, 'orders': 23}, {'quantity': 500, 'price': 217.05, 'orders': 1}, {'quantity': 435, 'price': 217.1, 'orders': 1}, {'quantity': 1179, 'price': 217.15, 'orders': 5}], 'instrument': Instrument(exchange='NSE_EQ', token=30125, parent_token=None, symbol='ibulhsgfin', name='INDIABULLS HSG FIN LTD', closing_price=225.05, expiry=None, strike_price=None, tick_size=5.0, lot_size=1, instrument_type='EQUITY', isin='INE148I01020')}\n",
    "# file = \"ramesh.csv\"\n",
    "# df.to_csv(file, mode=\"a\", header=False)\n",
    "ticker_data = ['timestamp', 'exchange', 'symbol', 'ltp', 'close', 'open', 'high', 'low', 'vtt', 'atp', 'total_buy_qty', 'total_sell_qty', 'lower_circuit', 'upper_circuit', 'ltt', 'bids', 'asks']\n",
    "\n",
    "def parse_stock_response_data(data:dict):\n",
    "    \"\"\"Return only required data by tickerdata model from upstox websocket response\"\"\"\n",
    "    data.pop(\"instrument\")\n",
    "    return [data]\n",
    "\n",
    "def add_tickerdata_csv(data):\n",
    "    savepath = os.path.join(os.path.dirname(os.getcwd()),'csv')\n",
    "    print(savepath)\n",
    "    df = pd.DataFrame(data)\n",
    "    filepath = os.path.join(savepath, \"tickderdata.csv\")\n",
    "    print(filepath)\n",
    "    if not os.path.exists(savepath):\n",
    "#         os.mkdir(path)\n",
    "#         df.to_csv(filepath)\n",
    "        print(\"rahuj\")\n",
    "    else:\n",
    "#         df.to_csv(filepath, mode=\"a\", header=False)\n",
    "        print(\"cdcf\")\n",
    "        \n",
    "add_tickerdata_csv(parse_stock_response_data(my_dict))\n",
    "# start_time = datetime.now()\n",
    "# ltt = int(str(my_dict.get(\"ltt\"))[:10])\n",
    "# timestamp = int(my_dict.get(\"timestamp\")[:10])\n",
    "# test_list = [TickerData.objects.create(timestamp=datetime.fromtimestamp(timestamp), exchange=my_dict.get(\"exchange\"), symbol=my_dict.get(\"symbol\"), ltp=my_dict.get(\"ltp\"), close=my_dict.get(\"close\"), open=my_dict.get(\"open\"), high=my_dict.get(\"high\"), low=my_dict.get(\"low\"), vtt=my_dict.get(\"vtt\"), total_buy_qty=my_dict.get(\"total_buy_qty\"), lower_circuit=my_dict.get(\"lower_circuit\"), upper_circuit=my_dict.get(\"upper_circuit\"), bids=my_dict.get(\"bids\"), ltt=datetime.fromtimestamp(ltt), asks=my_dict.get(\"asks\")) for i in range(0,1000)]\n",
    "# for i in range(0,6000):\n",
    "#     test_list.append(TickerData(timestamp=datetime.fromtimestamp(timestamp), exchange=my_dict.get(\"exchange\"), symbol=my_dict.get(\"symbol\"), ltp=my_dict.get(\"ltp\"), close=my_dict.get(\"close\"), open=my_dict.get(\"open\"), high=my_dict.get(\"high\"), low=my_dict.get(\"low\"), vtt=my_dict.get(\"vtt\"), total_buy_qty=my_dict.get(\"total_buy_qty\"), lower_circuit=my_dict.get(\"lower_circuit\"), upper_circuit=my_dict.get(\"upper_circuit\"), bids=my_dict.get(\"bids\"), ltt=datetime.fromtimestamp(ltt), asks=my_dict.get(\"asks\")))\n",
    "# TickerData.objects.bulk_create(test_list)\n",
    "# end_time = datetime.now()\n",
    "# print(end_time-start_time)"
   ]
  },
  {
   "cell_type": "code",
   "execution_count": null,
   "metadata": {},
   "outputs": [],
   "source": []
  },
  {
   "cell_type": "code",
   "execution_count": null,
   "metadata": {},
   "outputs": [],
   "source": []
  },
  {
   "cell_type": "code",
   "execution_count": null,
   "metadata": {},
   "outputs": [],
   "source": []
  },
  {
   "cell_type": "code",
   "execution_count": null,
   "metadata": {},
   "outputs": [],
   "source": []
  }
 ],
 "metadata": {
  "kernelspec": {
   "display_name": "Django Shell-Plus",
   "language": "python",
   "name": "django_extensions"
  },
  "language_info": {
   "codemirror_mode": {
    "name": "ipython",
    "version": 3
   },
   "file_extension": ".py",
   "mimetype": "text/x-python",
   "name": "python",
   "nbconvert_exporter": "python",
   "pygments_lexer": "ipython3",
   "version": "3.7.3"
  }
 },
 "nbformat": 4,
 "nbformat_minor": 2
}
