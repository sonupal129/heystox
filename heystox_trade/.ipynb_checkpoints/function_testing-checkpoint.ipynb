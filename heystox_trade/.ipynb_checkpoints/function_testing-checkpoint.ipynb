{
 "cells": [
  {
   "cell_type": "code",
   "execution_count": 2,
   "metadata": {},
   "outputs": [],
   "source": [
    "from market_analysis.models import Candle, UserProfile\n",
    "# from market_analysis import views\n",
    "from upstox.upstox_stocks import *\n",
    "import pandas as pd\n",
    "# from heystox_trade.settings import *"
   ]
  },
  {
   "cell_type": "code",
   "execution_count": 3,
   "metadata": {},
   "outputs": [],
   "source": [
    "from datetime import datetime, timedelta"
   ]
  },
  {
   "cell_type": "code",
   "execution_count": 4,
   "metadata": {},
   "outputs": [],
   "source": [
    "# obj = u.get_master_contract(\"NSE_EQ\")\n",
    "# new_header = [\"Exchange\", \"Token\", \"NA\", \"Symbol\", \"Full Name\", \"closed_price\", \"NA1\", \"NA2\", \"Tick Size\", \"Lot Size\", \"Instrument Type\", \"ISIN\"]\n",
    "# df = pd.DataFrame(obj)\n",
    "# obj = df.T\n",
    "# obj.columns = new_header\n",
    "# new_obj = obj[(obj.closed_price >= 55) & (obj.closed_price <= 250)]\n",
    "# new_obj"
   ]
  },
  {
   "cell_type": "code",
   "execution_count": 68,
   "metadata": {},
   "outputs": [],
   "source": [
    "def is_stock_pdhl(symbol, date, candle_type):\n",
    "    today = datetime.strptime(date,'%d/%m/%Y').date()\n",
    "    yesterday = datetime.strptime(date,'%d/%m/%Y').date() - timedelta(1)\n",
    "    stock = Symbol.objects.get(symbol=symbol)\n",
    "    candles = Candle.objects.filter(symbol=stock, candle_type=candle_type, date__range=[yesterday, today + timedelta(1)])\n",
    "    last_day_closing_price = candles.filter(date__date=yesterday).last().close_price\n",
    "    last_day_opening_price = candles.filter(date__date=yesterday).first().open_price\n",
    "    today_opening_price = candles.filter(date__date=today).first().open_price\n",
    "    if last_day_opening_price > last_day_closing_price > today_opening_price:\n",
    "        return \"SELL\"\n",
    "    elif last_day_opening_price < last_day_closing_price < today_opening_price:\n",
    "        return \"BUY\"\n",
    "    else:\n",
    "        return False"
   ]
  },
  {
   "cell_type": "code",
   "execution_count": 69,
   "metadata": {},
   "outputs": [
    {
     "name": "stdout",
     "output_type": "stream",
     "text": [
      "152.0\n",
      "151.1\n",
      "152.0\n"
     ]
    },
    {
     "data": {
      "text/plain": [
       "False"
      ]
     },
     "execution_count": 69,
     "metadata": {},
     "output_type": "execute_result"
    }
   ],
   "source": [
    "is_stock_pdhl(\"poddarment\", \"24/07/2019\", \"M5\")"
   ]
  },
  {
   "cell_type": "code",
   "execution_count": 52,
   "metadata": {},
   "outputs": [
    {
     "data": {
      "text/plain": [
       "<CandleQuerySet [<Candle: ashokley>, <Candle: ashokley>, <Candle: ashokley>, <Candle: ashokley>, <Candle: ashokley>, <Candle: ashokley>, <Candle: ashokley>, <Candle: ashokley>, <Candle: ashokley>, <Candle: ashokley>, <Candle: ashokley>, <Candle: ashokley>, <Candle: ashokley>, <Candle: ashokley>, <Candle: ashokley>, <Candle: ashokley>, <Candle: ashokley>, <Candle: ashokley>, <Candle: ashokley>, <Candle: ashokley>, '...(remaining elements truncated)...']>"
      ]
     },
     "execution_count": 52,
     "metadata": {},
     "output_type": "execute_result"
    }
   ],
   "source": [
    "date = \"24/07/2019\"\n",
    "today = datetime.strptime(date,'%d/%m/%Y').date()\n",
    "yesterday = datetime.strptime(date,'%d/%m/%Y').date() - timedelta(1)\n",
    "stock = Symbol.objects.get(symbol=\"ashokley\")\n",
    "candles = Candle.objects.filter(symbol=stock, candle_type=\"M5\", date__range=[yesterday, today + timedelta(1)])\n",
    "candles.filter(date__date=today).\n",
    "# candles.filter(date__date=yesterday).values_list(\"date\")"
   ]
  },
  {
   "cell_type": "code",
   "execution_count": 59,
   "metadata": {},
   "outputs": [
    {
     "name": "stdout",
     "output_type": "stream",
     "text": [
      "False\n"
     ]
    }
   ],
   "source": [
    "if 5 < 3 > 2:\n",
    "    print(True)\n",
    "else:\n",
    "    print(False)"
   ]
  },
  {
   "cell_type": "code",
   "execution_count": null,
   "metadata": {},
   "outputs": [],
   "source": []
  }
 ],
 "metadata": {
  "kernelspec": {
   "display_name": "Django Shell-Plus",
   "language": "python",
   "name": "django_extensions"
  }
 },
 "nbformat": 4,
 "nbformat_minor": 2
}
