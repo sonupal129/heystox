{
 "cells": [
  {
   "cell_type": "code",
   "execution_count": 1,
   "metadata": {},
   "outputs": [],
   "source": [
    "from market_analysis.models import Candle, UserProfile, Symbol, SortedStocksList, StrategyTimestamp\n",
    "# from market_analysis import views\n",
    "from django.contrib.auth.models import User\n",
    "from heystox_intraday.select_stocks_for_trading import *\n",
    "import pandas as pd\n",
    "# from heystox_trade.settings import *\n",
    "from datetime import datetime, timedelta\n",
    "from heystox_intraday.intraday_fetchdata import *\n",
    "from market_analysis.tasks.stock_data_import_tasks import *\n",
    "from market_analysis.tasks.day_trading_tasks import *\n",
    "from django.core.cache import cache, caches\n",
    "from datetime import time, timedelta, datetime\n",
    "from heystox_intraday.trading_indicator import *"
   ]
  },
  {
   "cell_type": "code",
   "execution_count": 2,
   "metadata": {},
   "outputs": [],
   "source": [
    "raju = [\"adanient\", \"bhel\", \"dlf\", \"gmrinfra\", \"gail\", \"infratel\", \"ioc\", \"idea\", \"nhpc\", \"pnb\", \"relinfra\", \"recltd\", \"spencers\", \"tatapower\", \"vakrangee\", \"yesbank\", \"ujjivansfb\", \"granules\", \"mothersumi\", \"adanipower\", \"dishtv\", \"sail\", \"nationalum\", \"jswsteel\", \"federalbnk\", \"jindalstel\", \"idfcfirstb\", \"rvnl\", \"equitas\"]\n",
    "sorted_stock = SortedStocksList.objects.get(symbol__symbol=\"spencers\", created_at__date=datetime.now().date())"
   ]
  },
  {
   "cell_type": "code",
   "execution_count": 3,
   "metadata": {
    "scrolled": false
   },
   "outputs": [
    {
     "data": {
      "text/plain": [
       "candle_type                             M5\n",
       "open_price                           94.15\n",
       "high_price                           96.45\n",
       "low_price                               94\n",
       "close_price                          96.35\n",
       "volume                              434513\n",
       "total_buy_quantity                    None\n",
       "total_sell_quantity                   None\n",
       "date                   2020-01-27 13:40:00\n",
       "macd                              0.457843\n",
       "macd_signal                       0.250695\n",
       "macd_diff                         0.207148\n",
       "percentage                        0.000948\n",
       "signal                                 BUY\n",
       "Name: 128, dtype: object"
      ]
     },
     "execution_count": 3,
     "metadata": {},
     "output_type": "execute_result"
    }
   ],
   "source": [
    "macd_indicator = Indicator.objects.get(name=\"MACD\")\n",
    "df = get_macd_data(sorted_stock.symbol)\n",
    "df.loc[(df[\"signal\"] != df[\"signal\"].shift()) & (df[\"signal\"] == \"BUY\"), \"signal\"] = \"BUY_CROSSOVER\"\n",
    "df.loc[(df[\"signal\"] != df[\"signal\"].shift()) & (df[\"signal\"] == \"SELL\"), \"signal\"] = \"SELL_CROSSOVER\"\n",
    "df = df[75:]\n",
    "if sorted_stock.entry_type in [\"SELL\", \"SS\"]:\n",
    "    last_crossover = df[df.signal.str.endswith(\"SELL_CROSSOVER\")].iloc[-1]\n",
    "elif sorted_stock.entry_type in [\"BUY\", \"SB\"]:\n",
    "    last_crossover = df[df.signal.str.endswith(\"BUY_CROSSOVER\")].iloc[-1]\n",
    "df_after_last_crossover = df.loc[df[\"date\"] >= last_crossover.date]\n",
    "try:\n",
    "    if last_crossover.signal == \"SELL_CROSSOVER\":\n",
    "        crossover_signal = df_after_last_crossover.loc[(df.macd_diff <= -0.070)].iloc[0]\n",
    "    elif last_crossover.signal == \"BUY_CROSSOVER\":\n",
    "        crossover_signal = df_after_last_crossover.loc[(df.macd_diff >= 0.070)].iloc[0]\n",
    "except:\n",
    "    crossover_signal = None\n",
    "# df.head(50)\n",
    "df.loc[(df.macd_diff >= 0.070)]\n",
    "last_crossover\n",
    "crossover_signal"
   ]
  },
  {
   "cell_type": "code",
   "execution_count": 4,
   "metadata": {},
   "outputs": [
    {
     "data": {
      "text/html": [
       "<div>\n",
       "<style scoped>\n",
       "    .dataframe tbody tr th:only-of-type {\n",
       "        vertical-align: middle;\n",
       "    }\n",
       "\n",
       "    .dataframe tbody tr th {\n",
       "        vertical-align: top;\n",
       "    }\n",
       "\n",
       "    .dataframe thead th {\n",
       "        text-align: right;\n",
       "    }\n",
       "</style>\n",
       "<table border=\"1\" class=\"dataframe\">\n",
       "  <thead>\n",
       "    <tr style=\"text-align: right;\">\n",
       "      <th></th>\n",
       "      <th>candle_type</th>\n",
       "      <th>open_price</th>\n",
       "      <th>high_price</th>\n",
       "      <th>low_price</th>\n",
       "      <th>close_price</th>\n",
       "      <th>volume</th>\n",
       "      <th>total_buy_quantity</th>\n",
       "      <th>total_sell_quantity</th>\n",
       "      <th>date</th>\n",
       "      <th>stoch</th>\n",
       "      <th>stoch_signal</th>\n",
       "      <th>stoch_diff</th>\n",
       "      <th>percentage</th>\n",
       "      <th>signal</th>\n",
       "    </tr>\n",
       "  </thead>\n",
       "  <tbody>\n",
       "    <tr>\n",
       "      <th>147</th>\n",
       "      <td>M5</td>\n",
       "      <td>94.15</td>\n",
       "      <td>94.80</td>\n",
       "      <td>94.0</td>\n",
       "      <td>94.75</td>\n",
       "      <td>27671</td>\n",
       "      <td>None</td>\n",
       "      <td>None</td>\n",
       "      <td>2020-01-27 15:15:00</td>\n",
       "      <td>25.000000</td>\n",
       "      <td>12.408451</td>\n",
       "      <td>12.591549</td>\n",
       "      <td>3.147887</td>\n",
       "      <td>BUY_CROSSOVER</td>\n",
       "    </tr>\n",
       "    <tr>\n",
       "      <th>148</th>\n",
       "      <td>M5</td>\n",
       "      <td>94.90</td>\n",
       "      <td>94.95</td>\n",
       "      <td>94.3</td>\n",
       "      <td>94.55</td>\n",
       "      <td>48368</td>\n",
       "      <td>None</td>\n",
       "      <td>None</td>\n",
       "      <td>2020-01-27 15:20:00</td>\n",
       "      <td>19.642857</td>\n",
       "      <td>16.289403</td>\n",
       "      <td>3.353454</td>\n",
       "      <td>0.658714</td>\n",
       "      <td>BUY</td>\n",
       "    </tr>\n",
       "    <tr>\n",
       "      <th>149</th>\n",
       "      <td>M5</td>\n",
       "      <td>94.55</td>\n",
       "      <td>95.00</td>\n",
       "      <td>94.4</td>\n",
       "      <td>94.80</td>\n",
       "      <td>92665</td>\n",
       "      <td>None</td>\n",
       "      <td>None</td>\n",
       "      <td>2020-01-27 15:25:00</td>\n",
       "      <td>28.571429</td>\n",
       "      <td>24.404762</td>\n",
       "      <td>4.166667</td>\n",
       "      <td>1.190476</td>\n",
       "      <td>BUY</td>\n",
       "    </tr>\n",
       "  </tbody>\n",
       "</table>\n",
       "</div>"
      ],
      "text/plain": [
       "    candle_type  open_price  high_price  low_price  close_price  volume  \\\n",
       "147          M5       94.15       94.80       94.0        94.75   27671   \n",
       "148          M5       94.90       94.95       94.3        94.55   48368   \n",
       "149          M5       94.55       95.00       94.4        94.80   92665   \n",
       "\n",
       "    total_buy_quantity total_sell_quantity                date      stoch  \\\n",
       "147               None                None 2020-01-27 15:15:00  25.000000   \n",
       "148               None                None 2020-01-27 15:20:00  19.642857   \n",
       "149               None                None 2020-01-27 15:25:00  28.571429   \n",
       "\n",
       "     stoch_signal  stoch_diff  percentage         signal  \n",
       "147     12.408451   12.591549    3.147887  BUY_CROSSOVER  \n",
       "148     16.289403    3.353454    0.658714            BUY  \n",
       "149     24.404762    4.166667    1.190476            BUY  "
      ]
     },
     "execution_count": 4,
     "metadata": {},
     "output_type": "execute_result"
    }
   ],
   "source": [
    "macd_indicator = Indicator.objects.get(name=\"MACD\")\n",
    "df = get_stochastic_data(sorted_stock.symbol)\n",
    "df.loc[(df[\"signal\"] != df[\"signal\"].shift()) & (df[\"signal\"] == \"BUY\"), \"signal\"] = \"BUY_CROSSOVER\"\n",
    "df.loc[(df[\"signal\"] != df[\"signal\"].shift()) & (df[\"signal\"] == \"SELL\"), \"signal\"] = \"SELL_CROSSOVER\"\n",
    "df = df[75:]\n",
    "if sorted_stock.entry_type in [\"SELL\", \"SS\"]:\n",
    "    last_crossover = df[df.signal.str.endswith(\"SELL_CROSSOVER\")].iloc[-1]\n",
    "elif sorted_stock.entry_type in [\"BUY\", \"SB\"]:\n",
    "    last_crossover = df[df.signal.str.endswith(\"BUY_CROSSOVER\")].iloc[-1]\n",
    "df_after_last_crossover = df.loc[df[\"date\"] >= last_crossover.date]\n",
    "try:\n",
    "    if last_crossover.signal == \"SELL_CROSSOVER\":\n",
    "        crossover_signal = df_after_last_crossover.loc[(df.stoch_diff <= -22.70)].iloc[0]\n",
    "    elif last_crossover.signal == \"BUY_CROSSOVER\":\n",
    "        crossover_signal = df_after_last_crossover.loc[(df.stoch_diff >= 22.70)].iloc[0]\n",
    "except:\n",
    "    crossover_signal = None\n",
    "df_after_last_crossover"
   ]
  },
  {
   "cell_type": "code",
   "execution_count": null,
   "metadata": {},
   "outputs": [],
   "source": []
  },
  {
   "cell_type": "code",
   "execution_count": 5,
   "metadata": {
    "scrolled": true
   },
   "outputs": [],
   "source": [
    "raju = [\"adanient\", \"bhel\", \"dlf\", \"gmrinfra\", \"gail\", \"infratel\", \"ioc\", \"idea\", \"nhpc\", \"pnb\", \"relinfra\", \"recltd\", \"spencers\", \"tatapower\", \"vakrangee\", \"yesbank\", \"ujjivansfb\", \"granules\", \"mothersumi\", \"adanipower\", \"dishtv\", \"sail\", \"nationalum\", \"jswsteel\", \"federalbnk\", \"jindalstel\", \"idfcfirstb\", \"rvnl\", \"equitas\"]\n",
    "# fifth = date(2020,1,25)\n",
    "# for r in raju:\n",
    "#     symbol = Symbol.objects.get(symbol=r)\n",
    "#     SortedStocksList.objects.create(symbol=symbol, entry_type=\"BUY\")\n",
    "# # Candle.objects.filter(date__date=fifth, symbol__symbol__in=raju)\n",
    "# for candle in Candle.objects.filter(date__date=fifth, symbol__symbol__in=raju):\n",
    "#     candle.date = candle.date + timedelta(1)\n",
    "#     candle.save()"
   ]
  },
  {
   "cell_type": "code",
   "execution_count": 6,
   "metadata": {},
   "outputs": [],
   "source": [
    "from heystox_intraday.intraday_functions_strategy import get_stochastic_crossover, get_macd_crossover"
   ]
  },
  {
   "cell_type": "code",
   "execution_count": 7,
   "metadata": {
    "scrolled": true
   },
   "outputs": [
    {
     "data": {
      "text/plain": [
       "candle_type                             M5\n",
       "open_price                           94.15\n",
       "high_price                           96.45\n",
       "low_price                               94\n",
       "close_price                          96.35\n",
       "volume                              434513\n",
       "total_buy_quantity                    None\n",
       "total_sell_quantity                   None\n",
       "date                   2020-01-27 13:40:00\n",
       "macd                              0.457843\n",
       "macd_signal                       0.250695\n",
       "macd_diff                         0.207148\n",
       "percentage                        0.000948\n",
       "signal                                 BUY\n",
       "Name: 128, dtype: object"
      ]
     },
     "execution_count": 7,
     "metadata": {},
     "output_type": "execute_result"
    }
   ],
   "source": []
  },
  {
   "cell_type": "code",
   "execution_count": null,
   "metadata": {},
   "outputs": [],
   "source": []
  }
 ],
 "metadata": {
  "kernelspec": {
   "display_name": "Django Shell-Plus",
   "language": "python",
   "name": "django_extensions"
  },
  "language_info": {
   "codemirror_mode": {
    "name": "ipython",
    "version": 3
   },
   "file_extension": ".py",
   "mimetype": "text/x-python",
   "name": "python",
   "nbconvert_exporter": "python",
   "pygments_lexer": "ipython3",
   "version": "3.7.3"
  }
 },
 "nbformat": 4,
 "nbformat_minor": 2
}
