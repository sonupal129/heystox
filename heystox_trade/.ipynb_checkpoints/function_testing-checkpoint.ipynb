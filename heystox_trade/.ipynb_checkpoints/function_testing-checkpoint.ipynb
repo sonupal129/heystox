{
 "cells": [
  {
   "cell_type": "code",
   "execution_count": 1,
   "metadata": {},
   "outputs": [],
   "source": [
    "from market_analysis.models import Candle, UserProfile, Symbol, SortedStocksList, TickerData\n",
    "# from market_analysis import views\n",
    "from django.contrib.auth.models import User\n",
    "from heystox_intraday.select_stocks_for_trading import *\n",
    "import pandas as pd\n",
    "# from heystox_trade.settings import *\n",
    "from datetime import datetime, timedelta"
   ]
  },
  {
   "cell_type": "code",
   "execution_count": null,
   "metadata": {},
   "outputs": [],
   "source": []
  },
  {
   "cell_type": "code",
   "execution_count": 2,
   "metadata": {
    "scrolled": false
   },
   "outputs": [],
   "source": [
    "# obj = Candle.objects.filter(symbol__symbol=\"ambujacem\", candle_type=\"M5\", date__range=[datetime.strptime(\"17/10/2019\",'%d/%m/%Y').date(), datetime.strptime(\"19/10/2019\",'%d/%m/%Y').date()]).values()\n",
    "# # # new_header = [\"Exchange\", \"Token\", \"NA\", \"Symbol\", \"Full Name\", \"closed_price\", \"NA1\", \"NA2\", \"Tick Size\", \"Lot Size\", \"Instrument Type\", \"ISIN\"]\n",
    "\n",
    "# df = pd.DataFrame(list(obj))\n",
    "# # # obj.columns = new_header\n",
    "# # # new_obj = obj[(obj.close_price >= 55) & (obj.close_price <= 250)]\n",
    "# symbol = Symbol.objects.get(symbol=\"pnb\")\n",
    "# # symbol.is_stock_ohl(date=\"17/10/2019\")\n",
    "# first_candle_price = df.iloc[0:]\n",
    "# # previouse_day_last_candle_price = df.loc[:, [\"open_price\", \"high_price\", \"low_price\", \"close_price\"]]\n",
    "# # min(current_candle_price.min().values)\n",
    "# last_day_candles = df[(df.date <= datetime.strptime(\"18/10/2019\",'%d/%m/%Y').date())]\n",
    "# last_day_closing_price = last_day_candles.iloc[[-1]].close_price\n",
    "# last_day_opening_price = last_day_candles.iloc[[0]].open_price\n",
    "# today_open_price = df[(df.date >= datetime.strptime(\"18/10/2019\",'%d/%m/%Y').date())].iloc[[0]].open_price\n",
    "# # print(first_candle_price)\n",
    "# today_open_price > 100\n"
   ]
  },
  {
   "cell_type": "code",
   "execution_count": null,
   "metadata": {},
   "outputs": [],
   "source": []
  },
  {
   "cell_type": "code",
   "execution_count": 3,
   "metadata": {},
   "outputs": [],
   "source": [
    "from ta.trend import macd, macd_diff, macd_signal, ema, ema_indicator\n",
    "from ta.momentum import stoch, stoch_signal\n",
    "stock = Symbol.objects.get(symbol=\"ibulhsgfin\")\n",
    "obj = stock.get_stock_data(days=1, end_date=datetime.strptime(\"30/10/2019\",'%d/%m/%Y').date())\n",
    "df = pd.DataFrame(list(obj.values()))\n",
    "# df[\"macd\"] = macd(df.close_price)\n",
    "# df[\"macd_signal\"] = macd_signal(df.close_price)\n",
    "# df[\"diff\"] = macd_diff(df.close_price)\n",
    "# df.to_csv(\"stoch_analytics.csv\")\n",
    "# df.head(2)\n",
    "# obj.values()\n",
    "from django.core.cache import caches, cache"
   ]
  },
  {
   "cell_type": "code",
   "execution_count": 7,
   "metadata": {
    "scrolled": false
   },
   "outputs": [
    {
     "name": "stderr",
     "output_type": "stream",
     "text": [
      "/Users/sonu2/Desktop/Sonu/env/lib/python3.7/site-packages/ipykernel_launcher.py:35: FutureWarning: Sorting because non-concatenation axis is not aligned. A future version\n",
      "of pandas will change to not sort by default.\n",
      "\n",
      "To accept the future behavior, pass 'sort=False'.\n",
      "\n",
      "To retain the current behavior and silence the warning, pass 'sort=True'.\n",
      "\n"
     ]
    }
   ],
   "source": [
    "my_dict = {'timestamp': '1573630000000','id': 707117, 'symbol': \"ibulhsgfin\", 'candle_type': 'M5', 'open': 189.85, 'high': 190.0, 'low': 186.2, 'close': 189.45, 'volume': 979559, 'vtt': None, 'atp': None, 'total_buy_quantity': None, 'total_sell_quantity': None, 'lower_circuit': None, 'upper_circuit': None, 'bids': {}, 'asks': {}, 'date': datetime(2019, 10, 29, 9, 15), 'created_at': datetime(2019, 11, 1, 16, 56, 54, 210554), 'modified_at': datetime(2019, 11, 1, 10, 3, 16, 762851)}\n",
    "data = [my_dict for i in range(0,20)]\n",
    "# caches[\"redis\"].set(\"my_cache\", data)\n",
    "def get_stock_current_candle(symbol:str):\n",
    "    redis_cache = caches[\"redis\"]\n",
    "    cached_data = redis_cache.get(symbol)\n",
    "    first_ticker = cached_data[0]\n",
    "    current_ticker = cached_data[-1]\n",
    "    df_ticker = {\n",
    "#         \"symbol\": first_ticker.get(\"symbol\").lower(),\n",
    "        \"candle_type\": \"M5\",\n",
    "        \"open_price\": first_ticker.get(\"open\"),\n",
    "        \"high_price\": max(first_ticker.get(\"high\"), current_ticker.get(\"high\")),\n",
    "        \"close_price\": current_ticker.get(\"low\"),\n",
    "        \"low_price\": min(first_ticker.get(\"low\"), current_ticker.get(\"low\")),\n",
    "        \"volume\": current_ticker.get(\"vtt\"),\n",
    "#         \"atp\": current_ticker.get(\"atp\"),\n",
    "        \"total_buy_quantity\": current_ticker.get(\"total_buy_quantity\"),\n",
    "        \"total_sell_quantity\": current_ticker.get(\"total_sell_quantity\"),\n",
    "#         \"lower_circuit\": current_ticker.get(\"lower_circuit\"),\n",
    "#         \"upper_circuit\": current_ticker.get(\"upper_circuit\"),\n",
    "#         \"bids\": {},\n",
    "#         \"asks\": {},\n",
    "        \"date\": datetime.fromtimestamp(int(current_ticker.get(\"timestamp\")[:10]))\n",
    "    }\n",
    "    return df_ticker\n",
    "\n",
    "\n",
    "# def get_macd_crossover(stock_name:str):\n",
    "symbol = Symbol.objects.get(symbol=\"ibulhsgfin\")\n",
    "stock_data = symbol.get_stock_data(days=1, end_date=datetime.strptime(\"30/10/2019\",'%d/%m/%Y').date())\n",
    "current_candle_data = get_stock_current_candle(\"my_cache\")\n",
    "df1 = pd.DataFrame(list(stock_data.values(\"candle_type\", \"open_price\", \"high_price\", \"low_price\", \"close_price\", \"volume\", \"total_buy_quantity\", \"total_sell_quantity\", \"date\")))\n",
    "df2 = pd.DataFrame(current_candle_data, index=[0])\n",
    "df = pd.concat([df1, df2], ignore_index=True)\n",
    "df[\"macd\"] = macd(df.close_price)\n",
    "df[\"macd_signal\"] = macd_signal(df.close_price)\n",
    "df[\"macd_diff\"] = macd_diff(df.close_price)"
   ]
  },
  {
   "cell_type": "code",
   "execution_count": 5,
   "metadata": {},
   "outputs": [
    {
     "data": {
      "text/plain": [
       "{'indicator__value__sum': 17}"
      ]
     },
     "execution_count": 5,
     "metadata": {},
     "output_type": "execute_result"
    }
   ],
   "source": [
    "from django.db.models import Max, Min, Sum\n",
    "obj = SortedStocksList.objects.get(symbol__symbol=\"ibulhsgfin\")\n",
    "timestamp = obj.timestamps.all()\n",
    "timestamp.aggregate(Sum(\"indicator__value\"))"
   ]
  },
  {
   "cell_type": "code",
   "execution_count": null,
   "metadata": {
    "scrolled": false
   },
   "outputs": [],
   "source": []
  },
  {
   "cell_type": "code",
   "execution_count": 6,
   "metadata": {},
   "outputs": [],
   "source": [
    "# Process for Tasks\n",
    "\n",
    "# 1. Socket Send data to function - Done\n",
    "# 2. func store data in redis as list inside dict - "
   ]
  },
  {
   "cell_type": "code",
   "execution_count": null,
   "metadata": {},
   "outputs": [],
   "source": []
  },
  {
   "cell_type": "code",
   "execution_count": null,
   "metadata": {},
   "outputs": [],
   "source": []
  },
  {
   "cell_type": "code",
   "execution_count": null,
   "metadata": {},
   "outputs": [],
   "source": []
  }
 ],
 "metadata": {
  "kernelspec": {
   "display_name": "Django Shell-Plus",
   "language": "python",
   "name": "django_extensions"
  },
  "language_info": {
   "codemirror_mode": {
    "name": "ipython",
    "version": 3
   },
   "file_extension": ".py",
   "mimetype": "text/x-python",
   "name": "python",
   "nbconvert_exporter": "python",
   "pygments_lexer": "ipython3",
   "version": "3.7.3"
  }
 },
 "nbformat": 4,
 "nbformat_minor": 2
}
