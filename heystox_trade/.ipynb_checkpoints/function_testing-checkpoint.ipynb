{
 "cells": [
  {
   "cell_type": "code",
   "execution_count": 1,
   "metadata": {},
   "outputs": [
    {
     "ename": "SyntaxError",
     "evalue": "non-default argument follows default argument (select_stocks_for_trading.py, line 28)",
     "output_type": "error",
     "traceback": [
      "Traceback \u001b[0;36m(most recent call last)\u001b[0m:\n",
      "  File \u001b[1;32m\"/Users/sonu2/Desktop/Sonu/env/lib/python3.7/site-packages/IPython/core/interactiveshell.py\"\u001b[0m, line \u001b[1;32m2961\u001b[0m, in \u001b[1;35mrun_code\u001b[0m\n    exec(code_obj, self.user_global_ns, self.user_ns)\n",
      "\u001b[0;36m  File \u001b[0;32m\"<ipython-input-1-9638fd3f3ce1>\"\u001b[0;36m, line \u001b[0;32m4\u001b[0;36m, in \u001b[0;35m<module>\u001b[0;36m\u001b[0m\n\u001b[0;31m    from heystox_intraday.select_stocks_for_trading import *\u001b[0m\n",
      "\u001b[0;36m  File \u001b[0;32m\"/Users/sonu2/Desktop/Sonu/heystox.trader/heystox_trade/heystox_intraday/select_stocks_for_trading.py\"\u001b[0;36m, line \u001b[0;32m28\u001b[0m\n\u001b[0;31m    def get_stocks_for_trading(date=datetime.now(), stocks, movement_percent:int=1.2):\u001b[0m\n\u001b[0m                              ^\u001b[0m\n\u001b[0;31mSyntaxError\u001b[0m\u001b[0;31m:\u001b[0m non-default argument follows default argument\n"
     ]
    }
   ],
   "source": [
    "from market_analysis.models import Candle, UserProfile, Symbol, SortedStocksList\n",
    "# from market_analysis import views\n",
    "from django.contrib.auth.models import User\n",
    "from heystox_intraday.select_stocks_for_trading import *\n",
    "import pandas as pd\n",
    "# from heystox_trade.settings import *\n",
    "from datetime import datetime, timedelta"
   ]
  },
  {
   "cell_type": "code",
   "execution_count": null,
   "metadata": {},
   "outputs": [],
   "source": [
    "# get movement stocks\n",
    "# stocks = get_liquid_stocks()\n",
    "# buy_stocks = []\n",
    "# sell_stocks = []\n",
    "# for stock in stocks:\n",
    "#     if stock.get_stock_movement() > 1.2:\n",
    "#         buy_stocks.append(stock)\n",
    "#     elif stock.get_stocks_movement() > -1.2:\n",
    "#         sell_stocks.append(stock)\n",
    "#     else:\n",
    "#         continue"
   ]
  },
  {
   "cell_type": "code",
   "execution_count": null,
   "metadata": {
    "scrolled": false
   },
   "outputs": [],
   "source": [
    "obj = Candle.objects.filter(symbol__symbol=\"ambujacem\", candle_type=\"M5\", date__range=[datetime.strptime(\"17/10/2019\",'%d/%m/%Y').date(), datetime.strptime(\"19/10/2019\",'%d/%m/%Y').date()]).values()\n",
    "# # new_header = [\"Exchange\", \"Token\", \"NA\", \"Symbol\", \"Full Name\", \"closed_price\", \"NA1\", \"NA2\", \"Tick Size\", \"Lot Size\", \"Instrument Type\", \"ISIN\"]\n",
    "\n",
    "df = pd.DataFrame(list(obj))\n",
    "# # obj.columns = new_header\n",
    "# # new_obj = obj[(obj.close_price >= 55) & (obj.close_price <= 250)]\n",
    "symbol = Symbol.objects.get(symbol=\"pnb\")\n",
    "# symbol.is_stock_ohl(date=\"17/10/2019\")\n",
    "first_candle_price = df.iloc[0:]\n",
    "# previouse_day_last_candle_price = df.loc[:, [\"open_price\", \"high_price\", \"low_price\", \"close_price\"]]\n",
    "# min(current_candle_price.min().values)\n",
    "last_day_candles = df[(df.date <= datetime.strptime(\"18/10/2019\",'%d/%m/%Y').date())]\n",
    "last_day_closing_price = last_day_candles.iloc[[-1]].close_price\n",
    "last_day_opening_price = last_day_candles.iloc[[0]].open_price\n",
    "today_open_price = df[(df.date >= datetime.strptime(\"18/10/2019\",'%d/%m/%Y').date())].iloc[[0]].open_price\n",
    "# print(first_candle_price)\n",
    "today_open_price > 100\n"
   ]
  },
  {
   "cell_type": "code",
   "execution_count": null,
   "metadata": {},
   "outputs": [],
   "source": [
    "from django.core.cache import cache\n",
    "from heystox_intraday.intraday_fetchdata import *"
   ]
  },
  {
   "cell_type": "code",
   "execution_count": null,
   "metadata": {},
   "outputs": [],
   "source": [
    "from ta.trend import macd, macd_diff, macd_signal, ema, ema_indicator\n",
    "from ta.momentum import stoch, stoch_signal\n",
    "stock = Symbol.objects.get(symbol=\"ibulhsgfin\")\n",
    "obj = stock.get_stock_data(days=1, end_date=datetime.strptime(\"30/10/2019\",'%d/%m/%Y').date())\n",
    "df = pd.DataFrame(list(obj.values()))\n",
    "# df[\"macd\"] = ema_indicator(df.close_price, n=12) - ema_indicator(df.close_price, n=26)\n",
    "# df[\"macd_signal\"] = ema_indicator(df.macd, n=9)\n",
    "# df[\"diff\"] = df.macd - df.macd_signal\n",
    "# df[\"percentage\"] = round(macd_diff(df.close_price) * macd(df.close_price) / float(100), 4)\n",
    "# df[\"percentage\"] = df.macd * df.diff\n",
    "# df.to_csv(\"namaste.csv\")\n",
    "df[\"stoch\"] = stoch(df.high_price, df.low_price, df.close_price)\n",
    "df[\"stoch_signal\"] = stoch_signal(df.high_price, df.low_price, df.close_price)\n",
    "df.to_csv(\"stoch_analytics.csv\")"
   ]
  },
  {
   "cell_type": "code",
   "execution_count": null,
   "metadata": {},
   "outputs": [],
   "source": [
    "# import matplotlib.pyplot as plt\n",
    "# plt.plot(df.stoch)\n",
    "# plt.plot(df.stoch_signal)\n",
    "# plt.show()"
   ]
  },
  {
   "cell_type": "code",
   "execution_count": null,
   "metadata": {},
   "outputs": [],
   "source": [
    "from upstox_api.api import *\n",
    "user = User.objects.first()\n",
    "user = cache.get(user.email + \"_upstox_login_user\")\n",
    "user.get_master_contract(\"NSE_EQ\")\n",
    "# my_dict= {'equity': {'exposure_margin': 0, 'notional_cash': 0, 'unrealized_mtm': 0, 'payin_amount': 0, 'realized_mtm': -18.95, 'span_margin': 0, 'available_margin': 7017.5275, 'adhoc_margin': 0, 'used_margin': 2898.0725}, 'commodity': {'exposure_margin': 0, 'notional_cash': 0, 'unrealized_mtm': 0, 'payin_amount': 0, 'realized_mtm': 0, 'span_margin': 0, 'available_margin': 0, 'ledger_balance': 0, 'adhoc_margin': 0, 'used_margin': 0}}\n",
    "# my_dict.get(\"equity\").get(\"available_margin\")\n",
    "def event_handler_quote_update(message):\n",
    "    print(\"Quote Update: %s\" % str(message))\n",
    "user.set_on_quote_update(event_handler_quote_update)\n",
    "user.subscribe(user.get_instrument_by_symbol('NSE_EQ', 'ibulhsgfin'), LiveFeedType.Full)\n",
    "user.start_websocket(True)"
   ]
  },
  {
   "cell_type": "code",
   "execution_count": null,
   "metadata": {},
   "outputs": [],
   "source": [
    "user.get_subscriptions()"
   ]
  },
  {
   "cell_type": "code",
   "execution_count": null,
   "metadata": {},
   "outputs": [],
   "source": []
  },
  {
   "cell_type": "code",
   "execution_count": null,
   "metadata": {},
   "outputs": [],
   "source": []
  }
 ],
 "metadata": {
  "kernelspec": {
   "display_name": "Django Shell-Plus",
   "language": "python",
   "name": "django_extensions"
  },
  "language_info": {
   "codemirror_mode": {
    "name": "ipython",
    "version": 3
   },
   "file_extension": ".py",
   "mimetype": "text/x-python",
   "name": "python",
   "nbconvert_exporter": "python",
   "pygments_lexer": "ipython3",
   "version": "3.7.3"
  }
 },
 "nbformat": 4,
 "nbformat_minor": 2
}
