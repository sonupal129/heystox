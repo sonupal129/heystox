{
 "cells": [
  {
   "cell_type": "code",
   "execution_count": 1,
   "metadata": {},
   "outputs": [],
   "source": [
    "from market_analysis.models import Candle, UserProfile, Symbol\n",
    "# from market_analysis import views\n",
    "from django.contrib.auth.models import User\n",
    "from heystox_intraday.select_stocks_for_trading import *\n",
    "import pandas as pd\n",
    "# from heystox_trade.settings import *\n",
    "from datetime import datetime, timedelta"
   ]
  },
  {
   "cell_type": "code",
   "execution_count": 2,
   "metadata": {},
   "outputs": [],
   "source": [
    "# get movement stocks\n",
    "# stocks = get_liquid_stocks()\n",
    "# buy_stocks = []\n",
    "# sell_stocks = []\n",
    "# for stock in stocks:\n",
    "#     if stock.get_stock_movement() > 1.2:\n",
    "#         buy_stocks.append(stock)\n",
    "#     elif stock.get_stocks_movement() > -1.2:\n",
    "#         sell_stocks.append(stock)\n",
    "#     else:\n",
    "#         continue"
   ]
  },
  {
   "cell_type": "code",
   "execution_count": 3,
   "metadata": {
    "scrolled": false
   },
   "outputs": [],
   "source": [
    "# obj = Candle.objects.filter(symbol__symbol=\"ambujacem\", candle_type=\"M5\", date__range=[datetime.strptime(\"17/10/2019\",'%d/%m/%Y').date(), datetime.strptime(\"19/10/2019\",'%d/%m/%Y').date()]).values()\n",
    "# # # new_header = [\"Exchange\", \"Token\", \"NA\", \"Symbol\", \"Full Name\", \"closed_price\", \"NA1\", \"NA2\", \"Tick Size\", \"Lot Size\", \"Instrument Type\", \"ISIN\"]\n",
    "\n",
    "# df = pd.DataFrame(list(obj))\n",
    "# # # obj.columns = new_header\n",
    "# # # new_obj = obj[(obj.close_price >= 55) & (obj.close_price <= 250)]\n",
    "# symbol = Symbol.objects.get(symbol=\"pnb\")\n",
    "# # symbol.is_stock_ohl(date=\"17/10/2019\")\n",
    "# first_candle_price = df.iloc[0:]\n",
    "# # previouse_day_last_candle_price = df.loc[:, [\"open_price\", \"high_price\", \"low_price\", \"close_price\"]]\n",
    "# # min(current_candle_price.min().values)\n",
    "# last_day_candles = df[(df.date <= datetime.strptime(\"18/10/2019\",'%d/%m/%Y').date())]\n",
    "# last_day_closing_price = last_day_candles.iloc[[-1]].close_price\n",
    "# last_day_opening_price = last_day_candles.iloc[[0]].open_price\n",
    "# today_open_price = df[(df.date >= datetime.strptime(\"18/10/2019\",'%d/%m/%Y').date())].iloc[[0]].open_price\n",
    "# # print(first_candle_price)\n",
    "# today_open_price > 100\n"
   ]
  },
  {
   "cell_type": "code",
   "execution_count": 4,
   "metadata": {},
   "outputs": [],
   "source": [
    "from django.core.cache import cache\n",
    "from heystox_intraday.intraday_fetchdata import *"
   ]
  },
  {
   "cell_type": "code",
   "execution_count": 5,
   "metadata": {},
   "outputs": [],
   "source": [
    "# from ta.trend import macd, macd_diff, macd_signal, ema, ema_indicator\n",
    "# from ta.momentum import stoch, stoch_signal\n",
    "# stock = Symbol.objects.get(symbol=\"ibulhsgfin\")\n",
    "# obj = stock.get_stocks_data(days=1, end_date=datetime.strptime(\"22/10/2019\",'%d/%m/%Y').date()).values()\n",
    "# df = pd.DataFrame(list(obj))\n",
    "# df[\"macd\"] = macd(df.close_price)\n",
    "# df[\"macd_signal\"] = macd_signal(df.close_price)\n",
    "# df[\"diff\"] = macd_diff(df.close_price)\n"
   ]
  },
  {
   "cell_type": "code",
   "execution_count": 6,
   "metadata": {},
   "outputs": [],
   "source": [
    "# get market movement\n",
    "\n",
    "# def get_market_movement(index):\n",
    "#     user = cache.get(\"upstox_login_user\")\n",
    "    "
   ]
  },
  {
   "cell_type": "code",
   "execution_count": 7,
   "metadata": {},
   "outputs": [],
   "source": [
    "# user = cache.get(\"upstox_login_user\")\n",
    "# symbols = Symbol.objects.all()\n",
    "# user.get_master_contract(\"NSE_EQ\")"
   ]
  },
  {
   "cell_type": "code",
   "execution_count": 8,
   "metadata": {},
   "outputs": [
    {
     "name": "stdout",
     "output_type": "stream",
     "text": [
      "218.0\n",
      "231.2\n"
     ]
    },
    {
     "data": {
      "text/plain": [
       "-5.709342560553629"
      ]
     },
     "execution_count": 8,
     "metadata": {},
     "output_type": "execute_result"
    }
   ],
   "source": []
  },
  {
   "cell_type": "code",
   "execution_count": null,
   "metadata": {},
   "outputs": [],
   "source": []
  }
 ],
 "metadata": {
  "kernelspec": {
   "display_name": "Django Shell-Plus",
   "language": "python",
   "name": "django_extensions"
  },
  "language_info": {
   "codemirror_mode": {
    "name": "ipython",
    "version": 3
   },
   "file_extension": ".py",
   "mimetype": "text/x-python",
   "name": "python",
   "nbconvert_exporter": "python",
   "pygments_lexer": "ipython3",
   "version": "3.7.3"
  }
 },
 "nbformat": 4,
 "nbformat_minor": 2
}
