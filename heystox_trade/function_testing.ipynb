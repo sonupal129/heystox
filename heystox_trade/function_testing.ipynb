{
 "cells": [
  {
   "cell_type": "code",
   "execution_count": 1,
   "metadata": {},
   "outputs": [],
   "source": [
    "from market_analysis.models import Candle, UserProfile, Symbol, SortedStocksList, TickerData\n",
    "# from market_analysis import views\n",
    "from django.contrib.auth.models import User\n",
    "from heystox_intraday.select_stocks_for_trading import *\n",
    "import pandas as pd\n",
    "# from heystox_trade.settings import *\n",
    "from datetime import datetime, timedelta"
   ]
  },
  {
   "cell_type": "code",
   "execution_count": 2,
   "metadata": {},
   "outputs": [],
   "source": [
    "# get movement stocks\n",
    "# stocks = get_liquid_stocks()\n",
    "# buy_stocks = []\n",
    "# sell_stocks = []\n",
    "# for stock in stocks:\n",
    "#     if stock.get_stock_movement() > 1.2:\n",
    "#         buy_stocks.append(stock)\n",
    "#     elif stock.get_stocks_movement() > -1.2:\n",
    "#         sell_stocks.append(stock)\n",
    "#     else:\n",
    "#         continue"
   ]
  },
  {
   "cell_type": "code",
   "execution_count": 3,
   "metadata": {
    "scrolled": false
   },
   "outputs": [
    {
     "name": "stderr",
     "output_type": "stream",
     "text": [
      "/Users/sonu2/Desktop/Sonu/env/lib/python3.7/site-packages/ipykernel_launcher.py:12: FutureWarning: Comparing Series of datetimes with 'datetime.date'.  Currently, the\n",
      "'datetime.date' is coerced to a datetime. In the future pandas will\n",
      "not coerce, and a TypeError will be raised. To retain the current\n",
      "behavior, convert the 'datetime.date' to a datetime with\n",
      "'pd.Timestamp'.\n",
      "  if sys.path[0] == '':\n",
      "/Users/sonu2/Desktop/Sonu/env/lib/python3.7/site-packages/ipykernel_launcher.py:15: FutureWarning: Comparing Series of datetimes with 'datetime.date'.  Currently, the\n",
      "'datetime.date' is coerced to a datetime. In the future pandas will\n",
      "not coerce, and a TypeError will be raised. To retain the current\n",
      "behavior, convert the 'datetime.date' to a datetime with\n",
      "'pd.Timestamp'.\n",
      "  from ipykernel import kernelapp as app\n"
     ]
    },
    {
     "data": {
      "text/plain": [
       "75    True\n",
       "Name: open_price, dtype: bool"
      ]
     },
     "execution_count": 3,
     "metadata": {},
     "output_type": "execute_result"
    }
   ],
   "source": [
    "obj = Candle.objects.filter(symbol__symbol=\"ambujacem\", candle_type=\"M5\", date__range=[datetime.strptime(\"17/10/2019\",'%d/%m/%Y').date(), datetime.strptime(\"19/10/2019\",'%d/%m/%Y').date()]).values()\n",
    "# # new_header = [\"Exchange\", \"Token\", \"NA\", \"Symbol\", \"Full Name\", \"closed_price\", \"NA1\", \"NA2\", \"Tick Size\", \"Lot Size\", \"Instrument Type\", \"ISIN\"]\n",
    "\n",
    "df = pd.DataFrame(list(obj))\n",
    "# # obj.columns = new_header\n",
    "# # new_obj = obj[(obj.close_price >= 55) & (obj.close_price <= 250)]\n",
    "symbol = Symbol.objects.get(symbol=\"pnb\")\n",
    "# symbol.is_stock_ohl(date=\"17/10/2019\")\n",
    "first_candle_price = df.iloc[0:]\n",
    "# previouse_day_last_candle_price = df.loc[:, [\"open_price\", \"high_price\", \"low_price\", \"close_price\"]]\n",
    "# min(current_candle_price.min().values)\n",
    "last_day_candles = df[(df.date <= datetime.strptime(\"18/10/2019\",'%d/%m/%Y').date())]\n",
    "last_day_closing_price = last_day_candles.iloc[[-1]].close_price\n",
    "last_day_opening_price = last_day_candles.iloc[[0]].open_price\n",
    "today_open_price = df[(df.date >= datetime.strptime(\"18/10/2019\",'%d/%m/%Y').date())].iloc[[0]].open_price\n",
    "# print(first_candle_price)\n",
    "today_open_price > 100\n"
   ]
  },
  {
   "cell_type": "code",
   "execution_count": 4,
   "metadata": {},
   "outputs": [],
   "source": [
    "from django.core.cache import cache\n",
    "from heystox_intraday.intraday_fetchdata import *"
   ]
  },
  {
   "cell_type": "code",
   "execution_count": 5,
   "metadata": {},
   "outputs": [],
   "source": [
    "from ta.trend import macd, macd_diff, macd_signal, ema, ema_indicator\n",
    "from ta.momentum import stoch, stoch_signal\n",
    "stock = Symbol.objects.get(symbol=\"ibulhsgfin\")\n",
    "obj = stock.get_stock_data(days=1, end_date=datetime.strptime(\"30/10/2019\",'%d/%m/%Y').date())\n",
    "df = pd.DataFrame(list(obj.values()))\n",
    "# df[\"macd\"] = ema_indicator(df.close_price, n=12) - ema_indicator(df.close_price, n=26)\n",
    "# df[\"macd_signal\"] = ema_indicator(df.macd, n=9)\n",
    "# df[\"diff\"] = df.macd - df.macd_signal\n",
    "# df[\"percentage\"] = round(macd_diff(df.close_price) * macd(df.close_price) / float(100), 4)\n",
    "# df[\"percentage\"] = df.macd * df.diff\n",
    "# df.to_csv(\"namaste.csv\")\n",
    "df[\"stoch\"] = stoch(df.high_price, df.low_price, df.close_price)\n",
    "df[\"stoch_signal\"] = stoch_signal(df.high_price, df.low_price, df.close_price)\n",
    "df.to_csv(\"stoch_analytics.csv\")"
   ]
  },
  {
   "cell_type": "code",
   "execution_count": 6,
   "metadata": {},
   "outputs": [],
   "source": [
    "# import matplotlib.pyplot as plt\n",
    "# plt.plot(df.stoch)\n",
    "# plt.plot(df.stoch_signal)\n",
    "# plt.show()"
   ]
  },
  {
   "cell_type": "code",
   "execution_count": 7,
   "metadata": {},
   "outputs": [],
   "source": [
    "# from upstox_api.api import *\n",
    "# user = User.objects.first()\n",
    "# user = cache.get(user.email + \"_upstox_login_user\")\n",
    "# user.get_master_contract(\"NSE_EQ\")\n",
    "# # my_dict= {'equity': {'exposure_margin': 0, 'notional_cash': 0, 'unrealized_mtm': 0, 'payin_amount': 0, 'realized_mtm': -18.95, 'span_margin': 0, 'available_margin': 7017.5275, 'adhoc_margin': 0, 'used_margin': 2898.0725}, 'commodity': {'exposure_margin': 0, 'notional_cash': 0, 'unrealized_mtm': 0, 'payin_amount': 0, 'realized_mtm': 0, 'span_margin': 0, 'available_margin': 0, 'ledger_balance': 0, 'adhoc_margin': 0, 'used_margin': 0}}\n",
    "# # my_dict.get(\"equity\").get(\"available_margin\")\n",
    "# def event_handler_quote_update(message):\n",
    "#     print(\"Quote Update: %s\" % str(message))\n",
    "# user.set_on_quote_update(event_handler_quote_update)\n",
    "# user.subscribe(user.get_instrument_by_symbol('NSE_EQ', 'ibulhsgfin'), LiveFeedType.Full)\n",
    "# user.start_websocket(True)"
   ]
  },
  {
   "cell_type": "code",
   "execution_count": 29,
   "metadata": {},
   "outputs": [
    {
     "name": "stdout",
     "output_type": "stream",
     "text": [
      "0:00:02.260029\n"
     ]
    },
    {
     "data": {
      "text/plain": [
       "6000"
      ]
     },
     "execution_count": 29,
     "metadata": {},
     "output_type": "execute_result"
    }
   ],
   "source": [
    "using_for_loop = \"0:00:00.313255\" # On 100 Objects\n",
    "using_bulk_create = \"0:00:00.056181\" # On 100 Objects\n",
    "\n",
    "using_loop_on_6000 = \"0:00:17.305875\"\n",
    "using_bulk_create_6000 = \"0:00:02.697318\"\n",
    "\n",
    "using_loop_on_1000 = \"0:00:02.515317\"\n",
    "using_bulk_create_1000 = \"0:00:00.379484\"\n",
    "\n",
    "my_dict = {'timestamp': '1573034400000', 'exchange': 'NSE_EQ', 'symbol': 'IBULHSGFIN', 'ltp': 216.95, 'close': 225.05, 'open': 227.3, 'high': 238.6, 'low': 216.1, 'vtt': 47679599.0, 'atp': 226.42, 'total_buy_qty': 286503, 'total_sell_qty': 1284418, 'lower_circuit': 202.55, 'upper_circuit': 247.55, 'ltt': 1573034399000, 'bids': [{'quantity': 292, 'price': 216.9, 'orders': 1}, {'quantity': 50, 'price': 216.5, 'orders': 1}, {'quantity': 853, 'price': 216.3, 'orders': 4}, {'quantity': 35, 'price': 216.25, 'orders': 2}, {'quantity': 830, 'price': 216.2, 'orders': 5}], 'asks': [{'quantity': 1367, 'price': 216.95, 'orders': 2}, {'quantity': 7900, 'price': 217.0, 'orders': 23}, {'quantity': 500, 'price': 217.05, 'orders': 1}, {'quantity': 435, 'price': 217.1, 'orders': 1}, {'quantity': 1179, 'price': 217.15, 'orders': 5}], 'instrument': Instrument(exchange='NSE_EQ', token=30125, parent_token=None, symbol='ibulhsgfin', name='INDIABULLS HSG FIN LTD', closing_price=225.05, expiry=None, strike_price=None, tick_size=5.0, lot_size=1, instrument_type='EQUITY', isin='INE148I01020')}\n",
    "\n",
    "\n",
    "\n",
    "start_time = datetime.now()\n",
    "test_list = [fo]\n",
    "for i in range(0,6000):\n",
    "    ltt = int(str(my_dict.get(\"ltt\"))[:10])\n",
    "    timestamp = int(my_dict.get(\"timestamp\")[:10])\n",
    "    test_list.append(TickerData(timestamp=datetime.fromtimestamp(timestamp), exchange=my_dict.get(\"exchange\"), symbol=my_dict.get(\"symbol\"), ltp=my_dict.get(\"ltp\"), close=my_dict.get(\"close\"), open=my_dict.get(\"open\"), high=my_dict.get(\"high\"), low=my_dict.get(\"low\"), vtt=my_dict.get(\"vtt\"), total_buy_qty=my_dict.get(\"total_buy_qty\"), lower_circuit=my_dict.get(\"lower_circuit\"), upper_circuit=my_dict.get(\"upper_circuit\"), bids=my_dict.get(\"bids\"), ltt=datetime.fromtimestamp(ltt), asks=my_dict.get(\"asks\")))\n",
    "TickerData.objects.bulk_create(test_list)\n",
    "end_time = datetime.now()\n",
    "print(end_time-start_time)\n",
    "len(test_list)"
   ]
  },
  {
   "cell_type": "code",
   "execution_count": 30,
   "metadata": {},
   "outputs": [
    {
     "data": {
      "text/plain": [
       "23200"
      ]
     },
     "execution_count": 30,
     "metadata": {},
     "output_type": "execute_result"
    }
   ],
   "source": [
    "TickerData.objects.count()"
   ]
  },
  {
   "cell_type": "code",
   "execution_count": null,
   "metadata": {},
   "outputs": [],
   "source": []
  },
  {
   "cell_type": "code",
   "execution_count": null,
   "metadata": {},
   "outputs": [],
   "source": []
  },
  {
   "cell_type": "code",
   "execution_count": null,
   "metadata": {},
   "outputs": [],
   "source": []
  }
 ],
 "metadata": {
  "kernelspec": {
   "display_name": "Django Shell-Plus",
   "language": "python",
   "name": "django_extensions"
  },
  "language_info": {
   "codemirror_mode": {
    "name": "ipython",
    "version": 3
   },
   "file_extension": ".py",
   "mimetype": "text/x-python",
   "name": "python",
   "nbconvert_exporter": "python",
   "pygments_lexer": "ipython3",
   "version": "3.7.3"
  }
 },
 "nbformat": 4,
 "nbformat_minor": 2
}
