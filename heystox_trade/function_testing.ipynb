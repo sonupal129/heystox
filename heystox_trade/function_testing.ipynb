{
 "cells": [
  {
   "cell_type": "code",
   "execution_count": 1,
   "metadata": {},
   "outputs": [],
   "source": [
    "from market_analysis.models import Candle, UserProfile, Symbol, SortedStocksList, StrategyTimestamp\n",
    "# from market_analysis import views\n",
    "from django.contrib.auth.models import User\n",
    "from heystox_intraday.select_stocks_for_trading import *\n",
    "import pandas as pd\n",
    "# from heystox_trade.settings import *\n",
    "from datetime import datetime, timedelta\n",
    "from heystox_intraday.intraday_fetchdata import *\n",
    "from market_analysis.tasks.stock_data_import_tasks import *\n",
    "from market_analysis.tasks.day_trading_tasks import *\n",
    "from django.core.cache import cache, caches\n",
    "from datetime import time"
   ]
  },
  {
   "cell_type": "code",
   "execution_count": 2,
   "metadata": {},
   "outputs": [],
   "source": [
    "# user = get_upstox_user(\"sonupal129@gmail.com\")\n",
    "# symbol = Symbol.objects.get(symbol=\"ashokley\")\n",
    "# # print(user.get_ohlc(user.get_instrument_by_symbol('NSE_EQ', 'bel'), OHLCInterval.Minute_1, datetime.strptime('12/12/2019', '%d/%m/%Y').date(), datetime.strptime('12/12/2019', '%d/%m/%Y').date()))\n",
    "# user.get_master_contract(\"NSE_EQ\")\n",
    "# user.get_master_contract(\"NSE_INDEX\")\n",
    "# # cache_candles_data(user, symbol)\n",
    "# # get_stock_current_candle(\"ashokley\")"
   ]
  },
  {
   "cell_type": "code",
   "execution_count": null,
   "metadata": {
    "scrolled": false
   },
   "outputs": [],
   "source": []
  },
  {
   "cell_type": "code",
   "execution_count": 3,
   "metadata": {},
   "outputs": [],
   "source": [
    "# def function_caller(start_time, end_time, func, *args, **kwargs):\n",
    "#     \"\"\"Call function on custom time with interval functionality using celery periodic task\"\"\"\n",
    "#     current_time = datetime.now().time()\n",
    "#     if start_time < current_time < end_time:\n",
    "#         func(*args, **kwargs)"
   ]
  },
  {
   "cell_type": "code",
   "execution_count": 4,
   "metadata": {},
   "outputs": [],
   "source": [
    "# def func(a,b):\n",
    "#     a= 3\n",
    "#     b = 4\n",
    "#     print(a+b)\n",
    "    \n",
    "# start = time(9,15)\n",
    "# end = time(15,30)\n",
    "    \n",
    "# function_caller(start,end, func, 3,4)"
   ]
  },
  {
   "cell_type": "code",
   "execution_count": null,
   "metadata": {
    "scrolled": true
   },
   "outputs": [],
   "source": []
  },
  {
   "cell_type": "code",
   "execution_count": 5,
   "metadata": {},
   "outputs": [
    {
     "name": "stdout",
     "output_type": "stream",
     "text": [
      "1\n"
     ]
    }
   ],
   "source": [
    "redis_cache = caches[\"redis\"]\n",
    "data = redis_cache.get(\"raju\")\n",
    "my_list = [\"Sonu\"]\n",
    "if not data:\n",
    "    print(1)"
   ]
  },
  {
   "cell_type": "code",
   "execution_count": 6,
   "metadata": {
    "scrolled": true
   },
   "outputs": [
    {
     "data": {
      "text/plain": [
       "['DoesNotExist',\n",
       " 'MultipleObjectsReturned',\n",
       " '__class__',\n",
       " '__delattr__',\n",
       " '__dict__',\n",
       " '__dir__',\n",
       " '__doc__',\n",
       " '__eq__',\n",
       " '__format__',\n",
       " '__ge__',\n",
       " '__getattribute__',\n",
       " '__getstate__',\n",
       " '__gt__',\n",
       " '__hash__',\n",
       " '__init__',\n",
       " '__init_subclass__',\n",
       " '__le__',\n",
       " '__lt__',\n",
       " '__module__',\n",
       " '__ne__',\n",
       " '__new__',\n",
       " '__reduce__',\n",
       " '__reduce_ex__',\n",
       " '__repr__',\n",
       " '__setattr__',\n",
       " '__setstate__',\n",
       " '__sizeof__',\n",
       " '__str__',\n",
       " '__subclasshook__',\n",
       " '__weakref__',\n",
       " '_check_column_name_clashes',\n",
       " '_check_constraints',\n",
       " '_check_field_name_clashes',\n",
       " '_check_fields',\n",
       " '_check_id_field',\n",
       " '_check_index_together',\n",
       " '_check_indexes',\n",
       " '_check_local_fields',\n",
       " '_check_long_column_names',\n",
       " '_check_m2m_through_same_relationship',\n",
       " '_check_managers',\n",
       " '_check_model',\n",
       " '_check_model_name_db_lookup_clashes',\n",
       " '_check_ordering',\n",
       " '_check_property_name_related_field_accessor_clashes',\n",
       " '_check_single_primary_key',\n",
       " '_check_swappable',\n",
       " '_check_unique_together',\n",
       " '_do_insert',\n",
       " '_do_update',\n",
       " '_get_FIELD_display',\n",
       " '_get_next_or_previous_by_FIELD',\n",
       " '_get_next_or_previous_in_order',\n",
       " '_get_pk_val',\n",
       " '_get_unique_checks',\n",
       " '_meta',\n",
       " '_perform_date_checks',\n",
       " '_perform_unique_checks',\n",
       " '_save_parents',\n",
       " '_save_table',\n",
       " '_set_pk_val',\n",
       " 'check',\n",
       " 'clean',\n",
       " 'clean_fields',\n",
       " 'created_at',\n",
       " 'date_error_message',\n",
       " 'delete',\n",
       " 'entry_choices',\n",
       " 'entry_price',\n",
       " 'entry_type',\n",
       " 'from_db',\n",
       " 'full_clean',\n",
       " 'get_deferred_fields',\n",
       " 'get_entry_type_display',\n",
       " 'get_first_timestamp',\n",
       " 'get_last_timestamp',\n",
       " 'get_next_by_created_at',\n",
       " 'get_next_by_modified_at',\n",
       " 'get_previous_by_created_at',\n",
       " 'get_previous_by_modified_at',\n",
       " 'get_second_last_timestamp',\n",
       " 'id',\n",
       " 'modified_at',\n",
       " 'objects',\n",
       " 'pk',\n",
       " 'prepare_database_save',\n",
       " 'refresh_from_db',\n",
       " 'save',\n",
       " 'save_base',\n",
       " 'serializable_value',\n",
       " 'symbol',\n",
       " 'symbol_id',\n",
       " 'timestamps',\n",
       " 'unique_error_message',\n",
       " 'validate_unique']"
      ]
     },
     "execution_count": 6,
     "metadata": {},
     "output_type": "execute_result"
    }
   ],
   "source": [
    "dir(SortedStocksList)"
   ]
  },
  {
   "cell_type": "code",
   "execution_count": 26,
   "metadata": {},
   "outputs": [
    {
     "data": {
      "text/plain": [
       "3.0869999999999997"
      ]
     },
     "execution_count": 26,
     "metadata": {},
     "output_type": "execute_result"
    }
   ],
   "source": [
    "stock = Symbol.objects.get(symbol=\"jswsteel\")\n",
    "last_price = symbol.get_last_day_closing_price()\n",
    "movement_percent = 1.2\n",
    "(stock.get_last_day_closing_price() * movement_percent / 100)"
   ]
  },
  {
   "cell_type": "code",
   "execution_count": null,
   "metadata": {},
   "outputs": [],
   "source": []
  },
  {
   "cell_type": "code",
   "execution_count": null,
   "metadata": {},
   "outputs": [],
   "source": []
  },
  {
   "cell_type": "code",
   "execution_count": null,
   "metadata": {},
   "outputs": [],
   "source": []
  }
 ],
 "metadata": {
  "kernelspec": {
   "display_name": "Django Shell-Plus",
   "language": "python",
   "name": "django_extensions"
  },
  "language_info": {
   "codemirror_mode": {
    "name": "ipython",
    "version": 3
   },
   "file_extension": ".py",
   "mimetype": "text/x-python",
   "name": "python",
   "nbconvert_exporter": "python",
   "pygments_lexer": "ipython3",
   "version": "3.7.3"
  }
 },
 "nbformat": 4,
 "nbformat_minor": 2
}
