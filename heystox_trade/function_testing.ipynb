{
 "cells": [
  {
   "cell_type": "code",
   "execution_count": 14,
   "metadata": {},
   "outputs": [],
   "source": [
    "from market_analysis.models import Candle, UserProfile, Symbol, SortedStocksList, StrategyTimestamp\n",
    "# from market_analysis import views\n",
    "from django.contrib.auth.models import User\n",
    "from heystox_intraday.select_stocks_for_trading import *\n",
    "import pandas as pd\n",
    "# from heystox_trade.settings import *\n",
    "from datetime import datetime, timedelta\n",
    "from heystox_intraday.intraday_fetchdata import *\n",
    "from market_analysis.tasks.stock_data_import_tasks import *\n",
    "from market_analysis.tasks.day_trading_tasks import *\n",
    "from django.core.cache import cache, caches\n",
    "from datetime import time"
   ]
  },
  {
   "cell_type": "code",
   "execution_count": 2,
   "metadata": {},
   "outputs": [],
   "source": [
    "# user = get_upstox_user(\"sonupal129@gmail.com\")\n",
    "# symbol = Symbol.objects.get(symbol=\"ashokley\")\n",
    "# # print(user.get_ohlc(user.get_instrument_by_symbol('NSE_EQ', 'bel'), OHLCInterval.Minute_1, datetime.strptime('12/12/2019', '%d/%m/%Y').date(), datetime.strptime('12/12/2019', '%d/%m/%Y').date()))\n",
    "# user.get_master_contract(\"NSE_EQ\")\n",
    "# user.get_master_contract(\"NSE_INDEX\")\n",
    "# # cache_candles_data(user, symbol)\n",
    "# # get_stock_current_candle(\"ashokley\")"
   ]
  },
  {
   "cell_type": "code",
   "execution_count": null,
   "metadata": {
    "scrolled": false
   },
   "outputs": [],
   "source": []
  },
  {
   "cell_type": "code",
   "execution_count": 3,
   "metadata": {},
   "outputs": [],
   "source": [
    "# def function_caller(start_time, end_time, func, *args, **kwargs):\n",
    "#     \"\"\"Call function on custom time with interval functionality using celery periodic task\"\"\"\n",
    "#     current_time = datetime.now().time()\n",
    "#     if start_time < current_time < end_time:\n",
    "#         func(*args, **kwargs)"
   ]
  },
  {
   "cell_type": "code",
   "execution_count": 4,
   "metadata": {},
   "outputs": [],
   "source": [
    "# def func(a,b):\n",
    "#     a= 3\n",
    "#     b = 4\n",
    "#     print(a+b)\n",
    "    \n",
    "# start = time(9,15)\n",
    "# end = time(15,30)\n",
    "    \n",
    "# function_caller(start,end, func, 3,4)"
   ]
  },
  {
   "cell_type": "code",
   "execution_count": null,
   "metadata": {
    "scrolled": true
   },
   "outputs": [],
   "source": []
  },
  {
   "cell_type": "code",
   "execution_count": null,
   "metadata": {},
   "outputs": [],
   "source": []
  },
  {
   "cell_type": "code",
   "execution_count": 116,
   "metadata": {
    "scrolled": true
   },
   "outputs": [],
   "source": [
    "user = UserProfile.objects.first()\n",
    "uuser = user.get_upstox_user()"
   ]
  },
  {
   "cell_type": "code",
   "execution_count": 102,
   "metadata": {},
   "outputs": [],
   "source": [
    "symbol = Symbol.objects.get(symbol=\"jswsteel\")\n",
    "from heystox_intraday.intraday_functions_strategy import *"
   ]
  },
  {
   "cell_type": "code",
   "execution_count": 120,
   "metadata": {},
   "outputs": [
    {
     "ename": "HTTPError",
     "evalue": "{\"code\":401,\"status\":\"Unauthorized\",\"timestamp\":\"2020-01-05T06:01:51+05:30\",\"message\":\"Access Denied\",\"error\":{\"reason\":\"Invalid Bearer token\"}}",
     "output_type": "error",
     "traceback": [
      "\u001b[0;31m---------------------------------------------------------------------------\u001b[0m",
      "\u001b[0;31mHTTPError\u001b[0m                                 Traceback (most recent call last)",
      "\u001b[0;32m<ipython-input-120-5ba00e94a137>\u001b[0m in \u001b[0;36m<module>\u001b[0;34m()\u001b[0m\n\u001b[0;32m----> 1\u001b[0;31m \u001b[0muuser\u001b[0m\u001b[0;34m.\u001b[0m\u001b[0mlogout\u001b[0m\u001b[0;34m(\u001b[0m\u001b[0;34m)\u001b[0m\u001b[0;34m\u001b[0m\u001b[0;34m\u001b[0m\u001b[0m\n\u001b[0m",
      "\u001b[0;32m~/Desktop/Sonu/env/lib/python3.7/site-packages/upstox_api/api.py\u001b[0m in \u001b[0;36mlogout\u001b[0;34m(self)\u001b[0m\n\u001b[1;32m    408\u001b[0m \u001b[0;34m\u001b[0m\u001b[0m\n\u001b[1;32m    409\u001b[0m     \u001b[0;32mdef\u001b[0m \u001b[0mlogout\u001b[0m\u001b[0;34m(\u001b[0m\u001b[0mself\u001b[0m\u001b[0;34m)\u001b[0m\u001b[0;34m:\u001b[0m\u001b[0;34m\u001b[0m\u001b[0;34m\u001b[0m\u001b[0m\n\u001b[0;32m--> 410\u001b[0;31m         \u001b[0;32mreturn\u001b[0m \u001b[0mself\u001b[0m\u001b[0;34m.\u001b[0m\u001b[0mapi_call_helper\u001b[0m\u001b[0;34m(\u001b[0m\u001b[0;34m'logout'\u001b[0m\u001b[0;34m,\u001b[0m \u001b[0mPyCurlVerbs\u001b[0m\u001b[0;34m.\u001b[0m\u001b[0mGET\u001b[0m\u001b[0;34m,\u001b[0m \u001b[0;32mNone\u001b[0m\u001b[0;34m,\u001b[0m \u001b[0;32mNone\u001b[0m\u001b[0;34m)\u001b[0m\u001b[0;34m\u001b[0m\u001b[0;34m\u001b[0m\u001b[0m\n\u001b[0m\u001b[1;32m    411\u001b[0m \u001b[0;34m\u001b[0m\u001b[0m\n\u001b[1;32m    412\u001b[0m     \u001b[0;32mdef\u001b[0m \u001b[0mget_exchanges\u001b[0m\u001b[0;34m(\u001b[0m\u001b[0mself\u001b[0m\u001b[0;34m)\u001b[0m\u001b[0;34m:\u001b[0m\u001b[0;34m\u001b[0m\u001b[0;34m\u001b[0m\u001b[0m\n",
      "\u001b[0;32m~/Desktop/Sonu/env/lib/python3.7/site-packages/upstox_api/api.py\u001b[0m in \u001b[0;36mapi_call_helper\u001b[0;34m(self, name, http_method, params, data)\u001b[0m\n\u001b[1;32m    854\u001b[0m \u001b[0;34m\u001b[0m\u001b[0m\n\u001b[1;32m    855\u001b[0m         \u001b[0;32mif\u001b[0m \u001b[0mresponse\u001b[0m\u001b[0;34m.\u001b[0m\u001b[0mstatus_code\u001b[0m \u001b[0;34m!=\u001b[0m \u001b[0;36m200\u001b[0m\u001b[0;34m:\u001b[0m\u001b[0;34m\u001b[0m\u001b[0;34m\u001b[0m\u001b[0m\n\u001b[0;32m--> 856\u001b[0;31m             \u001b[0;32mraise\u001b[0m \u001b[0mrequests\u001b[0m\u001b[0;34m.\u001b[0m\u001b[0mHTTPError\u001b[0m\u001b[0;34m(\u001b[0m\u001b[0mresponse\u001b[0m\u001b[0;34m.\u001b[0m\u001b[0mtext\u001b[0m\u001b[0;34m)\u001b[0m\u001b[0;34m\u001b[0m\u001b[0;34m\u001b[0m\u001b[0m\n\u001b[0m\u001b[1;32m    857\u001b[0m \u001b[0;34m\u001b[0m\u001b[0m\n\u001b[1;32m    858\u001b[0m         \u001b[0mbody\u001b[0m \u001b[0;34m=\u001b[0m \u001b[0mjson\u001b[0m\u001b[0;34m.\u001b[0m\u001b[0mloads\u001b[0m\u001b[0;34m(\u001b[0m\u001b[0mresponse\u001b[0m\u001b[0;34m.\u001b[0m\u001b[0mtext\u001b[0m\u001b[0;34m)\u001b[0m\u001b[0;34m\u001b[0m\u001b[0;34m\u001b[0m\u001b[0m\n",
      "\u001b[0;31mHTTPError\u001b[0m: {\"code\":401,\"status\":\"Unauthorized\",\"timestamp\":\"2020-01-05T06:01:51+05:30\",\"message\":\"Access Denied\",\"error\":{\"reason\":\"Invalid Bearer token\"}}"
     ]
    }
   ],
   "source": [
    "uuser.logout()"
   ]
  },
  {
   "cell_type": "code",
   "execution_count": 6,
   "metadata": {},
   "outputs": [
    {
     "data": {
      "text/plain": [
       "datetime.date(2019, 12, 27)"
      ]
     },
     "execution_count": 6,
     "metadata": {},
     "output_type": "execute_result"
    }
   ],
   "source": [
    "from datetime import date, timedelta, datetime\n",
    "end_date = date(2019,12,27)\n",
    "# start_date = end_date - timedelta(0)\n",
    "end_date"
   ]
  },
  {
   "cell_type": "code",
   "execution_count": 8,
   "metadata": {},
   "outputs": [
    {
     "data": {
      "text/plain": [
       "datetime.datetime(2020, 1, 6, 22, 30, 58, 32224)"
      ]
     },
     "execution_count": 8,
     "metadata": {},
     "output_type": "execute_result"
    }
   ],
   "source": [
    "datetime.now() - timedelta(minutes=30)"
   ]
  },
  {
   "cell_type": "code",
   "execution_count": 20,
   "metadata": {},
   "outputs": [],
   "source": []
  },
  {
   "cell_type": "code",
   "execution_count": 27,
   "metadata": {},
   "outputs": [],
   "source": []
  },
  {
   "cell_type": "code",
   "execution_count": 62,
   "metadata": {},
   "outputs": [],
   "source": []
  },
  {
   "cell_type": "code",
   "execution_count": null,
   "metadata": {},
   "outputs": [],
   "source": []
  },
  {
   "cell_type": "code",
   "execution_count": null,
   "metadata": {},
   "outputs": [],
   "source": []
  },
  {
   "cell_type": "code",
   "execution_count": null,
   "metadata": {},
   "outputs": [],
   "source": []
  }
 ],
 "metadata": {
  "kernelspec": {
   "display_name": "Django Shell-Plus",
   "language": "python",
   "name": "django_extensions"
  },
  "language_info": {
   "codemirror_mode": {
    "name": "ipython",
    "version": 3
   },
   "file_extension": ".py",
   "mimetype": "text/x-python",
   "name": "python",
   "nbconvert_exporter": "python",
   "pygments_lexer": "ipython3",
   "version": "3.7.3"
  }
 },
 "nbformat": 4,
 "nbformat_minor": 2
}
