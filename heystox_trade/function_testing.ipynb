{
 "cells": [
  {
   "cell_type": "code",
   "execution_count": 7,
   "metadata": {},
   "outputs": [],
   "source": [
    "from market_analysis.models import Candle, UserProfile, Symbol, SortedStocksList, StrategyTimestamp\n",
    "# from market_analysis import views\n",
    "from django.contrib.auth.models import User\n",
    "import pandas as pd\n",
    "# from heystox_trade.settings import *\n",
    "from datetime import datetime, timedelta\n",
    "from market_analysis.tasks.day_trading_tasks import *\n",
    "from django.core.cache import cache, caches\n",
    "from datetime import time, timedelta, datetime\n",
    "import time\n",
    "from ta.trend import macd, macd_diff, macd_signal, ema, ema_indicator\n",
    "import numpy as np"
   ]
  },
  {
   "cell_type": "code",
   "execution_count": 10,
   "metadata": {},
   "outputs": [
    {
     "data": {
      "text/plain": [
       "<QuerySet ['agritech', 'ahlucont', 'ahleast', 'ahlwest', 'ajmera', 'aksharchem', 'alicon', 'alkali', 'abcapital', '5paisa', '63moons', 'aartidrugs', 'abfrl', 'adanigreen', 'abslbanetf', 'ace', 'adanigas', 'adaniports', 'abslnn50et', 'aegischem', '...(remaining elements truncated)...']>"
      ]
     },
     "execution_count": 10,
     "metadata": {},
     "output_type": "execute_result"
    }
   ],
   "source": [
    "sorted_stock = SortedStocksList.objects.get(created_at__date=datetime.now().date(), symbol__symbol=\"ashokley\")\n",
    "df = sorted_stock.symbol.get_stock_live_data()\n",
    "Symbol.objects.all().values_list(\"symbol\", flat=True)"
   ]
  },
  {
   "cell_type": "code",
   "execution_count": 3,
   "metadata": {
    "scrolled": true
   },
   "outputs": [],
   "source": [
    "# MACD Crossover\n",
    "from market_analysis.tasks.intraday_functions_strategies import *"
   ]
  },
  {
   "cell_type": "code",
   "execution_count": null,
   "metadata": {},
   "outputs": [],
   "source": []
  },
  {
   "cell_type": "code",
   "execution_count": null,
   "metadata": {},
   "outputs": [],
   "source": []
  },
  {
   "cell_type": "code",
   "execution_count": 4,
   "metadata": {
    "scrolled": true
   },
   "outputs": [],
   "source": [
    "# raju = [\"adanient\", \"bhel\", \"dlf\", \"gmrinfra\", \"gail\", \"infratel\", \"ioc\", \"idea\", \"nhpc\", \"pnb\", \"relinfra\", \"recltd\", \"spencers\", \"tatapower\", \"vakrangee\", \"yesbank\", \"ujjivansfb\", \"granules\", \"mothersumi\", \"adanipower\", \"dishtv\", \"sail\", \"nationalum\", \"jswsteel\", \"federalbnk\", \"jindalstel\", \"idfcfirstb\", \"rvnl\", \"equitas\"]\n",
    "# fifth = date(2020,1,25)\n",
    "# for r in raju:\n",
    "#     symbol = Symbol.objects.get(symbol=r)\n",
    "#     SortedStocksList.objects.create(symbol=symbol, entry_type=\"BUY\")\n",
    "# # Candle.objects.filter(date__date=fifth, symbol__symbol__in=raju)\n",
    "# for candle in Candle.objects.filter(date__date=fifth, symbol__symbol__in=raju):\n",
    "#     candle.date = candle.date + timedelta(1)\n",
    "#     candle.save()"
   ]
  },
  {
   "cell_type": "code",
   "execution_count": 5,
   "metadata": {},
   "outputs": [
    {
     "data": {
      "text/plain": [
       "b'{\"message\":\"When Content-Type:application/x-www-form-urlencoded, URL cannot include query-string parameters (after \\'?\\'): \\'/index/dialog/authorize?apiKey=VpcuCaUDK91y9JPy358T19nUWtq0UF6J8Yl3qVmr&redirect_uri=http%3A%2F%2F127.0.0.1%3A8000%2F&response_type=code\\'\"}'"
      ]
     },
     "execution_count": 5,
     "metadata": {},
     "output_type": "execute_result"
    }
   ],
   "source": [
    "import requests\n",
    "from bs4 import BeautifulSoup\n",
    "user = UserProfile.objects.get(user__email=\"sonupal129@gmail.com\")\n",
    "payload = {\"username\": 308687, \"password\": \"Sonupal!@9\", \"password2fa\": 1990, \"TOKEN\":\"fbe2c9352ed86c06c20f003bee0babee7d6831a413026b670a907bf27789a4ff\"}\n",
    "headers= {\"Host\": \"www1.nseindia.com\", \n",
    "            \"Cache-Control\": \"max-age=0\",\n",
    "            \"Upgrade-Insecure-Requests\": \"1\", \"User-Agent\": \"Mozilla/5.0 (Macintosh; Intel Mac OS X 10_14_6) AppleWebKit/537.36 (KHTML, like Gecko) Chrome/78.0.3904.108 Safari/537.36\",\n",
    "             \"Accept\": \"text/html,application/xhtml+xml,application/xml;q=0.9,image/webp,image/apng,*/*;q=0.8,application/signed-exchange;v=b3\",\n",
    "             }\n",
    "# print(response.text.encode('utf8'))\n",
    "# url_request.text.encode(\"utf-8\")\n",
    "response = requests.post(user.get_authentication_url(), data=payload)\n",
    "response.content"
   ]
  },
  {
   "cell_type": "code",
   "execution_count": null,
   "metadata": {
    "scrolled": true
   },
   "outputs": [],
   "source": []
  },
  {
   "cell_type": "code",
   "execution_count": 6,
   "metadata": {},
   "outputs": [],
   "source": [
    "# from django.conf import settings\n",
    "# def import_daily_losers_gainers():\n",
    "#     urls = {\n",
    "#             \"BUY\": [\"https://www1.nseindia.com/live_market/dynaContent/live_analysis/gainers/niftyGainers1.json\",\n",
    "#                     \"https://www1.nseindia.com/live_market/dynaContent/live_analysis/gainers/jrNiftyGainers1.json\"],\n",
    "#             \"SELL\": [\"https://www1.nseindia.com/live_market/dynaContent/live_analysis/losers/niftyLosers1.json\",\n",
    "#                     \"https://www1.nseindia.com/live_market/dynaContent/live_analysis/losers/jrNiftyLosers1.json\"]\n",
    "#         }\n",
    "    \n",
    "#     nifty_movement = Symbol.objects.get(symbol=\"nifty_50\").get_nifty_movement()\n",
    "    \n",
    "#     def response_filter(obj):\n",
    "#         open_price = obj.get(\"openPrice\")\n",
    "#         change = float(obj.get(\"netPrice\"))\n",
    "#         if \",\" in open_price:\n",
    "#             open_price = open_price.replace(\",\",\"\")\n",
    "#         open_price = float(open_price)\n",
    "#         if open_price >= 100 and open_price <= 300 and change >= 1.2:\n",
    "#             return obj\n",
    "        \n",
    "    \n",
    "#     if nifty_movement in (\"BUY\", \"SELL\"):\n",
    "#         import_urls = urls.get(nifty_movement)\n",
    "#         if import_urls:\n",
    "#             for url in import_urls:\n",
    "#                 response = requests.get(url, headers=settings.NSE_HEADERS)\n",
    "#                 if response.status_code == 200:\n",
    "#                     responses = filter(response_filter, response.json().get(\"data\"))\n",
    "#                     for symbol in responses:\n",
    "#                         try:\n",
    "#                             stock = Symbol.objects.get(symbol=symbol.get(\"symbol\").lower())\n",
    "#                         except:\n",
    "#                             stock = None\n",
    "#                         if stock:\n",
    "#                             SortedStocksList.objects.get_or_create(symbol=stock, entry_type=nifty_movement, created_at__date=datetime.now().date())\n",
    "#                     return f\"Data imported successfully! from {url}\"\n",
    "#                 return slack_message_sender.delay(channel=\"#random\", text=f\"Incorrect Url: {url}\")\n",
    "#             return \"All Urls Data Imported Succefully\""
   ]
  },
  {
   "cell_type": "code",
   "execution_count": null,
   "metadata": {},
   "outputs": [],
   "source": []
  },
  {
   "cell_type": "code",
   "execution_count": null,
   "metadata": {},
   "outputs": [],
   "source": []
  },
  {
   "cell_type": "code",
   "execution_count": null,
   "metadata": {},
   "outputs": [],
   "source": []
  }
 ],
 "metadata": {
  "kernelspec": {
   "display_name": "Django Shell-Plus",
   "language": "python",
   "name": "django_extensions"
  },
  "language_info": {
   "codemirror_mode": {
    "name": "ipython",
    "version": 3
   },
   "file_extension": ".py",
   "mimetype": "text/x-python",
   "name": "python",
   "nbconvert_exporter": "python",
   "pygments_lexer": "ipython3",
   "version": "3.7.6"
  }
 },
 "nbformat": 4,
 "nbformat_minor": 2
}
