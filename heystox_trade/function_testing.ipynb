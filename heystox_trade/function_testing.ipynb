{
 "cells": [
  {
   "cell_type": "code",
   "execution_count": 1,
   "metadata": {},
   "outputs": [],
   "source": [
    "from market_analysis.models import Candle, UserProfile, Symbol, SortedStocksList, StrategyTimestamp\n",
    "# from market_analysis import views\n",
    "from django.contrib.auth.models import User\n",
    "from heystox_intraday.select_stocks_for_trading import *\n",
    "import pandas as pd\n",
    "# from heystox_trade.settings import *\n",
    "from datetime import datetime, timedelta\n",
    "from heystox_intraday.intraday_fetchdata import *\n",
    "from market_analysis.tasks.stock_data_import_tasks import *\n",
    "from market_analysis.tasks.day_trading_tasks import *\n",
    "from django.core.cache import cache, caches\n",
    "from datetime import time"
   ]
  },
  {
   "cell_type": "code",
   "execution_count": 2,
   "metadata": {},
   "outputs": [],
   "source": [
    "# user = get_upstox_user(\"sonupal129@gmail.com\")\n",
    "# symbol = Symbol.objects.get(symbol=\"ashokley\")\n",
    "# # print(user.get_ohlc(user.get_instrument_by_symbol('NSE_EQ', 'bel'), OHLCInterval.Minute_1, datetime.strptime('12/12/2019', '%d/%m/%Y').date(), datetime.strptime('12/12/2019', '%d/%m/%Y').date()))\n",
    "# user.get_master_contract(\"NSE_EQ\")\n",
    "# user.get_master_contract(\"NSE_INDEX\")\n",
    "# # cache_candles_data(user, symbol)\n",
    "# # get_stock_current_candle(\"ashokley\")"
   ]
  },
  {
   "cell_type": "code",
   "execution_count": null,
   "metadata": {
    "scrolled": false
   },
   "outputs": [],
   "source": []
  },
  {
   "cell_type": "code",
   "execution_count": 3,
   "metadata": {},
   "outputs": [],
   "source": [
    "# def function_caller(start_time, end_time, func, *args, **kwargs):\n",
    "#     \"\"\"Call function on custom time with interval functionality using celery periodic task\"\"\"\n",
    "#     current_time = datetime.now().time()\n",
    "#     if start_time < current_time < end_time:\n",
    "#         func(*args, **kwargs)"
   ]
  },
  {
   "cell_type": "code",
   "execution_count": 4,
   "metadata": {},
   "outputs": [],
   "source": [
    "# def func(a,b):\n",
    "#     a= 3\n",
    "#     b = 4\n",
    "#     print(a+b)\n",
    "    \n",
    "# start = time(9,15)\n",
    "# end = time(15,30)\n",
    "    \n",
    "# function_caller(start,end, func, 3,4)"
   ]
  },
  {
   "cell_type": "code",
   "execution_count": null,
   "metadata": {
    "scrolled": true
   },
   "outputs": [],
   "source": []
  },
  {
   "cell_type": "code",
   "execution_count": 5,
   "metadata": {},
   "outputs": [
    {
     "name": "stdout",
     "output_type": "stream",
     "text": [
      "1\n"
     ]
    }
   ],
   "source": [
    "redis_cache = caches[\"redis\"]\n",
    "data = redis_cache.get(\"raju\")\n",
    "my_list = [\"Sonu\"]\n",
    "if not data:\n",
    "    print(1)"
   ]
  },
  {
   "cell_type": "code",
   "execution_count": 6,
   "metadata": {
    "scrolled": true
   },
   "outputs": [],
   "source": [
    "user = UserProfile.objects.first()\n",
    "uuser = user.get_upstox_user()"
   ]
  },
  {
   "cell_type": "code",
   "execution_count": 23,
   "metadata": {},
   "outputs": [],
   "source": [
    "symbol = Symbol.objects.get(symbol=\"jswsteel\")\n",
    "symbols = Symbol.objects.filter(modified_at__date=datetime.now().date())\n",
    "from heystox_intraday.intraday_functions_strategy import *"
   ]
  },
  {
   "cell_type": "code",
   "execution_count": 53,
   "metadata": {},
   "outputs": [
    {
     "data": {
      "text/plain": [
       "1.0"
      ]
     },
     "execution_count": 53,
     "metadata": {},
     "output_type": "execute_result"
    }
   ],
   "source": [
    "# for symbol in symbols:\n",
    "# #     print(symbol)\n",
    "#     print(symbol.has_entry_for_long_short())\n",
    "\n",
    "symbol.get_stock_movement()"
   ]
  },
  {
   "cell_type": "code",
   "execution_count": null,
   "metadata": {},
   "outputs": [],
   "source": []
  },
  {
   "cell_type": "code",
   "execution_count": null,
   "metadata": {},
   "outputs": [],
   "source": []
  }
 ],
 "metadata": {
  "kernelspec": {
   "display_name": "Django Shell-Plus",
   "language": "python",
   "name": "django_extensions"
  },
  "language_info": {
   "codemirror_mode": {
    "name": "ipython",
    "version": 3
   },
   "file_extension": ".py",
   "mimetype": "text/x-python",
   "name": "python",
   "nbconvert_exporter": "python",
   "pygments_lexer": "ipython3",
   "version": "3.7.3"
  }
 },
 "nbformat": 4,
 "nbformat_minor": 2
}
