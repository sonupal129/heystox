{
 "cells": [
  {
   "cell_type": "code",
   "execution_count": 2,
   "metadata": {},
   "outputs": [],
   "source": [
    "from market_analysis.models import Candle, UserProfile, Symbol, SortedStocksList, StrategyTimestamp\n",
    "# from market_analysis import views\n",
    "from django.contrib.auth.models import User\n",
    "from market_analysis.heystox_intraday.select_stocks_for_trading import *\n",
    "import pandas as pd\n",
    "# from heystox_trade.settings import *\n",
    "from datetime import datetime, timedelta\n",
    "from market_analysis.heystox_intraday.intraday_fetchdata import *\n",
    "from market_analysis.tasks.stock_data_import_tasks import *\n",
    "from market_analysis.tasks.day_trading_tasks import *\n",
    "from django.core.cache import cache, caches\n",
    "from datetime import time, timedelta, datetime\n",
    "from market_analysis.heystox_intraday.trading_indicator import *\n",
    "import time"
   ]
  },
  {
   "cell_type": "code",
   "execution_count": 15,
   "metadata": {},
   "outputs": [
    {
     "name": "stdout",
     "output_type": "stream",
     "text": [
      "2020-02-10 10:23:16.448391\n",
      "SELL\n"
     ]
    }
   ],
   "source": [
    "sorted_stocks = SortedStocksList.objects.filter(created_at__date=datetime.now().date())\n",
    "sorted_stock = SortedStocksList.objects.get(symbol__symbol=\"zeel\", created_at__date=datetime.now().date())\n",
    "print(sorted_stock.created_at)\n",
    "print(sorted_stock.entry_type)"
   ]
  },
  {
   "cell_type": "code",
   "execution_count": 17,
   "metadata": {
    "scrolled": true
   },
   "outputs": [
    {
     "name": "stdout",
     "output_type": "stream",
     "text": [
      "raju\n"
     ]
    },
    {
     "data": {
      "text/plain": [
       "candle_type                             M5\n",
       "open_price                           249.2\n",
       "high_price                           249.4\n",
       "low_price                           242.55\n",
       "close_price                            243\n",
       "volume                              974172\n",
       "total_buy_quantity                    None\n",
       "total_sell_quantity                   None\n",
       "date                   2020-02-10 09:15:00\n",
       "macd                              0.469266\n",
       "macd_signal                       0.809343\n",
       "macd_diff                        -0.340077\n",
       "percentage                       -0.001596\n",
       "signal                      SELL_CROSSOVER\n",
       "Name: 75, dtype: object"
      ]
     },
     "execution_count": 17,
     "metadata": {},
     "output_type": "execute_result"
    }
   ],
   "source": [
    "# MACD Crossover\n",
    "today_date = datetime.today().date()\n",
    "df = get_macd_data(sorted_stock.symbol)\n",
    "df.loc[(df[\"signal\"] != df[\"signal\"].shift()) & (df[\"signal\"] == \"BUY\"), \"signal\"] = \"BUY_CROSSOVER\"\n",
    "df.loc[(df[\"signal\"] != df[\"signal\"].shift()) & (df[\"signal\"] == \"SELL\"), \"signal\"] = \"SELL_CROSSOVER\"\n",
    "df = df.loc[df[\"date\"] > str(today_date)]\n",
    "new_df = df.copy(deep=True).drop(df.tail(1).index)\n",
    "try:\n",
    "    if sorted_stock.entry_type == \"SELL\":\n",
    "        last_crossover = new_df[new_df.signal.str.endswith(\"SELL_CROSSOVER\")].iloc[-1]\n",
    "    elif sorted_stock.entry_type == \"BUY\":\n",
    "        last_crossover = new_df[new_df.signal.str.endswith(\"BUY_CROSSOVER\")].iloc[-1]\n",
    "except:\n",
    "    last_crossover = None\n",
    "if last_crossover is not None:\n",
    "    df_after_last_crossover = df.loc[df[\"date\"] > last_crossover.date]\n",
    "    try:\n",
    "        if last_crossover.signal == \"SELL_CROSSOVER\":\n",
    "            crossover_signal = df_after_last_crossover.loc[(df.macd_diff <= -0.070)].iloc[0]\n",
    "        elif last_crossover.signal == \"BUY_CROSSOVER\":\n",
    "            crossover_signal = df_after_last_crossover.loc[(df.macd_diff >= 0.070)].iloc[0]\n",
    "    except:\n",
    "        crossover_signal = None\n",
    "    if crossover_signal is not None:\n",
    "        print(\"raju\")\n",
    "#         print(crossover_signal.item)\n",
    "df.loc[(df.macd_diff <= -0.070)] # Signal\n",
    "# df[df.signal.str.endswith(\"SELL_CROSSOVER\")] # Crossover\n",
    "last_crossover"
   ]
  },
  {
   "cell_type": "code",
   "execution_count": 20,
   "metadata": {},
   "outputs": [
    {
     "data": {
      "text/html": [
       "<div>\n",
       "<style scoped>\n",
       "    .dataframe tbody tr th:only-of-type {\n",
       "        vertical-align: middle;\n",
       "    }\n",
       "\n",
       "    .dataframe tbody tr th {\n",
       "        vertical-align: top;\n",
       "    }\n",
       "\n",
       "    .dataframe thead th {\n",
       "        text-align: right;\n",
       "    }\n",
       "</style>\n",
       "<table border=\"1\" class=\"dataframe\">\n",
       "  <thead>\n",
       "    <tr style=\"text-align: right;\">\n",
       "      <th></th>\n",
       "      <th>candle_type</th>\n",
       "      <th>open_price</th>\n",
       "      <th>high_price</th>\n",
       "      <th>low_price</th>\n",
       "      <th>close_price</th>\n",
       "      <th>volume</th>\n",
       "      <th>total_buy_quantity</th>\n",
       "      <th>total_sell_quantity</th>\n",
       "      <th>date</th>\n",
       "      <th>stoch</th>\n",
       "      <th>stoch_signal</th>\n",
       "      <th>stoch_diff</th>\n",
       "      <th>percentage</th>\n",
       "      <th>signal</th>\n",
       "    </tr>\n",
       "  </thead>\n",
       "  <tbody>\n",
       "    <tr>\n",
       "      <th>79</th>\n",
       "      <td>M5</td>\n",
       "      <td>243.90</td>\n",
       "      <td>244.00</td>\n",
       "      <td>242.55</td>\n",
       "      <td>242.60</td>\n",
       "      <td>221892</td>\n",
       "      <td>None</td>\n",
       "      <td>None</td>\n",
       "      <td>2020-02-10 09:35:00</td>\n",
       "      <td>12.060302</td>\n",
       "      <td>16.582915</td>\n",
       "      <td>-4.522613</td>\n",
       "      <td>-0.545441</td>\n",
       "      <td>SELL_CROSSOVER</td>\n",
       "    </tr>\n",
       "    <tr>\n",
       "      <th>84</th>\n",
       "      <td>M5</td>\n",
       "      <td>238.80</td>\n",
       "      <td>238.80</td>\n",
       "      <td>237.25</td>\n",
       "      <td>238.10</td>\n",
       "      <td>265314</td>\n",
       "      <td>None</td>\n",
       "      <td>None</td>\n",
       "      <td>2020-02-10 10:00:00</td>\n",
       "      <td>10.169492</td>\n",
       "      <td>10.935111</td>\n",
       "      <td>-0.765620</td>\n",
       "      <td>-0.077860</td>\n",
       "      <td>SELL_CROSSOVER</td>\n",
       "    </tr>\n",
       "    <tr>\n",
       "      <th>87</th>\n",
       "      <td>M5</td>\n",
       "      <td>238.50</td>\n",
       "      <td>238.55</td>\n",
       "      <td>236.10</td>\n",
       "      <td>236.90</td>\n",
       "      <td>439294</td>\n",
       "      <td>None</td>\n",
       "      <td>None</td>\n",
       "      <td>2020-02-10 10:15:00</td>\n",
       "      <td>5.555556</td>\n",
       "      <td>10.037004</td>\n",
       "      <td>-4.481448</td>\n",
       "      <td>-0.248969</td>\n",
       "      <td>SELL_CROSSOVER</td>\n",
       "    </tr>\n",
       "    <tr>\n",
       "      <th>90</th>\n",
       "      <td>M5</td>\n",
       "      <td>236.65</td>\n",
       "      <td>236.75</td>\n",
       "      <td>234.00</td>\n",
       "      <td>234.35</td>\n",
       "      <td>831654</td>\n",
       "      <td>None</td>\n",
       "      <td>None</td>\n",
       "      <td>2020-02-10 10:30:00</td>\n",
       "      <td>3.500000</td>\n",
       "      <td>6.125266</td>\n",
       "      <td>-2.625266</td>\n",
       "      <td>-0.091884</td>\n",
       "      <td>SELL_CROSSOVER</td>\n",
       "    </tr>\n",
       "  </tbody>\n",
       "</table>\n",
       "</div>"
      ],
      "text/plain": [
       "   candle_type  open_price  high_price  low_price  close_price  volume  \\\n",
       "79          M5      243.90      244.00     242.55       242.60  221892   \n",
       "84          M5      238.80      238.80     237.25       238.10  265314   \n",
       "87          M5      238.50      238.55     236.10       236.90  439294   \n",
       "90          M5      236.65      236.75     234.00       234.35  831654   \n",
       "\n",
       "   total_buy_quantity total_sell_quantity                date      stoch  \\\n",
       "79               None                None 2020-02-10 09:35:00  12.060302   \n",
       "84               None                None 2020-02-10 10:00:00  10.169492   \n",
       "87               None                None 2020-02-10 10:15:00   5.555556   \n",
       "90               None                None 2020-02-10 10:30:00   3.500000   \n",
       "\n",
       "    stoch_signal  stoch_diff  percentage          signal  \n",
       "79     16.582915   -4.522613   -0.545441  SELL_CROSSOVER  \n",
       "84     10.935111   -0.765620   -0.077860  SELL_CROSSOVER  \n",
       "87     10.037004   -4.481448   -0.248969  SELL_CROSSOVER  \n",
       "90      6.125266   -2.625266   -0.091884  SELL_CROSSOVER  "
      ]
     },
     "execution_count": 20,
     "metadata": {},
     "output_type": "execute_result"
    }
   ],
   "source": [
    "# Shochastic Crossover\n",
    "today_date = datetime.today().date()\n",
    "df = get_stochastic_data(sorted_stock.symbol)\n",
    "df.loc[(df[\"signal\"] != df[\"signal\"].shift()) & (df[\"signal\"] == \"BUY\"), \"signal\"] = \"BUY_CROSSOVER\"\n",
    "df.loc[(df[\"signal\"] != df[\"signal\"].shift()) & (df[\"signal\"] == \"SELL\"), \"signal\"] = \"SELL_CROSSOVER\"\n",
    "df = df.loc[df[\"date\"] > str(today_date)]\n",
    "try:\n",
    "    if sorted_stock.entry_type == \"SELL\":\n",
    "        last_crossover = df[df.signal.str.endswith(\"SELL_CROSSOVER\")].iloc[-6]\n",
    "    elif sorted_stock.entry_type == \"BUY\":\n",
    "        last_crossover = df[df.signal.str.endswith(\"BUY_CROSSOVER\")].iloc[-1]\n",
    "except:\n",
    "    last_crossover = None\n",
    "if last_crossover is not None:\n",
    "    df_after_last_crossover = df.loc[df[\"date\"] > last_crossover.date]\n",
    "    try:\n",
    "        if last_crossover.signal == \"SELL_CROSSOVER\":\n",
    "            crossover_signal = df_after_last_crossover.loc[(df.stoch_diff <= -22.70)].iloc[0]\n",
    "        elif last_crossover.signal == \"BUY_CROSSOVER\":\n",
    "            crossover_signal = df_after_last_crossover.loc[(df.stoch_diff >= 0.070)].iloc[0]\n",
    "    except:\n",
    "        crossover_signal = None\n",
    "    if crossover_signal is not None and last_crossover is not None:\n",
    "        print(\"RAJU\")\n",
    "# df.loc[(df.stoch_diff <= -22.70)] # Signal\n",
    "df[df.signal.str.endswith(\"SELL_CROSSOVER\")] # Crossover"
   ]
  },
  {
   "cell_type": "code",
   "execution_count": null,
   "metadata": {},
   "outputs": [],
   "source": []
  },
  {
   "cell_type": "code",
   "execution_count": 5,
   "metadata": {
    "scrolled": true
   },
   "outputs": [],
   "source": [
    "# raju = [\"adanient\", \"bhel\", \"dlf\", \"gmrinfra\", \"gail\", \"infratel\", \"ioc\", \"idea\", \"nhpc\", \"pnb\", \"relinfra\", \"recltd\", \"spencers\", \"tatapower\", \"vakrangee\", \"yesbank\", \"ujjivansfb\", \"granules\", \"mothersumi\", \"adanipower\", \"dishtv\", \"sail\", \"nationalum\", \"jswsteel\", \"federalbnk\", \"jindalstel\", \"idfcfirstb\", \"rvnl\", \"equitas\"]\n",
    "# fifth = date(2020,1,25)\n",
    "# for r in raju:\n",
    "#     symbol = Symbol.objects.get(symbol=r)\n",
    "#     SortedStocksList.objects.create(symbol=symbol, entry_type=\"BUY\")\n",
    "# # Candle.objects.filter(date__date=fifth, symbol__symbol__in=raju)\n",
    "# for candle in Candle.objects.filter(date__date=fifth, symbol__symbol__in=raju):\n",
    "#     candle.date = candle.date + timedelta(1)\n",
    "#     candle.save()"
   ]
  },
  {
   "cell_type": "code",
   "execution_count": 11,
   "metadata": {},
   "outputs": [
    {
     "data": {
      "text/plain": [
       "b'{\"message\":\"When Content-Type:application/x-www-form-urlencoded, URL cannot include query-string parameters (after \\'?\\'): \\'/index/dialog/authorize?apiKey=VpcuCaUDK91y9JPy358T19nUWtq0UF6J8Yl3qVmr&redirect_uri=http%3A%2F%2F127.0.0.1%3A8000%2F&response_type=code\\'\"}'"
      ]
     },
     "execution_count": 11,
     "metadata": {},
     "output_type": "execute_result"
    }
   ],
   "source": [
    "import requests\n",
    "from bs4 import BeautifulSoup\n",
    "user = UserProfile.objects.get(user__email=\"sonupal129@gmail.com\")\n",
    "payload = {\"username\": 308687, \"password\": \"Sonupal!@9\", \"password2fa\": 1990, \"TOKEN\":\"fbe2c9352ed86c06c20f003bee0babee7d6831a413026b670a907bf27789a4ff\"}\n",
    "headers= {\"Host\": \"www1.nseindia.com\", \n",
    "            \"Cache-Control\": \"max-age=0\",\n",
    "            \"Upgrade-Insecure-Requests\": \"1\", \"User-Agent\": \"Mozilla/5.0 (Macintosh; Intel Mac OS X 10_14_6) AppleWebKit/537.36 (KHTML, like Gecko) Chrome/78.0.3904.108 Safari/537.36\",\n",
    "             \"Accept\": \"text/html,application/xhtml+xml,application/xml;q=0.9,image/webp,image/apng,*/*;q=0.8,application/signed-exchange;v=b3\",\n",
    "             }\n",
    "# print(response.text.encode('utf8'))\n",
    "# url_request.text.encode(\"utf-8\")\n",
    "response = requests.post(user.get_authentication_url(), data=payload)\n",
    "response.content"
   ]
  },
  {
   "cell_type": "code",
   "execution_count": null,
   "metadata": {
    "scrolled": true
   },
   "outputs": [],
   "source": []
  },
  {
   "cell_type": "code",
   "execution_count": 7,
   "metadata": {},
   "outputs": [],
   "source": [
    "# from django.conf import settings\n",
    "# def import_daily_losers_gainers():\n",
    "#     urls = {\n",
    "#             \"BUY\": [\"https://www1.nseindia.com/live_market/dynaContent/live_analysis/gainers/niftyGainers1.json\",\n",
    "#                     \"https://www1.nseindia.com/live_market/dynaContent/live_analysis/gainers/jrNiftyGainers1.json\"],\n",
    "#             \"SELL\": [\"https://www1.nseindia.com/live_market/dynaContent/live_analysis/losers/niftyLosers1.json\",\n",
    "#                     \"https://www1.nseindia.com/live_market/dynaContent/live_analysis/losers/jrNiftyLosers1.json\"]\n",
    "#         }\n",
    "    \n",
    "#     nifty_movement = Symbol.objects.get(symbol=\"nifty_50\").get_nifty_movement()\n",
    "    \n",
    "#     def response_filter(obj):\n",
    "#         open_price = obj.get(\"openPrice\")\n",
    "#         change = float(obj.get(\"netPrice\"))\n",
    "#         if \",\" in open_price:\n",
    "#             open_price = open_price.replace(\",\",\"\")\n",
    "#         open_price = float(open_price)\n",
    "#         if open_price >= 100 and open_price <= 300 and change >= 1.2:\n",
    "#             return obj\n",
    "        \n",
    "    \n",
    "#     if nifty_movement in (\"BUY\", \"SELL\"):\n",
    "#         import_urls = urls.get(nifty_movement)\n",
    "#         if import_urls:\n",
    "#             for url in import_urls:\n",
    "#                 response = requests.get(url, headers=settings.NSE_HEADERS)\n",
    "#                 if response.status_code == 200:\n",
    "#                     responses = filter(response_filter, response.json().get(\"data\"))\n",
    "#                     for symbol in responses:\n",
    "#                         try:\n",
    "#                             stock = Symbol.objects.get(symbol=symbol.get(\"symbol\").lower())\n",
    "#                         except:\n",
    "#                             stock = None\n",
    "#                         if stock:\n",
    "#                             SortedStocksList.objects.get_or_create(symbol=stock, entry_type=nifty_movement, created_at__date=datetime.now().date())\n",
    "#                     return f\"Data imported successfully! from {url}\"\n",
    "#                 return slack_message_sender.delay(channel=\"#random\", text=f\"Incorrect Url: {url}\")\n",
    "#             return \"All Urls Data Imported Succefully\""
   ]
  },
  {
   "cell_type": "code",
   "execution_count": null,
   "metadata": {},
   "outputs": [],
   "source": []
  },
  {
   "cell_type": "code",
   "execution_count": null,
   "metadata": {},
   "outputs": [],
   "source": []
  },
  {
   "cell_type": "code",
   "execution_count": null,
   "metadata": {},
   "outputs": [],
   "source": []
  }
 ],
 "metadata": {
  "kernelspec": {
   "display_name": "Django Shell-Plus",
   "language": "python",
   "name": "django_extensions"
  },
  "language_info": {
   "codemirror_mode": {
    "name": "ipython",
    "version": 3
   },
   "file_extension": ".py",
   "mimetype": "text/x-python",
   "name": "python",
   "nbconvert_exporter": "python",
   "pygments_lexer": "ipython3",
   "version": "3.7.3"
  }
 },
 "nbformat": 4,
 "nbformat_minor": 2
}
