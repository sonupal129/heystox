{
 "cells": [
  {
   "cell_type": "code",
   "execution_count": 1,
   "metadata": {},
   "outputs": [],
   "source": [
    "from market_analysis.models import Candle, UserProfile, Symbol\n",
    "# from market_analysis import views\n",
    "from django.contrib.auth.models import User\n",
    "from heystox_intraday.select_stocks_for_trading import *\n",
    "import pandas as pd\n",
    "# from heystox_trade.settings import *\n",
    "from datetime import datetime, timedelta"
   ]
  },
  {
   "cell_type": "code",
   "execution_count": 2,
   "metadata": {},
   "outputs": [
    {
     "name": "stdout",
     "output_type": "stream",
     "text": [
      "507\n",
      "0\n",
      "0\n",
      "507\n",
      "0\n",
      "507\n"
     ]
    }
   ],
   "source": [
    "symbols = get_stocks_for_trading(50,250)\n",
    "print(symbols.count())\n",
    "buy = []\n",
    "sell = []\n",
    "nas = []\n",
    "dim = []\n",
    "for s in symbols:\n",
    "    try:\n",
    "        sym = s.is_stock_ohl(date='24/07/2019')\n",
    "    except:\n",
    "        sym = None\n",
    "        nas.append(\"NA\")\n",
    "    if sym == \"BUY\":\n",
    "        buy.append(sym)\n",
    "    elif sym == \"SELL\":\n",
    "        sell.append(sym)\n",
    "print(len(buy))\n",
    "print(len(sell))\n",
    "print(len(nas))\n",
    "print(len(dim))\n",
    "s = len(buy) + len(sell) + len(nas) + len(dim)\n",
    "print(s)"
   ]
  },
  {
   "cell_type": "code",
   "execution_count": 3,
   "metadata": {
    "scrolled": false
   },
   "outputs": [
    {
     "data": {
      "text/plain": [
       "5 Minute    91949\n",
       "Name: my_type, dtype: int64"
      ]
     },
     "execution_count": 3,
     "metadata": {},
     "output_type": "execute_result"
    }
   ],
   "source": [
    "obj = Candle.objects.all().values()\n",
    "# new_header = [\"Exchange\", \"Token\", \"NA\", \"Symbol\", \"Full Name\", \"closed_price\", \"NA1\", \"NA2\", \"Tick Size\", \"Lot Size\", \"Instrument Type\", \"ISIN\"]\n",
    "df = pd.DataFrame(list(obj))\n",
    "my_dict = {\"M5\": \"5 Minute\"}\n",
    "# df = df[\"open_price\"]\n",
    "# obj.columns = new_header\n",
    "# new_obj = obj[(obj.close_price >= 55) & (obj.close_price <= 250)]\n",
    "df[\"my_type\"] = [my_dict.get(d) for d in df[\"candle_type\"]]\n",
    "df[\"my_type\"].value_counts()"
   ]
  },
  {
   "cell_type": "code",
   "execution_count": 8,
   "metadata": {},
   "outputs": [
    {
     "data": {
      "text/plain": [
       "<UserProfile: sonupal129@gmail.com>"
      ]
     },
     "execution_count": 8,
     "metadata": {},
     "output_type": "execute_result"
    }
   ],
   "source": [
    "u = User.objects.first()\n",
    "u.user_profile"
   ]
  },
  {
   "cell_type": "code",
   "execution_count": null,
   "metadata": {},
   "outputs": [],
   "source": []
  },
  {
   "cell_type": "code",
   "execution_count": null,
   "metadata": {},
   "outputs": [],
   "source": []
  },
  {
   "cell_type": "code",
   "execution_count": null,
   "metadata": {},
   "outputs": [],
   "source": []
  },
  {
   "cell_type": "code",
   "execution_count": null,
   "metadata": {},
   "outputs": [],
   "source": []
  }
 ],
 "metadata": {
  "kernelspec": {
   "display_name": "Django Shell-Plus",
   "language": "python",
   "name": "django_extensions"
  },
  "language_info": {
   "codemirror_mode": {
    "name": "ipython",
    "version": 3
   },
   "file_extension": ".py",
   "mimetype": "text/x-python",
   "name": "python",
   "nbconvert_exporter": "python",
   "pygments_lexer": "ipython3",
   "version": "3.7.3"
  }
 },
 "nbformat": 4,
 "nbformat_minor": 2
}
