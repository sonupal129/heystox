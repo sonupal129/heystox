{
 "cells": [
  {
   "cell_type": "code",
   "execution_count": 14,
   "metadata": {},
   "outputs": [],
   "source": [
    "from market_analysis.models import Candle, UserProfile, Symbol, SortedStocksList, StrategyTimestamp\n",
    "# from market_analysis import views\n",
    "from django.contrib.auth.models import User\n",
    "from heystox_intraday.select_stocks_for_trading import *\n",
    "import pandas as pd\n",
    "# from heystox_trade.settings import *\n",
    "from datetime import datetime, timedelta\n",
    "from heystox_intraday.intraday_fetchdata import *\n",
    "from market_analysis.tasks.stock_data_import_tasks import *\n",
    "from market_analysis.tasks.day_trading_tasks import *\n",
    "from django.core.cache import cache, caches\n",
    "from datetime import time"
   ]
  },
  {
   "cell_type": "code",
   "execution_count": 2,
   "metadata": {},
   "outputs": [],
   "source": [
    "# user = get_upstox_user(\"sonupal129@gmail.com\")\n",
    "# symbol = Symbol.objects.get(symbol=\"ashokley\")\n",
    "# # print(user.get_ohlc(user.get_instrument_by_symbol('NSE_EQ', 'bel'), OHLCInterval.Minute_1, datetime.strptime('12/12/2019', '%d/%m/%Y').date(), datetime.strptime('12/12/2019', '%d/%m/%Y').date()))\n",
    "# user.get_master_contract(\"NSE_EQ\")\n",
    "# user.get_master_contract(\"NSE_INDEX\")\n",
    "# # cache_candles_data(user, symbol)\n",
    "# # get_stock_current_candle(\"ashokley\")"
   ]
  },
  {
   "cell_type": "code",
   "execution_count": null,
   "metadata": {
    "scrolled": false
   },
   "outputs": [],
   "source": []
  },
  {
   "cell_type": "code",
   "execution_count": 3,
   "metadata": {},
   "outputs": [],
   "source": [
    "# def function_caller(start_time, end_time, func, *args, **kwargs):\n",
    "#     \"\"\"Call function on custom time with interval functionality using celery periodic task\"\"\"\n",
    "#     current_time = datetime.now().time()\n",
    "#     if start_time < current_time < end_time:\n",
    "#         func(*args, **kwargs)"
   ]
  },
  {
   "cell_type": "code",
   "execution_count": 4,
   "metadata": {},
   "outputs": [],
   "source": [
    "# def func(a,b):\n",
    "#     a= 3\n",
    "#     b = 4\n",
    "#     print(a+b)\n",
    "    \n",
    "# start = time(9,15)\n",
    "# end = time(15,30)\n",
    "    \n",
    "# function_caller(start,end, func, 3,4)"
   ]
  },
  {
   "cell_type": "code",
   "execution_count": null,
   "metadata": {
    "scrolled": true
   },
   "outputs": [],
   "source": []
  },
  {
   "cell_type": "code",
   "execution_count": null,
   "metadata": {},
   "outputs": [],
   "source": []
  },
  {
   "cell_type": "code",
   "execution_count": 5,
   "metadata": {
    "scrolled": true
   },
   "outputs": [],
   "source": [
    "user = UserProfile.objects.first()\n",
    "uuser = user.get_upstox_user()"
   ]
  },
  {
   "cell_type": "code",
   "execution_count": 6,
   "metadata": {},
   "outputs": [],
   "source": [
    "symbol = Symbol.objects.get(symbol=\"jswsteel\")\n",
    "symbols = Symbol.objects.filter(modified_at__date=datetime.now().date())\n",
    "from heystox_intraday.intraday_functions_strategy import *"
   ]
  },
  {
   "cell_type": "code",
   "execution_count": null,
   "metadata": {},
   "outputs": [],
   "source": []
  },
  {
   "cell_type": "code",
   "execution_count": 7,
   "metadata": {},
   "outputs": [
    {
     "data": {
      "text/plain": [
       "datetime.date(2019, 12, 27)"
      ]
     },
     "execution_count": 7,
     "metadata": {},
     "output_type": "execute_result"
    }
   ],
   "source": [
    "from datetime import date, time\n",
    "end_date = date(2019,12,27)\n",
    "# start_date = end_date - timedelta(0)\n",
    "end_date"
   ]
  },
  {
   "cell_type": "code",
   "execution_count": 8,
   "metadata": {},
   "outputs": [],
   "source": [
    "# MarketHoliday.objects.filter(date__lte=datetime.today().date()).last().date"
   ]
  },
  {
   "cell_type": "code",
   "execution_count": 20,
   "metadata": {},
   "outputs": [],
   "source": [
    "dlf = Symbol.objects.get(symbol=\"nifty_50\")\n",
    "closing_price = dlf.get_day_closing_price(date=end_date)\n",
    "# stock_data = dlf.get_stock_data(end_date=end_date, days=0)\n",
    "# stock_data.last().close_price"
   ]
  },
  {
   "cell_type": "code",
   "execution_count": 10,
   "metadata": {},
   "outputs": [],
   "source": [
    "# current_price = 30\n",
    "# day_low = -20\n",
    "# day_high = 30\n",
    "# print(day_low - current_price)\n",
    "# print(day_high - current_price)\n",
    "# (day_low - current_price) < (day_high - current_price)"
   ]
  },
  {
   "cell_type": "code",
   "execution_count": 30,
   "metadata": {},
   "outputs": [
    {
     "data": {
      "text/plain": [
       "<SortedStocksList: nifty_50 | 2020-01-02>"
      ]
     },
     "execution_count": 30,
     "metadata": {},
     "output_type": "execute_result"
    }
   ],
   "source": [
    "dlf\n",
    "SortedStocksList.objects.create(symbol=dlf, entry_type=\"SB\")"
   ]
  },
  {
   "cell_type": "code",
   "execution_count": 28,
   "metadata": {},
   "outputs": [
    {
     "name": "stdout",
     "output_type": "stream",
     "text": [
      "32 -20\n"
     ]
    }
   ],
   "source": [
    "high = 12992\n",
    "low = 12940\n",
    "current = 12960\n",
    "yesterday_closing = 12550\n",
    "r = low-current\n",
    "p = high-current\n",
    "print(p, r)"
   ]
  },
  {
   "cell_type": "code",
   "execution_count": 32,
   "metadata": {},
   "outputs": [
    {
     "data": {
      "text/plain": [
       "1568"
      ]
     },
     "execution_count": 32,
     "metadata": {},
     "output_type": "execute_result"
    }
   ],
   "source": [
    "Symbol.objects.first().pk"
   ]
  },
  {
   "cell_type": "code",
   "execution_count": null,
   "metadata": {},
   "outputs": [],
   "source": []
  }
 ],
 "metadata": {
  "kernelspec": {
   "display_name": "Django Shell-Plus",
   "language": "python",
   "name": "django_extensions"
  },
  "language_info": {
   "codemirror_mode": {
    "name": "ipython",
    "version": 3
   },
   "file_extension": ".py",
   "mimetype": "text/x-python",
   "name": "python",
   "nbconvert_exporter": "python",
   "pygments_lexer": "ipython3",
   "version": "3.7.3"
  }
 },
 "nbformat": 4,
 "nbformat_minor": 2
}
